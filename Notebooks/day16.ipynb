{
 "cells": [
  {
   "cell_type": "code",
   "execution_count": 1,
   "metadata": {},
   "outputs": [],
   "source": [
    "data = open('../inputs/input-day16').read().rstrip()"
   ]
  },
  {
   "cell_type": "code",
   "execution_count": 2,
   "metadata": {},
   "outputs": [],
   "source": [
    "def to_binary(hex_data):\n",
    "    binary = \"\"\n",
    "    for d in hex_data:\n",
    "        binary += bin(int(d, 16))[2:].zfill(4)\n",
    "    return binary"
   ]
  },
  {
   "cell_type": "code",
   "execution_count": 3,
   "metadata": {},
   "outputs": [],
   "source": [
    "def literal(data):\n",
    "    ans = data[1:5]\n",
    "    while data[0] == '1':\n",
    "        data = data[5:]\n",
    "        ans += data[1:5]\n",
    "    return int(ans, 2), data[5:]"
   ]
  },
  {
   "cell_type": "code",
   "execution_count": 4,
   "metadata": {},
   "outputs": [],
   "source": [
    "def process_packets(dic, data):\n",
    "    if data[0] == '0':\n",
    "        bit_amount = int(data[1:16], 2)\n",
    "        rest = data[16 + bit_amount:]\n",
    "        data = data[16:16 + bit_amount]\n",
    "        while len(data) > 0:\n",
    "            p, _rest = packet(data)\n",
    "            dic['packets'].append(p)\n",
    "            data = _rest\n",
    "        return rest\n",
    "\n",
    "    else:\n",
    "        num_packets = int(data[1:12], 2)\n",
    "        data = data[12:]\n",
    "        while num_packets > 0:\n",
    "            p, rest = packet(data)\n",
    "            dic['packets'].append(p)\n",
    "            data = rest\n",
    "            num_packets -= 1\n",
    "        return rest"
   ]
  },
  {
   "cell_type": "code",
   "execution_count": 5,
   "metadata": {},
   "outputs": [],
   "source": [
    "def packet(data):\n",
    "    if len(data) < 7:\n",
    "        return {}, \"\"\n",
    "    \n",
    "    ans = {\"version\" : int(data[:3], 2),\n",
    "           \"type\" :    int(data[3:6], 2),\n",
    "           \"number\" :  None,\n",
    "           \"packets\" : []}\n",
    "\n",
    "    data = data[6:]\n",
    "    rest = \"\"\n",
    "    \n",
    "    if ans[\"type\"] == 4:\n",
    "        ans['number'], rest = literal(data)\n",
    "    \n",
    "    else:\n",
    "        rest = process_packets(ans, data)\n",
    "    \n",
    "    return ans, rest"
   ]
  },
  {
   "cell_type": "code",
   "execution_count": 6,
   "metadata": {},
   "outputs": [],
   "source": [
    "def sum_version(dic):\n",
    "    ans = dic.get('version', 0)\n",
    "    for p in dic.get('packets', []):\n",
    "        ans += sum_version(p)\n",
    "    return ans"
   ]
  },
  {
   "cell_type": "code",
   "execution_count": 7,
   "metadata": {},
   "outputs": [],
   "source": [
    "binary = to_binary(data)\n",
    "p = packet(binary)[0]"
   ]
  },
  {
   "cell_type": "code",
   "execution_count": 8,
   "metadata": {},
   "outputs": [
    {
     "data": {
      "text/plain": [
       "977"
      ]
     },
     "execution_count": 8,
     "metadata": {},
     "output_type": "execute_result"
    }
   ],
   "source": [
    "sum_version(p)"
   ]
  },
  {
   "cell_type": "markdown",
   "metadata": {},
   "source": [
    "-----\n",
    "## Math Operations"
   ]
  },
  {
   "cell_type": "code",
   "execution_count": 9,
   "metadata": {},
   "outputs": [],
   "source": [
    "from math import prod"
   ]
  },
  {
   "cell_type": "code",
   "execution_count": 10,
   "metadata": {},
   "outputs": [],
   "source": [
    "def get_total(dic):\n",
    "    if dic['type'] == 4:\n",
    "        return dic['number']\n",
    "    packets = dic.get('packets', [])\n",
    "    if dic['type'] == 0:\n",
    "        return sum([get_total(p) for p in packets])\n",
    "    if dic['type'] == 1:\n",
    "        return prod([get_total(p) for p in packets])\n",
    "    if dic['type'] == 2:\n",
    "        return min([get_total(p) for p in packets])\n",
    "    if dic['type'] == 3:\n",
    "        return max([get_total(p) for p in packets])\n",
    "    if dic['type'] == 5:\n",
    "        return 1 if get_total(packets[0]) > get_total(packets[1]) else 0\n",
    "    if dic['type'] == 6:\n",
    "        return 1 if get_total(packets[0]) < get_total(packets[1]) else 0\n",
    "    if dic['type'] == 7:\n",
    "        return 1 if get_total(packets[0]) == get_total(packets[1]) else 0"
   ]
  },
  {
   "cell_type": "code",
   "execution_count": 11,
   "metadata": {},
   "outputs": [
    {
     "data": {
      "text/plain": [
       "101501020883"
      ]
     },
     "execution_count": 11,
     "metadata": {},
     "output_type": "execute_result"
    }
   ],
   "source": [
    "get_total(p)"
   ]
  },
  {
   "cell_type": "code",
   "execution_count": null,
   "metadata": {},
   "outputs": [],
   "source": []
  }
 ],
 "metadata": {
  "kernelspec": {
   "display_name": "Python 3",
   "language": "python",
   "name": "python3"
  },
  "language_info": {
   "codemirror_mode": {
    "name": "ipython",
    "version": 3
   },
   "file_extension": ".py",
   "mimetype": "text/x-python",
   "name": "python",
   "nbconvert_exporter": "python",
   "pygments_lexer": "ipython3",
   "version": "3.9.9"
  }
 },
 "nbformat": 4,
 "nbformat_minor": 4
}
