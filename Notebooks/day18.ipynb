{
 "cells": [
  {
   "cell_type": "code",
   "execution_count": 1,
   "id": "5ebc2da3-2457-4d92-84e6-a6694b3e458c",
   "metadata": {},
   "outputs": [],
   "source": [
    "from math import ceil, floor"
   ]
  },
  {
   "cell_type": "code",
   "execution_count": 2,
   "id": "7fb15971-e183-440f-98f4-4586f96d920f",
   "metadata": {},
   "outputs": [],
   "source": [
    "data = open('../inputs/input-day18').read().splitlines()"
   ]
  },
  {
   "cell_type": "markdown",
   "id": "365d4993-9b67-42e1-860f-6b7024c60762",
   "metadata": {},
   "source": [
    "Python can evaluate these as nested lists:"
   ]
  },
  {
   "cell_type": "code",
   "execution_count": 3,
   "id": "bef82842-705b-4d95-a0c0-24bede9c7367",
   "metadata": {},
   "outputs": [],
   "source": [
    "lines = [eval(l) for l in data]"
   ]
  },
  {
   "cell_type": "markdown",
   "id": "4cc5f3c1-a01e-42b4-8316-1933da732df9",
   "metadata": {},
   "source": [
    "Define a node class so I can go up and down using \"parent\", \"left\", \"right\". Also a nice \"add\" method to defined the sum a -> [a,b]."
   ]
  },
  {
   "cell_type": "code",
   "execution_count": 4,
   "id": "aad37b09-80a0-4788-b2f0-f0aaac475b45",
   "metadata": {},
   "outputs": [],
   "source": [
    "class Node():\n",
    "    def __init__(self, value=None):\n",
    "        self.value = value\n",
    "        self.left = None\n",
    "        self.right = None\n",
    "        self.parent = None\n",
    "\n",
    "    def __repr__(self):\n",
    "        if self.value is not None:\n",
    "            return str(self.value)\n",
    "        else:\n",
    "            return f\"[{self.left}, {self.right}]\"\n",
    "        \n",
    "    def add(self, right):\n",
    "        root = Node()\n",
    "        root.left = self\n",
    "        root.right = right\n",
    "        root.left.parent = root\n",
    "        root.right.parent = root\n",
    "        return root"
   ]
  },
  {
   "cell_type": "markdown",
   "id": "b15b7d11-8a9a-47cd-ba22-7e5b5220da9b",
   "metadata": {},
   "source": [
    "Converting the nested lists into a tree structure using the Node class:"
   ]
  },
  {
   "cell_type": "code",
   "execution_count": 5,
   "id": "3c4aac5b-d8b4-4214-bb4e-ac5472587cce",
   "metadata": {},
   "outputs": [],
   "source": [
    "def build_nodes(line):\n",
    "    if type(line) == int:\n",
    "        return Node(line)\n",
    "    \n",
    "    root = Node()\n",
    "    root.left = build_nodes(line[0])\n",
    "    root.right = build_nodes(line[1])\n",
    "    \n",
    "    root.left.parent = root\n",
    "    root.right.parent = root\n",
    "    \n",
    "    return root"
   ]
  },
  {
   "cell_type": "markdown",
   "id": "bd5c8600-7e99-44b7-bd7f-bc16aa8fddd4",
   "metadata": {},
   "source": [
    "2 functions to find the previous and next leaves; for example, to find the previous, go up until we're not the left sun, then go left and find the right-most leaf. To find the next, we exchange left-right. "
   ]
  },
  {
   "cell_type": "code",
   "execution_count": 6,
   "id": "1642d200-a99d-4b40-89d0-ba24ed68d08c",
   "metadata": {},
   "outputs": [],
   "source": [
    "def find_prev(node):\n",
    "    while node.parent:\n",
    "        if node.parent.left != node:\n",
    "            break\n",
    "        else:\n",
    "            node = node.parent\n",
    "    node = node.parent\n",
    "    if node is None:\n",
    "        return None\n",
    "    node = node.left\n",
    "    while node.right:\n",
    "        node = node.right\n",
    "    return node"
   ]
  },
  {
   "cell_type": "code",
   "execution_count": 7,
   "id": "cc848d3e-5457-4852-b56c-41b811f3b234",
   "metadata": {},
   "outputs": [],
   "source": [
    "def find_next(node):\n",
    "    while node.parent:\n",
    "        if node.parent.right != node:\n",
    "            break\n",
    "        else:\n",
    "            node = node.parent\n",
    "    node = node.parent\n",
    "    if node is None:\n",
    "        return None\n",
    "    node = node.right\n",
    "    while node.left:\n",
    "        node = node.left\n",
    "    return node"
   ]
  },
  {
   "cell_type": "markdown",
   "id": "c6d24a7d-3811-4fe5-87cb-bf3b61e75b31",
   "metadata": {},
   "source": [
    "### Split\n",
    "This is the meat of the question: splitting is finding values >= 10 and replacing them with two leaves. The trick is propagating the fact that we did it somewhere in the tree so we only do it once, per the requirements. "
   ]
  },
  {
   "cell_type": "code",
   "execution_count": 8,
   "id": "f7bf3ff8-4a12-4fe0-b94e-1bf2198fcbda",
   "metadata": {},
   "outputs": [],
   "source": [
    "def split(node):\n",
    "    if node.value is not None:\n",
    "        if node.value > 9:\n",
    "            left = floor(node.value / 2)\n",
    "            right = ceil(node.value / 2)\n",
    "            node.left = Node(left)\n",
    "            node.right = Node(right)\n",
    "\n",
    "            node.left.parent = node\n",
    "            node.right.parent = node\n",
    "            node.value = None\n",
    "            return True\n",
    "        else:\n",
    "            return False\n",
    "    else:\n",
    "        if not split(node.left):\n",
    "            return split(node.right)\n",
    "        else:\n",
    "            return True"
   ]
  },
  {
   "cell_type": "markdown",
   "id": "28412d4b-4020-49ad-898c-20504268e3aa",
   "metadata": {},
   "source": [
    "### Explode\n",
    "Here we make sure we're at level 5 (we can't be lower because this function is exhuastive and every addition increases the depth by 1). We use the auxiliary `find_prev`, `find_next` to do the addition. Finally we remove this node by going to the parent and replacing it with a numberic Node(0). "
   ]
  },
  {
   "cell_type": "code",
   "execution_count": 9,
   "id": "3b20159f-84a6-45dd-8443-6f00ffdd9faf",
   "metadata": {},
   "outputs": [],
   "source": [
    "def explode(node, depth=1):\n",
    "    if depth == 5 and node.value is None:\n",
    "        prev = find_prev(node)\n",
    "        if prev:\n",
    "            prev.value += node.left.value\n",
    "        \n",
    "        _next = find_next(node)\n",
    "        if _next:\n",
    "            _next.value += node.right.value\n",
    "\n",
    "        new_node = Node(0)\n",
    "        \n",
    "        if node.parent.left == node:\n",
    "            node.parent.left = new_node\n",
    "        else:\n",
    "            node.parent.right = new_node\n",
    "\n",
    "        new_node.parent = node.parent\n",
    "    \n",
    "    else:\n",
    "        if node.left:\n",
    "            explode(node.left, depth + 1)\n",
    "        if node.right:\n",
    "            explode(node.right, depth + 1)"
   ]
  },
  {
   "cell_type": "markdown",
   "id": "0b2b6466-f28d-40f9-bbc6-a02f8783a7a5",
   "metadata": {},
   "source": [
    "The reduce step is comprised of multiple steps where we explode everything and split once - this is how they were defined. To stop the while loop, I convert to string to see if the tree doesn't change anymore (trick, instead of defining tree equality). "
   ]
  },
  {
   "cell_type": "code",
   "execution_count": 10,
   "id": "88551f36-a0e8-4283-9972-8f3566b85154",
   "metadata": {},
   "outputs": [],
   "source": [
    "def reduce(root):\n",
    "    number_s1 = \"\"\n",
    "    number_s2 = \"\"\n",
    "    \n",
    "    while number_s1 != str(root):\n",
    "        number_s1 = str(root)\n",
    "        explode(root)\n",
    "        # while number_s1 != str(root):\n",
    "        #     number_s1 = str(root)\n",
    "            # explode(root)\n",
    "        split(root)\n",
    "    \n",
    "    return root"
   ]
  },
  {
   "cell_type": "markdown",
   "id": "745b0f5b-bb88-4606-9f1c-adfe15f53de2",
   "metadata": {},
   "source": [
    "-----\n",
    "# Task 1\n",
    "Adding all the numbers, one after the other:"
   ]
  },
  {
   "cell_type": "code",
   "execution_count": 11,
   "id": "db12b89b-bb41-42ae-af78-76f615c64efe",
   "metadata": {},
   "outputs": [],
   "source": [
    "ans = build_nodes(lines[0])\n",
    "\n",
    "for line in lines[1:]:\n",
    "    line = build_nodes(line)\n",
    "    ans = ans.add(line)\n",
    "    ans = reduce(ans)"
   ]
  },
  {
   "cell_type": "code",
   "execution_count": 12,
   "id": "032f2da7-1d6a-4a86-b7ef-a1953641582f",
   "metadata": {},
   "outputs": [
    {
     "name": "stdout",
     "output_type": "stream",
     "text": [
      "[[[[7, 7], [7, 8]], [[8, 7], [0, 7]]], [[[6, 6], [6, 7]], 6]]\n"
     ]
    }
   ],
   "source": [
    "print(ans)"
   ]
  },
  {
   "cell_type": "markdown",
   "id": "64bb6202-da4f-4481-8840-77f8dc31390b",
   "metadata": {},
   "source": [
    "Sum is defined recursively:"
   ]
  },
  {
   "cell_type": "code",
   "execution_count": 13,
   "id": "2c2e5222-6877-4788-8c02-0aae315eb2b4",
   "metadata": {},
   "outputs": [],
   "source": [
    "def final_sum(node):\n",
    "    if node.value is not None:\n",
    "        return node.value\n",
    "    return 3*final_sum(node.left) + 2*final_sum(node.right)"
   ]
  },
  {
   "cell_type": "code",
   "execution_count": 14,
   "id": "595aace6-8169-4122-a0b9-de751373cb82",
   "metadata": {},
   "outputs": [
    {
     "data": {
      "text/plain": [
       "3411"
      ]
     },
     "execution_count": 14,
     "metadata": {},
     "output_type": "execute_result"
    }
   ],
   "source": [
    "final_sum(ans)"
   ]
  },
  {
   "cell_type": "markdown",
   "id": "7fc4aba6-ca3f-422e-9c6d-264404f0c680",
   "metadata": {},
   "source": [
    "----------\n",
    "# Task 2\n",
    "Checking all pairs is $O(n^2)$ and we brute force it. Takes me 6 seconds. "
   ]
  },
  {
   "cell_type": "code",
   "execution_count": 17,
   "id": "f2ad0fa7-4bda-42c3-a494-3a3c237350f5",
   "metadata": {},
   "outputs": [],
   "source": [
    "big = 0\n",
    "for i in range(len(lines)):\n",
    "    for j in range(len(lines)):\n",
    "        if i == j:\n",
    "            continue \n",
    "        number = build_nodes(lines[i]).add(build_nodes(lines[j]))\n",
    "        total = final_sum(reduce(number))\n",
    "        if total > big:\n",
    "            big = total"
   ]
  },
  {
   "cell_type": "code",
   "execution_count": 18,
   "id": "fc8918c7-22b7-4809-ae47-aa36a65a765d",
   "metadata": {},
   "outputs": [
    {
     "name": "stdout",
     "output_type": "stream",
     "text": [
      "4680\n"
     ]
    }
   ],
   "source": [
    "print(big)"
   ]
  },
  {
   "cell_type": "code",
   "execution_count": null,
   "id": "0fc9aed2-8aec-49e8-bd91-d182fdb681a4",
   "metadata": {},
   "outputs": [],
   "source": []
  }
 ],
 "metadata": {
  "kernelspec": {
   "display_name": "Python 3",
   "language": "python",
   "name": "python3"
  },
  "language_info": {
   "codemirror_mode": {
    "name": "ipython",
    "version": 3
   },
   "file_extension": ".py",
   "mimetype": "text/x-python",
   "name": "python",
   "nbconvert_exporter": "python",
   "pygments_lexer": "ipython3",
   "version": "3.9.9"
  }
 },
 "nbformat": 4,
 "nbformat_minor": 5
}
