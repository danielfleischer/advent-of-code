{
 "cells": [
  {
   "cell_type": "code",
   "execution_count": 1,
   "metadata": {},
   "outputs": [],
   "source": [
    "import numpy as np\n",
    "from functools import reduce"
   ]
  },
  {
   "cell_type": "code",
   "execution_count": 2,
   "metadata": {},
   "outputs": [],
   "source": [
    "data = open('../inputs/input-day9').read().splitlines()"
   ]
  },
  {
   "cell_type": "code",
   "execution_count": 3,
   "metadata": {},
   "outputs": [],
   "source": [
    "data = np.array([[int(l) for l in row] for row in data])"
   ]
  },
  {
   "cell_type": "code",
   "execution_count": 4,
   "metadata": {},
   "outputs": [],
   "source": [
    "shape = data.shape"
   ]
  },
  {
   "cell_type": "markdown",
   "metadata": {},
   "source": [
    "Padding with maximum value to wall-off the values:"
   ]
  },
  {
   "cell_type": "code",
   "execution_count": 5,
   "metadata": {},
   "outputs": [],
   "source": [
    "data = np.pad(data,1,'maximum')"
   ]
  },
  {
   "cell_type": "code",
   "execution_count": 6,
   "metadata": {},
   "outputs": [],
   "source": [
    "min_p = 0\n",
    "for i in range(1,shape[0]+1):\n",
    "    for j in range(1,shape[1]+1):\n",
    "        val = data[i,j]\n",
    "        if val >= data[i+1,j] or \\\n",
    "           val >= data[i-1,j] or \\\n",
    "           val >= data[i,j+1] or \\\n",
    "           val >= data[i,j-1]:\n",
    "            pass\n",
    "        else:\n",
    "            min_p += val + 1"
   ]
  },
  {
   "cell_type": "code",
   "execution_count": 7,
   "metadata": {},
   "outputs": [
    {
     "data": {
      "text/plain": [
       "528"
      ]
     },
     "execution_count": 7,
     "metadata": {},
     "output_type": "execute_result"
    }
   ],
   "source": [
    "min_p"
   ]
  },
  {
   "cell_type": "markdown",
   "metadata": {},
   "source": [
    "----------"
   ]
  },
  {
   "cell_type": "markdown",
   "metadata": {},
   "source": [
    "Getting all the minimum points, similar to previous task:"
   ]
  },
  {
   "cell_type": "code",
   "execution_count": 8,
   "metadata": {},
   "outputs": [],
   "source": [
    "def get_low():    \n",
    "    ans = []\n",
    "    for i in range(1,shape[0]+1):\n",
    "        for j in range(1,shape[1]+1):\n",
    "            val = data[i,j]\n",
    "            if val >= data[i+1,j] or \\\n",
    "               val >= data[i-1,j] or \\\n",
    "               val >= data[i,j+1] or \\\n",
    "               val >= data[i,j-1]:\n",
    "                pass\n",
    "            else:\n",
    "                ans.append((i,j))\n",
    "    return ans"
   ]
  },
  {
   "cell_type": "markdown",
   "metadata": {},
   "source": [
    "Recursive function with memoziation to search all values which are not 9 (stopping condition). "
   ]
  },
  {
   "cell_type": "code",
   "execution_count": 9,
   "metadata": {},
   "outputs": [],
   "source": [
    "def get_basin(p, mem):\n",
    "    if p in mem:\n",
    "        return\n",
    "    i,j = p\n",
    "    if data[i,j] == 9:\n",
    "        return\n",
    "    mem |= set([p])\n",
    "    get_basin((i-1,j),mem)\n",
    "    get_basin((i+1,j),mem)\n",
    "    get_basin((i,j+1),mem)\n",
    "    get_basin((i,j-1),mem)"
   ]
  },
  {
   "cell_type": "code",
   "execution_count": 10,
   "metadata": {},
   "outputs": [],
   "source": [
    "size = []\n",
    "for p in get_low():\n",
    "    mem = set()\n",
    "    get_basin(p,mem)\n",
    "    size.append(len(mem))"
   ]
  },
  {
   "cell_type": "code",
   "execution_count": 11,
   "metadata": {},
   "outputs": [
    {
     "data": {
      "text/plain": [
       "920448"
      ]
     },
     "execution_count": 11,
     "metadata": {},
     "output_type": "execute_result"
    }
   ],
   "source": [
    "reduce(lambda x,y: x*y , sorted(size,reverse=True)[:3])"
   ]
  },
  {
   "cell_type": "code",
   "execution_count": null,
   "metadata": {},
   "outputs": [],
   "source": []
  }
 ],
 "metadata": {
  "kernelspec": {
   "display_name": "Python 3",
   "language": "python",
   "name": "python3"
  },
  "language_info": {
   "codemirror_mode": {
    "name": "ipython",
    "version": 3
   },
   "file_extension": ".py",
   "mimetype": "text/x-python",
   "name": "python",
   "nbconvert_exporter": "python",
   "pygments_lexer": "ipython3",
   "version": "3.9.9"
  }
 },
 "nbformat": 4,
 "nbformat_minor": 4
}
