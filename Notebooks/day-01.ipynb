{
 "cells": [
  {
   "cell_type": "code",
   "execution_count": 22,
   "id": "475b40c3-499e-4a71-afcd-113cac374524",
   "metadata": {},
   "outputs": [],
   "source": [
    "data = open(\"../inputs/day-01\").read().splitlines()"
   ]
  },
  {
   "cell_type": "code",
   "execution_count": 26,
   "id": "3766ac1b-22d3-40eb-ac77-76cf5e175bfa",
   "metadata": {},
   "outputs": [],
   "source": [
    "max_value = 0\n",
    "elf_value = 0"
   ]
  },
  {
   "cell_type": "code",
   "execution_count": 27,
   "id": "9b7215b5-c25e-4877-9124-6d3ab57a2420",
   "metadata": {},
   "outputs": [],
   "source": [
    "for v in data:\n",
    "    if v == '':\n",
    "        max_value = max(max_value, elf_value)\n",
    "        elf_value = 0\n",
    "    else:\n",
    "        elf_value += int(v)"
   ]
  },
  {
   "cell_type": "code",
   "execution_count": 29,
   "id": "7a6a9a0f-ea63-4d98-90b9-ed1fe411ee23",
   "metadata": {},
   "outputs": [
    {
     "name": "stdout",
     "output_type": "stream",
     "text": [
      "72511\n"
     ]
    }
   ],
   "source": [
    "print(max_value)"
   ]
  },
  {
   "cell_type": "markdown",
   "id": "7db413be-6449-4b40-bcc1-cad213cb7b54",
   "metadata": {},
   "source": [
    "-------\n",
    "### Top 3"
   ]
  },
  {
   "cell_type": "code",
   "execution_count": 31,
   "id": "8a29ca77-d980-421e-a5fe-ef06b0a3b78f",
   "metadata": {},
   "outputs": [],
   "source": [
    "totals = []"
   ]
  },
  {
   "cell_type": "code",
   "execution_count": 32,
   "id": "1d696dc8-f3df-4eff-892e-811dfc720cab",
   "metadata": {},
   "outputs": [],
   "source": [
    "elf_value = 0"
   ]
  },
  {
   "cell_type": "code",
   "execution_count": 33,
   "id": "37205007-60c3-4f33-ae58-302af3abb207",
   "metadata": {},
   "outputs": [],
   "source": [
    "for v in data:\n",
    "    if v == '':\n",
    "        totals.append(elf_value)\n",
    "        elf_value = 0\n",
    "    else:\n",
    "        elf_value += int(v)"
   ]
  },
  {
   "cell_type": "code",
   "execution_count": 35,
   "id": "a7e58e4e-a24c-4de5-b527-ff7e611aceb5",
   "metadata": {},
   "outputs": [
    {
     "data": {
      "text/plain": [
       "212117"
      ]
     },
     "execution_count": 35,
     "metadata": {},
     "output_type": "execute_result"
    }
   ],
   "source": [
    "sum(sorted(totals,reverse=True)[:3])"
   ]
  },
  {
   "cell_type": "code",
   "execution_count": null,
   "id": "6039877c-e637-4c00-a91d-d592555181c9",
   "metadata": {},
   "outputs": [],
   "source": []
  }
 ],
 "metadata": {
  "kernelspec": {
   "display_name": "Python 3 (ipykernel)",
   "language": "python",
   "name": "python3"
  },
  "language_info": {
   "codemirror_mode": {
    "name": "ipython",
    "version": 3
   },
   "file_extension": ".py",
   "mimetype": "text/x-python",
   "name": "python",
   "nbconvert_exporter": "python",
   "pygments_lexer": "ipython3",
   "version": "3.9.15"
  }
 },
 "nbformat": 4,
 "nbformat_minor": 5
}
