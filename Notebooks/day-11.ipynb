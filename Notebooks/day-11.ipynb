{
 "cells": [
  {
   "cell_type": "code",
   "execution_count": 1,
   "id": "78744ee9-58a8-497b-b9fe-d8da2eb871f1",
   "metadata": {},
   "outputs": [],
   "source": [
    "import re\n",
    "from math import floor, prod"
   ]
  },
  {
   "cell_type": "code",
   "execution_count": 2,
   "id": "0dd33d1a-3431-40a6-aeab-90857bd67b4e",
   "metadata": {},
   "outputs": [],
   "source": [
    "data = open(\"../inputs/day-11\").read().splitlines()"
   ]
  },
  {
   "cell_type": "code",
   "execution_count": 3,
   "id": "381ab984-a35a-4fe4-a73d-071e72da030e",
   "metadata": {},
   "outputs": [],
   "source": [
    "monkeys = {i : None for i in range(8)}"
   ]
  },
  {
   "cell_type": "code",
   "execution_count": 4,
   "id": "2a340f52-1bb7-4498-acd0-ff46e2a9ae23",
   "metadata": {},
   "outputs": [],
   "source": [
    "def parse_monkey(s):\n",
    "    num = int(re.match(\"\\w+ (\\d+):\", s[0])[1])\n",
    "    items = list(map(int, re.match(\".*: (.*)\", s[1])[1].split(', ')))\n",
    "    op, number = re.match(\".* new = old (\\W) (\\S+)\", s[2]).group(1,2)\n",
    "    number = number if number.isnumeric() else \"x\"\n",
    "    lam = lambda x: eval(number) * x if op == '*' else eval(number) + x\n",
    "    test = lambda x: x % int(re.match(\".* by (\\d+)\", s[3])[1]) == 0\n",
    "    true = int(re.match(\".* monkey (\\d+)\", s[4])[1])\n",
    "    false = int(re.match(\".* monkey (\\d+)\", s[5])[1])    \n",
    "    monkeys[num] = {\"items\": items, \"op\" : lam, \"test\" : test, \"true\" : true, \"false\": false, \"inspected\": 0}"
   ]
  },
  {
   "cell_type": "code",
   "execution_count": 5,
   "id": "a555d8e1-7328-4d8d-842e-2844600b9a19",
   "metadata": {},
   "outputs": [],
   "source": [
    "for i in range(0,len(data), 7):\n",
    "    parse_monkey(data[i:i+6])"
   ]
  },
  {
   "cell_type": "code",
   "execution_count": 6,
   "id": "9c5b5b30-e293-4c82-b7be-4eca829736fe",
   "metadata": {},
   "outputs": [],
   "source": [
    "def round():\n",
    "    for m in range(8):\n",
    "        monkey = monkeys[m]\n",
    "        monkey[\"inspected\"] += len(monkey[\"items\"])\n",
    "        for item in monkey[\"items\"]:\n",
    "            item = monkey[\"op\"](item)\n",
    "            item = item // 3\n",
    "            dest = monkey[\"true\"] if monkey[\"test\"](item) else monkey[\"false\"]\n",
    "            monkeys[dest][\"items\"].append(item)\n",
    "        monkey[\"items\"] = []"
   ]
  },
  {
   "cell_type": "code",
   "execution_count": 7,
   "id": "b90b340b-ced0-48a9-a576-b2580ffb3709",
   "metadata": {},
   "outputs": [],
   "source": [
    "for i in range(20):\n",
    "    round()"
   ]
  },
  {
   "cell_type": "code",
   "execution_count": 9,
   "id": "b9cda4a8-e8ab-43ef-9bc0-0420d210c31d",
   "metadata": {},
   "outputs": [
    {
     "data": {
      "text/plain": [
       "120056"
      ]
     },
     "execution_count": 9,
     "metadata": {},
     "output_type": "execute_result"
    }
   ],
   "source": [
    "prod(sorted([m[\"inspected\"] for m in monkeys.values()])[-2:])"
   ]
  },
  {
   "cell_type": "markdown",
   "id": "bf98cc97-7b26-413c-8491-8ed8a283a221",
   "metadata": {},
   "source": [
    "----- \n",
    "## Unbounded worry, 10K rounds"
   ]
  },
  {
   "cell_type": "code",
   "execution_count": 10,
   "id": "3fe4ab4e-1361-402c-9563-2d23425474fe",
   "metadata": {},
   "outputs": [],
   "source": [
    "monkeys = {i : None for i in range(8)}"
   ]
  },
  {
   "cell_type": "code",
   "execution_count": 11,
   "id": "fb027f88-4b66-4ade-a7b5-e470d0b6934d",
   "metadata": {},
   "outputs": [],
   "source": [
    "for i in range(0,len(data), 7):\n",
    "    parse_monkey(data[i:i+6])"
   ]
  },
  {
   "cell_type": "code",
   "execution_count": 12,
   "id": "edabccde-9061-46c8-ab3d-57a9993ab21f",
   "metadata": {},
   "outputs": [],
   "source": [
    "modulo = 17 * 7 * 13 * 2 * 19 * 3 * 5 * 11"
   ]
  },
  {
   "cell_type": "code",
   "execution_count": 13,
   "id": "e5141de2-ddf9-4401-865e-a5f691aebc0f",
   "metadata": {},
   "outputs": [],
   "source": [
    "def round():\n",
    "    for m in range(8):\n",
    "        monkey = monkeys[m]\n",
    "        monkey[\"inspected\"] += len(monkey[\"items\"])\n",
    "        for item in monkey[\"items\"]:\n",
    "            item = monkey[\"op\"](item)\n",
    "            item = item % modulo\n",
    "            dest = monkey[\"true\"] if monkey[\"test\"](item) else monkey[\"false\"]\n",
    "            # print(item, item // modulo)\n",
    "            monkeys[dest][\"items\"].append(item)\n",
    "        monkey[\"items\"] = []"
   ]
  },
  {
   "cell_type": "code",
   "execution_count": 14,
   "id": "b1f1476b-4361-4209-8731-9b7d897ea700",
   "metadata": {},
   "outputs": [
    {
     "name": "stdout",
     "output_type": "stream",
     "text": [
      "0\n",
      "1000\n",
      "2000\n",
      "3000\n",
      "4000\n",
      "5000\n",
      "6000\n",
      "7000\n",
      "8000\n",
      "9000\n"
     ]
    }
   ],
   "source": [
    "for i in range(10000):\n",
    "    if i % 1000 == 0:\n",
    "        print(i)\n",
    "    round()"
   ]
  },
  {
   "cell_type": "code",
   "execution_count": 16,
   "id": "ff8b6ba6-2aac-4849-8b25-d2ceb7f6a1bd",
   "metadata": {},
   "outputs": [
    {
     "data": {
      "text/plain": [
       "21816744824"
      ]
     },
     "execution_count": 16,
     "metadata": {},
     "output_type": "execute_result"
    }
   ],
   "source": [
    "prod(sorted([m[\"inspected\"] for m in monkeys.values()])[-2:])"
   ]
  },
  {
   "cell_type": "code",
   "execution_count": null,
   "id": "ede20c4a-2c38-4a4f-99c7-2907b9709cec",
   "metadata": {},
   "outputs": [],
   "source": []
  }
 ],
 "metadata": {
  "kernelspec": {
   "display_name": "Python 3 (ipykernel)",
   "language": "python",
   "name": "python3"
  },
  "language_info": {
   "codemirror_mode": {
    "name": "ipython",
    "version": 3
   },
   "file_extension": ".py",
   "mimetype": "text/x-python",
   "name": "python",
   "nbconvert_exporter": "python",
   "pygments_lexer": "ipython3",
   "version": "3.9.16"
  }
 },
 "nbformat": 4,
 "nbformat_minor": 5
}
