{
 "cells": [
  {
   "cell_type": "code",
   "execution_count": 1,
   "id": "49766cb9-f6e2-40af-8493-f3241fc248ab",
   "metadata": {},
   "outputs": [],
   "source": [
    "import numpy as np"
   ]
  },
  {
   "cell_type": "code",
   "execution_count": 192,
   "id": "e599d213-0f52-4cdf-8b4b-9cb5bcce4eb2",
   "metadata": {},
   "outputs": [],
   "source": [
    "from attr import define,field, attrib"
   ]
  },
  {
   "cell_type": "code",
   "execution_count": 3,
   "id": "12768523-9001-4242-8189-cf1c1256d18d",
   "metadata": {},
   "outputs": [],
   "source": [
    "data = open('../inputs/input-day22').read().splitlines()"
   ]
  },
  {
   "cell_type": "code",
   "execution_count": 4,
   "id": "502c42e1-9a59-4921-82a0-90d777e685fa",
   "metadata": {},
   "outputs": [],
   "source": [
    "init = data[:20]"
   ]
  },
  {
   "cell_type": "code",
   "execution_count": 5,
   "id": "38010ada-5b75-47f3-86d5-b9439c57881a",
   "metadata": {},
   "outputs": [],
   "source": [
    "def parse(line):\n",
    "    order, line = line.split(' ')\n",
    "    ranges = []\n",
    "    for obj in line.split(','):\n",
    "        ranges.append(list(map(lambda x: int(x) + 50,obj[2:].split('..'))))\n",
    "    return (order, ranges)"
   ]
  },
  {
   "cell_type": "code",
   "execution_count": 6,
   "id": "515404a4-ba4d-4c76-b558-64a21f322bb9",
   "metadata": {},
   "outputs": [],
   "source": [
    "init = [parse(l) for l in init]"
   ]
  },
  {
   "cell_type": "code",
   "execution_count": 7,
   "id": "112f5da6-2f45-4a68-9798-40fa8d769802",
   "metadata": {},
   "outputs": [],
   "source": [
    "arr = np.zeros((105,105,105))"
   ]
  },
  {
   "cell_type": "code",
   "execution_count": 8,
   "id": "0069a9d6-d606-47c2-a594-109681b93460",
   "metadata": {},
   "outputs": [],
   "source": [
    "for line in init:\n",
    "    num = 0\n",
    "    order,(x,y,z) = line\n",
    "    if order == 'on':\n",
    "        num = 1\n",
    "    arr[x[0]:x[1]+1,y[0]:y[1]+1,z[0]:z[1]+1] = num"
   ]
  },
  {
   "cell_type": "code",
   "execution_count": 9,
   "id": "bf7e1796-ac1b-4f0b-8a6d-5e7ab6b0512f",
   "metadata": {},
   "outputs": [
    {
     "data": {
      "text/plain": [
       "653798"
      ]
     },
     "execution_count": 9,
     "metadata": {},
     "output_type": "execute_result"
    }
   ],
   "source": [
    "(arr == 1).sum()"
   ]
  },
  {
   "cell_type": "markdown",
   "id": "cde43ccc-f55d-4fb8-8281-ea39f781610d",
   "metadata": {},
   "source": [
    "--------\n",
    "# Task 2"
   ]
  },
  {
   "cell_type": "code",
   "execution_count": 1040,
   "id": "2c694d6f-5ec2-49c8-bf74-804c039bcd31",
   "metadata": {},
   "outputs": [],
   "source": [
    "@define(frozen=True)\n",
    "class Range():\n",
    "    beg : int = field()\n",
    "    end : int = field()\n",
    "    \n",
    "    @end.validator\n",
    "    def _check_end(self, attribute, value):\n",
    "        if value < self.beg:\n",
    "             raise ValueError(\"beg not <= end\")\n",
    "    \n",
    "    def __repr__(self):\n",
    "        return \"R({},{})\".format(self.beg, self.end)\n",
    "    \n",
    "    def size(self):\n",
    "        return self.end - self.beg + 1\n",
    "    \n",
    "    def intersect(self, ran2):\n",
    "        if (self.end < ran2.beg or\n",
    "            ran2.end < self.beg):\n",
    "            return None\n",
    "        beg = max(self.beg, ran2.beg)\n",
    "        end = min(self.end, ran2.end)\n",
    "        if (beg <= end):\n",
    "            return Range(beg, end)\n",
    "    \n",
    "    def split(self, range2):\n",
    "        \"The 2nd item is the intersected one, so we can later drop it if we want\"\n",
    "        try:\n",
    "            if self.beg == range2.beg == range2.end == self.end:\n",
    "                ans = [Range(self.beg, self.beg)]\n",
    "\n",
    "            elif self.beg == range2.beg:\n",
    "                end1 = self.end if self.end < range2.end else range2.end\n",
    "                end2 = range2.end if end1 == self.end else self.end\n",
    "                ans = [Range(end1+1, end2), Range(self.beg, end1), ]\n",
    "\n",
    "            elif self.end == range2.end:\n",
    "                beg1 = self.beg if self.beg < range2.beg else range2.beg\n",
    "                beg2 = range2.beg if beg1 == self.beg else self.beg\n",
    "                ans = [Range(beg1, beg2 - 1), Range(beg2, self.end)]\n",
    "\n",
    "            else:\n",
    "                beg1 = self.beg if self.beg < range2.beg else range2.beg\n",
    "                beg2 = range2.beg if beg1 == self.beg else self.beg\n",
    "                end1 = self.end if self.end < range2.end else range2.end\n",
    "                end2 = range2.end if end1 == self.end else self.end\n",
    "                ans = [Range(beg1, beg2-1), Range(beg2, end1), Range(end1 + 1, end2)]\n",
    "        except:\n",
    "            return [Range(self.beg, self.beg)]\n",
    "        return ans"
   ]
  },
  {
   "cell_type": "code",
   "execution_count": 1041,
   "id": "03dd656e-ef3d-43d6-aeba-7fec0cd0f477",
   "metadata": {},
   "outputs": [],
   "source": [
    "assert Range(1,5).intersect(Range(2,6)) == Range(2,5)\n",
    "assert Range(1,5).intersect(Range(-2,3)) == Range(1,3)\n",
    "assert Range(1,5).intersect(Range(3,4)) == Range(3,4)\n",
    "assert Range(1,5).intersect(Range(0,6)) == Range(1,5)"
   ]
  },
  {
   "cell_type": "markdown",
   "id": "ce0a3b19-ab36-47ec-b629-2afffe3ad084",
   "metadata": {},
   "source": [
    "The 2nd item is always the intersect one, we can use it to treat is as subtraction. "
   ]
  },
  {
   "cell_type": "code",
   "execution_count": 1042,
   "id": "ee63e5c7-5ff6-4d1c-9466-f0c522ed2147",
   "metadata": {},
   "outputs": [
    {
     "data": {
      "text/plain": [
       "[R(4,5), R(1,3)]"
      ]
     },
     "execution_count": 1042,
     "metadata": {},
     "output_type": "execute_result"
    }
   ],
   "source": [
    "Range(1,5).split(Range(1,3))"
   ]
  },
  {
   "cell_type": "code",
   "execution_count": 1043,
   "id": "1cde237c-9b79-4ac0-9a35-1118124da0cc",
   "metadata": {},
   "outputs": [],
   "source": [
    "assert Range(1,5).split(Range(2,5)) == [Range(1,1), Range(2,5)]\n",
    "assert Range(1,5).split(Range(1,3)) == [Range(4,5), Range(1,3)]\n",
    "assert Range(1,5).split(Range(3,4)) == [Range(1,2), Range(3,4), Range(5,5)]"
   ]
  },
  {
   "cell_type": "code",
   "execution_count": 1055,
   "id": "46a6de94-c7dc-45ed-84ac-60298efb2f2f",
   "metadata": {},
   "outputs": [],
   "source": [
    "@define(frozen=True)\n",
    "class Cube():\n",
    "    x : Range\n",
    "    y : Range\n",
    "    z : Range\n",
    "    \n",
    "    def __repr__(self):\n",
    "        return \"C({}, {}, {})\".format(self.x, self.y,self.z)\n",
    "    \n",
    "    def size(self):\n",
    "        return (self.x.size() * \n",
    "                self.y.size() * \n",
    "                self.z.size())\n",
    "    \n",
    "    def intersect(self, cube):\n",
    "        x = self.x.intersect(cube.x)\n",
    "        y = self.y.intersect(cube.y)\n",
    "        z = self.z.intersect(cube.z)\n",
    "        if x and y and z:\n",
    "            return Cube(x,y,z)\n",
    "\n",
    "    def diff(self, cube, subtract=True):\n",
    "        \"cube is the intersection cube\"\n",
    "        cubes = set()\n",
    "        x_range = self.x.split(cube.x)\n",
    "        y_range = self.y.split(cube.y)\n",
    "        z_range = self.z.split(cube.z)\n",
    "        for i,x in enumerate(x_range):\n",
    "            for j,y in enumerate(y_range):\n",
    "                for k,z in enumerate(z_range):\n",
    "                    if i == j == k == 1:\n",
    "                        continue\n",
    "                    cubes.add(Cube(x,y,z))\n",
    "        return cubes"
   ]
  },
  {
   "cell_type": "markdown",
   "id": "6ca3f93e-a522-43f7-b227-fdce5e20d6a8",
   "metadata": {},
   "source": [
    "Simple intersection"
   ]
  },
  {
   "cell_type": "code",
   "execution_count": 1056,
   "id": "af0c58d5-42a1-49c5-9143-81ad7ff364e3",
   "metadata": {},
   "outputs": [],
   "source": [
    "c1 = Cube(Range(5,5),Range(3,10),Range(4,10))"
   ]
  },
  {
   "cell_type": "code",
   "execution_count": 1057,
   "id": "224d8a0a-db6f-40b6-8d69-b30204b7ae6d",
   "metadata": {},
   "outputs": [],
   "source": [
    "c2 = Cube(Range(3,10),Range(6,12),Range(-4,8))"
   ]
  },
  {
   "cell_type": "code",
   "execution_count": 1058,
   "id": "67db9b63-a127-4006-a033-e467bca8019a",
   "metadata": {},
   "outputs": [
    {
     "name": "stdout",
     "output_type": "stream",
     "text": [
      "56 728\n"
     ]
    }
   ],
   "source": [
    "print(c1.size(), c2.size())"
   ]
  },
  {
   "cell_type": "code",
   "execution_count": 1059,
   "id": "72293dad-1977-4f35-b35b-23e06c77cbda",
   "metadata": {},
   "outputs": [
    {
     "data": {
      "text/plain": [
       "C(R(5,5), R(6,10), R(4,8))"
      ]
     },
     "execution_count": 1059,
     "metadata": {},
     "output_type": "execute_result"
    }
   ],
   "source": [
    "diff = c1.intersect(c2)\n",
    "diff"
   ]
  },
  {
   "cell_type": "code",
   "execution_count": 1060,
   "id": "13918797-fb8d-4d40-90c0-3da9df66efb5",
   "metadata": {},
   "outputs": [
    {
     "data": {
      "text/plain": [
       "{C(R(5,5), R(3,5), R(4,8)),\n",
       " C(R(5,5), R(3,5), R(9,10)),\n",
       " C(R(5,5), R(6,10), R(4,8)),\n",
       " C(R(5,5), R(6,10), R(9,10))}"
      ]
     },
     "execution_count": 1060,
     "metadata": {},
     "output_type": "execute_result"
    }
   ],
   "source": [
    "c1.diff(diff)"
   ]
  },
  {
   "cell_type": "code",
   "execution_count": null,
   "id": "0f1c8b27-9f78-49b9-8ef9-54301eb1f4eb",
   "metadata": {},
   "outputs": [],
   "source": []
  },
  {
   "cell_type": "code",
   "execution_count": 1061,
   "id": "ffdcb3ba-6452-4b69-9e92-74914765a79a",
   "metadata": {},
   "outputs": [
    {
     "data": {
      "text/plain": [
       "56"
      ]
     },
     "execution_count": 1061,
     "metadata": {},
     "output_type": "execute_result"
    }
   ],
   "source": [
    "sum([l.size() for l in c1.diff(diff)])"
   ]
  },
  {
   "cell_type": "code",
   "execution_count": 1062,
   "id": "e0f9aed2-46af-487e-8157-0b123c3b06bc",
   "metadata": {},
   "outputs": [
    {
     "data": {
      "text/plain": [
       "56"
      ]
     },
     "execution_count": 1062,
     "metadata": {},
     "output_type": "execute_result"
    }
   ],
   "source": [
    "sum(l.size() for l in c1.diff(diff,subtract=True))"
   ]
  },
  {
   "cell_type": "markdown",
   "id": "450454ee-0ace-4e83-8668-7b8916114a9f",
   "metadata": {},
   "source": [
    "More complicated intersections"
   ]
  },
  {
   "cell_type": "code",
   "execution_count": 1063,
   "id": "2f043109-5558-4519-aff9-cfb8f0746ab5",
   "metadata": {},
   "outputs": [],
   "source": [
    "c1 = Cube(Range(0,2),Range(0,2),Range(0,2))"
   ]
  },
  {
   "cell_type": "code",
   "execution_count": 1064,
   "id": "f0f97869-3373-4910-8c52-2e3fbe22f95e",
   "metadata": {},
   "outputs": [],
   "source": [
    "c2 = Cube(Range(1,3),Range(1,3),Range(1,3))"
   ]
  },
  {
   "cell_type": "code",
   "execution_count": 1065,
   "id": "608796ea-8de9-42da-a965-b82a1d247312",
   "metadata": {},
   "outputs": [
    {
     "name": "stdout",
     "output_type": "stream",
     "text": [
      "27 27\n"
     ]
    }
   ],
   "source": [
    "print(c1.size(), c2.size())"
   ]
  },
  {
   "cell_type": "code",
   "execution_count": 1066,
   "id": "8e7ec641-11a6-42a6-91c6-7a736236204e",
   "metadata": {},
   "outputs": [],
   "source": [
    "diff = c1.intersect(c2)"
   ]
  },
  {
   "cell_type": "code",
   "execution_count": 1067,
   "id": "50940bba-494a-4c25-9a5b-93f55dc508d4",
   "metadata": {},
   "outputs": [],
   "source": [
    "diff = c2.intersect(c1)"
   ]
  },
  {
   "cell_type": "code",
   "execution_count": 1068,
   "id": "6ede7a76-87d3-4adc-a1e0-016bca075f67",
   "metadata": {},
   "outputs": [
    {
     "data": {
      "text/plain": [
       "{C(R(0,0), R(0,0), R(0,0)),\n",
       " C(R(0,0), R(0,0), R(1,2)),\n",
       " C(R(0,0), R(1,2), R(0,0)),\n",
       " C(R(0,0), R(1,2), R(1,2)),\n",
       " C(R(1,2), R(0,0), R(0,0)),\n",
       " C(R(1,2), R(0,0), R(1,2)),\n",
       " C(R(1,2), R(1,2), R(0,0))}"
      ]
     },
     "execution_count": 1068,
     "metadata": {},
     "output_type": "execute_result"
    }
   ],
   "source": [
    "c1.diff(diff)"
   ]
  },
  {
   "cell_type": "code",
   "execution_count": 1069,
   "id": "32c3b9ef-448d-4739-b126-c313eff15941",
   "metadata": {},
   "outputs": [
    {
     "data": {
      "text/plain": [
       "{C(R(1,2), R(1,2), R(3,3)),\n",
       " C(R(1,2), R(3,3), R(1,2)),\n",
       " C(R(1,2), R(3,3), R(3,3)),\n",
       " C(R(3,3), R(1,2), R(1,2)),\n",
       " C(R(3,3), R(1,2), R(3,3)),\n",
       " C(R(3,3), R(3,3), R(1,2)),\n",
       " C(R(3,3), R(3,3), R(3,3))}"
      ]
     },
     "execution_count": 1069,
     "metadata": {},
     "output_type": "execute_result"
    }
   ],
   "source": [
    "c2.diff(diff)"
   ]
  },
  {
   "cell_type": "code",
   "execution_count": null,
   "id": "863113c0-4770-45db-8582-b0956068ea57",
   "metadata": {},
   "outputs": [],
   "source": []
  },
  {
   "cell_type": "code",
   "execution_count": 1070,
   "id": "d0c4d2ac-6276-432b-b43b-53902f69cf10",
   "metadata": {},
   "outputs": [
    {
     "data": {
      "text/plain": [
       "[C(R(3,3), R(1,2), R(3,3)),\n",
       " C(R(3,3), R(1,2), R(1,2)),\n",
       " C(R(3,3), R(3,3), R(3,3)),\n",
       " C(R(1,2), R(1,2), R(3,3)),\n",
       " C(R(3,3), R(3,3), R(1,2)),\n",
       " C(R(1,2), R(3,3), R(1,2)),\n",
       " C(R(1,2), R(3,3), R(3,3))]"
      ]
     },
     "execution_count": 1070,
     "metadata": {},
     "output_type": "execute_result"
    }
   ],
   "source": [
    "a = list(c2.diff(diff))\n",
    "a"
   ]
  },
  {
   "cell_type": "code",
   "execution_count": 1071,
   "id": "ba807958-3a44-4d6f-a1fd-b80583e15f38",
   "metadata": {},
   "outputs": [
    {
     "name": "stdout",
     "output_type": "stream",
     "text": [
      "None\n",
      "None\n",
      "None\n",
      "None\n",
      "None\n",
      "None\n",
      "None\n",
      "None\n",
      "None\n",
      "None\n",
      "None\n",
      "None\n",
      "None\n",
      "None\n",
      "None\n",
      "None\n",
      "None\n",
      "None\n",
      "None\n",
      "None\n",
      "None\n",
      "None\n",
      "None\n",
      "None\n",
      "None\n",
      "None\n",
      "None\n",
      "None\n",
      "None\n",
      "None\n",
      "None\n",
      "None\n",
      "None\n",
      "None\n",
      "None\n",
      "None\n",
      "None\n",
      "None\n",
      "None\n",
      "None\n",
      "None\n",
      "None\n"
     ]
    }
   ],
   "source": [
    "for i in a:\n",
    "    for j in a:\n",
    "        if i != j:\n",
    "            print(i.intersect(j))"
   ]
  },
  {
   "cell_type": "code",
   "execution_count": null,
   "id": "4755b6fd-fb02-499a-b048-9e48e3f1203e",
   "metadata": {},
   "outputs": [],
   "source": []
  },
  {
   "cell_type": "code",
   "execution_count": 1027,
   "id": "bd5eb8e6-d8b2-47d7-959a-40af3356d633",
   "metadata": {},
   "outputs": [
    {
     "data": {
      "text/plain": [
       "19"
      ]
     },
     "execution_count": 1027,
     "metadata": {},
     "output_type": "execute_result"
    }
   ],
   "source": [
    "sum([l.size() for l in c1.diff(diff)])"
   ]
  },
  {
   "cell_type": "code",
   "execution_count": 1028,
   "id": "82b98fc2-ff09-463d-b5db-f8f5567fb25d",
   "metadata": {},
   "outputs": [
    {
     "data": {
      "text/plain": [
       "19"
      ]
     },
     "execution_count": 1028,
     "metadata": {},
     "output_type": "execute_result"
    }
   ],
   "source": [
    "sum(l.size() for l in c1.diff(diff,subtract=True))"
   ]
  },
  {
   "cell_type": "markdown",
   "id": "3d67ecb0-7f9f-4dba-b6bb-b4502c220fe6",
   "metadata": {},
   "source": [
    "### Sanity check: the first task using the Cube class calculations"
   ]
  },
  {
   "cell_type": "code",
   "execution_count": 1029,
   "id": "b7d34cd5-f001-4ba6-95ab-aa8789c9eb9e",
   "metadata": {},
   "outputs": [],
   "source": [
    "data = data[:20]"
   ]
  },
  {
   "cell_type": "code",
   "execution_count": 1030,
   "id": "57498d56-9414-4329-abcb-4fb9c52fe10f",
   "metadata": {},
   "outputs": [],
   "source": [
    "data = \"\"\"on x=10..12,y=10..12,z=10..12\n",
    "on x=11..13,y=11..13,z=11..13\n",
    "off x=9..11,y=9..11,z=9..11\n",
    "on x=10..10,y=10..10,z=10..10\"\"\".splitlines()"
   ]
  },
  {
   "cell_type": "code",
   "execution_count": 1072,
   "id": "0c7c63c1-2b9f-4beb-a6bd-b775284c049d",
   "metadata": {},
   "outputs": [],
   "source": [
    "cubes = set()"
   ]
  },
  {
   "cell_type": "code",
   "execution_count": 1073,
   "id": "993eb283-fc1e-4e50-8ca9-266868d7db13",
   "metadata": {},
   "outputs": [
    {
     "name": "stdout",
     "output_type": "stream",
     "text": [
      "on x=10..12,y=10..12,z=10..12\n",
      "27\n",
      "on x=11..13,y=11..13,z=11..13\n",
      "73\n"
     ]
    }
   ],
   "source": [
    "for line in data[:2]:\n",
    "    print(line)\n",
    "    order, line = line.split(' ')\n",
    "    order = order == 'on'\n",
    "    ranges = [list(map(lambda x: int(x),obj[2:].split('..'))) for obj in line.split(',')]\n",
    "    cube = Cube(Range(*ranges[0]), Range(*ranges[1]), Range(*ranges[2]))\n",
    "    cube_parts = set([cube])\n",
    "    if order:\n",
    "        new_cubes = set()\n",
    "        while len(cube_parts) > 0:\n",
    "            cube = cube_parts.pop()\n",
    "            for c in cubes:\n",
    "                intersection = cube.intersect(c)\n",
    "                if intersection:\n",
    "                    if intersection == cube:\n",
    "                        break\n",
    "                    else:\n",
    "                        diff = cube.diff(intersection)\n",
    "                        cube_parts |= diff\n",
    "                        break\n",
    "            new_cubes.add(cube)\n",
    "        cubes |= new_cubes\n",
    "    else:\n",
    "        new_cubes = set()\n",
    "        for c in cubes:\n",
    "            intersection = c.intersect(cube)\n",
    "            if intersection and (intersection != cube):\n",
    "                diff = c.diff(intersection, subtract=True)\n",
    "                new_cubes |= diff\n",
    "            else:\n",
    "                new_cubes.add(c)\n",
    "        cubes = new_cubes\n",
    "    print(sum(l.size() for l in cubes))"
   ]
  },
  {
   "cell_type": "code",
   "execution_count": 1074,
   "id": "cd2614ab-3160-4dea-ac3b-a2a7ffd97d72",
   "metadata": {},
   "outputs": [],
   "source": [
    "a = list(cubes)"
   ]
  },
  {
   "cell_type": "code",
   "execution_count": 1075,
   "id": "5a2a3e80-488c-49c8-9053-ac6dbac6b8df",
   "metadata": {},
   "outputs": [
    {
     "name": "stdout",
     "output_type": "stream",
     "text": [
      "C(R(11,12), R(13,13), R(13,13)) C(R(11,13), R(11,13), R(11,13)) C(R(11,12), R(13,13), R(13,13))\n",
      "C(R(11,12), R(13,13), R(11,12)) C(R(11,13), R(11,13), R(11,13)) C(R(11,12), R(13,13), R(11,12))\n",
      "C(R(11,13), R(11,13), R(11,13)) C(R(11,12), R(13,13), R(13,13)) C(R(11,12), R(13,13), R(13,13))\n",
      "C(R(11,13), R(11,13), R(11,13)) C(R(11,12), R(13,13), R(11,12)) C(R(11,12), R(13,13), R(11,12))\n",
      "C(R(11,13), R(11,13), R(11,13)) C(R(10,12), R(10,12), R(10,12)) C(R(11,12), R(11,12), R(11,12))\n",
      "C(R(11,13), R(11,13), R(11,13)) C(R(13,13), R(13,13), R(13,13)) C(R(13,13), R(13,13), R(13,13))\n",
      "C(R(11,13), R(11,13), R(11,13)) C(R(13,13), R(13,13), R(11,12)) C(R(13,13), R(13,13), R(11,12))\n",
      "C(R(11,13), R(11,13), R(11,13)) C(R(11,12), R(11,12), R(13,13)) C(R(11,12), R(11,12), R(13,13))\n",
      "C(R(11,13), R(11,13), R(11,13)) C(R(13,13), R(11,12), R(13,13)) C(R(13,13), R(11,12), R(13,13))\n",
      "C(R(11,13), R(11,13), R(11,13)) C(R(13,13), R(11,12), R(11,12)) C(R(13,13), R(11,12), R(11,12))\n",
      "C(R(10,12), R(10,12), R(10,12)) C(R(11,13), R(11,13), R(11,13)) C(R(11,12), R(11,12), R(11,12))\n",
      "C(R(13,13), R(13,13), R(13,13)) C(R(11,13), R(11,13), R(11,13)) C(R(13,13), R(13,13), R(13,13))\n",
      "C(R(13,13), R(13,13), R(11,12)) C(R(11,13), R(11,13), R(11,13)) C(R(13,13), R(13,13), R(11,12))\n",
      "C(R(11,12), R(11,12), R(13,13)) C(R(11,13), R(11,13), R(11,13)) C(R(11,12), R(11,12), R(13,13))\n",
      "C(R(13,13), R(11,12), R(13,13)) C(R(11,13), R(11,13), R(11,13)) C(R(13,13), R(11,12), R(13,13))\n",
      "C(R(13,13), R(11,12), R(11,12)) C(R(11,13), R(11,13), R(11,13)) C(R(13,13), R(11,12), R(11,12))\n"
     ]
    }
   ],
   "source": [
    "for i in a:\n",
    "    for j in a:\n",
    "        if i != j:\n",
    "            inter = i.intersect(j)\n",
    "            if inter:\n",
    "                print(i,j,i.intersect(j))"
   ]
  },
  {
   "cell_type": "code",
   "execution_count": 1076,
   "id": "398d4802-33e8-4622-a665-6b6b41871e09",
   "metadata": {},
   "outputs": [],
   "source": [
    "cube = Cube(Range(11,13), Range(11,13), Range(11,13))"
   ]
  },
  {
   "cell_type": "code",
   "execution_count": 1077,
   "id": "edbdf71e-77b8-4036-855b-0bab9a46bf94",
   "metadata": {},
   "outputs": [
    {
     "name": "stdout",
     "output_type": "stream",
     "text": [
      "{C(R(11,12), R(13,13), R(11,12)), C(R(13,13), R(13,13), R(13,13)), C(R(13,13), R(13,13), R(11,12)), C(R(11,12), R(11,12), R(13,13)), C(R(13,13), R(11,12), R(13,13)), C(R(11,12), R(11,12), R(11,12)), C(R(13,13), R(11,12), R(11,12))}\n"
     ]
    }
   ],
   "source": [
    "for c in cubes:\n",
    "    intersection = cube.intersect(c)\n",
    "    if intersection:\n",
    "        diff = cube.diff(intersection, subtract=True)\n",
    "        print(diff)\n",
    "        cube_parts |= set(diff)\n",
    "        break\n",
    "cubes.add(cube)"
   ]
  },
  {
   "cell_type": "code",
   "execution_count": 461,
   "id": "8046bd98-e928-46af-bdd3-9bf9057b5b01",
   "metadata": {},
   "outputs": [
    {
     "data": {
      "text/plain": [
       "Cube(x=Range(beg=11, end=13), y=Range(beg=11, end=13), z=Range(beg=11, end=13))"
      ]
     },
     "execution_count": 461,
     "metadata": {},
     "output_type": "execute_result"
    }
   ],
   "source": [
    "cube"
   ]
  },
  {
   "cell_type": "code",
   "execution_count": 462,
   "id": "cc3bdcc2-844d-439a-a806-034bac0e6be5",
   "metadata": {},
   "outputs": [],
   "source": [
    "cube = cube_parts.pop()"
   ]
  },
  {
   "cell_type": "code",
   "execution_count": 463,
   "id": "83b2cb92-8dd1-4355-82be-77eaa7cc559c",
   "metadata": {},
   "outputs": [
    {
     "data": {
      "text/plain": [
       "{Cube(x=Range(beg=11, end=12), y=Range(beg=13, end=13), z=Range(beg=11, end=12)),\n",
       " Cube(x=Range(beg=11, end=12), y=Range(beg=13, end=13), z=Range(beg=13, end=13)),\n",
       " Cube(x=Range(beg=13, end=13), y=Range(beg=11, end=12), z=Range(beg=11, end=12)),\n",
       " Cube(x=Range(beg=13, end=13), y=Range(beg=11, end=12), z=Range(beg=13, end=13)),\n",
       " Cube(x=Range(beg=13, end=13), y=Range(beg=13, end=13), z=Range(beg=11, end=12)),\n",
       " Cube(x=Range(beg=13, end=13), y=Range(beg=13, end=13), z=Range(beg=13, end=13))}"
      ]
     },
     "execution_count": 463,
     "metadata": {},
     "output_type": "execute_result"
    }
   ],
   "source": [
    "cube_parts"
   ]
  },
  {
   "cell_type": "code",
   "execution_count": 400,
   "id": "44e231f6-a0b6-4260-81f2-0ccf531fae87",
   "metadata": {},
   "outputs": [
    {
     "data": {
      "text/plain": [
       "{Cube(x=Range(beg=10, end=12), y=Range(beg=10, end=12), z=Range(beg=10, end=12)),\n",
       " Cube(x=Range(beg=11, end=13), y=Range(beg=11, end=13), z=Range(beg=11, end=13))}"
      ]
     },
     "execution_count": 400,
     "metadata": {},
     "output_type": "execute_result"
    }
   ],
   "source": [
    "cubes"
   ]
  },
  {
   "cell_type": "code",
   "execution_count": null,
   "id": "cab4c5cb-b227-4ec0-9ebc-1f391ecf5685",
   "metadata": {},
   "outputs": [],
   "source": []
  },
  {
   "cell_type": "code",
   "execution_count": 333,
   "id": "cd752c59-0951-4fb4-8492-c14064eeedec",
   "metadata": {},
   "outputs": [
    {
     "data": {
      "text/plain": [
       "19"
      ]
     },
     "execution_count": 333,
     "metadata": {},
     "output_type": "execute_result"
    }
   ],
   "source": [
    "sum([l.size() for l in cube_parts])"
   ]
  },
  {
   "cell_type": "code",
   "execution_count": null,
   "id": "014bfddb-b25e-4a7c-9d00-a1b770348521",
   "metadata": {},
   "outputs": [],
   "source": []
  },
  {
   "cell_type": "code",
   "execution_count": null,
   "id": "7d29bef1-7211-46e2-acf7-67c1714c1803",
   "metadata": {},
   "outputs": [],
   "source": []
  },
  {
   "cell_type": "code",
   "execution_count": null,
   "id": "4aab8af9-0efa-442e-83bf-5f851f551289",
   "metadata": {},
   "outputs": [],
   "source": []
  },
  {
   "cell_type": "code",
   "execution_count": 284,
   "id": "81537204-117b-45ab-9dfd-bc78e5caae9f",
   "metadata": {},
   "outputs": [
    {
     "data": {
      "text/plain": [
       "65"
      ]
     },
     "execution_count": 284,
     "metadata": {},
     "output_type": "execute_result"
    }
   ],
   "source": [
    "sum(c.size() for c in cubes)"
   ]
  },
  {
   "cell_type": "code",
   "execution_count": 285,
   "id": "c3bb5719-952c-462d-9256-2836e77ffeea",
   "metadata": {},
   "outputs": [
    {
     "data": {
      "text/plain": [
       "{Cube(x=Range(beg=10, end=10), y=Range(beg=10, end=10), z=Range(beg=10, end=10)),\n",
       " Cube(x=Range(beg=10, end=11), y=Range(beg=10, end=11), z=Range(beg=12, end=12)),\n",
       " Cube(x=Range(beg=10, end=11), y=Range(beg=12, end=12), z=Range(beg=10, end=11)),\n",
       " Cube(x=Range(beg=10, end=11), y=Range(beg=12, end=12), z=Range(beg=12, end=12)),\n",
       " Cube(x=Range(beg=11, end=11), y=Range(beg=11, end=11), z=Range(beg=12, end=13)),\n",
       " Cube(x=Range(beg=11, end=11), y=Range(beg=12, end=13), z=Range(beg=11, end=11)),\n",
       " Cube(x=Range(beg=11, end=11), y=Range(beg=12, end=13), z=Range(beg=12, end=13)),\n",
       " Cube(x=Range(beg=11, end=12), y=Range(beg=11, end=12), z=Range(beg=13, end=13)),\n",
       " Cube(x=Range(beg=11, end=12), y=Range(beg=13, end=13), z=Range(beg=11, end=12)),\n",
       " Cube(x=Range(beg=11, end=12), y=Range(beg=13, end=13), z=Range(beg=13, end=13)),\n",
       " Cube(x=Range(beg=12, end=12), y=Range(beg=10, end=11), z=Range(beg=10, end=11)),\n",
       " Cube(x=Range(beg=12, end=12), y=Range(beg=10, end=11), z=Range(beg=12, end=12)),\n",
       " Cube(x=Range(beg=12, end=12), y=Range(beg=12, end=12), z=Range(beg=10, end=11)),\n",
       " Cube(x=Range(beg=12, end=12), y=Range(beg=12, end=12), z=Range(beg=12, end=12)),\n",
       " Cube(x=Range(beg=12, end=13), y=Range(beg=11, end=11), z=Range(beg=11, end=11)),\n",
       " Cube(x=Range(beg=12, end=13), y=Range(beg=11, end=11), z=Range(beg=12, end=13)),\n",
       " Cube(x=Range(beg=12, end=13), y=Range(beg=12, end=13), z=Range(beg=11, end=11)),\n",
       " Cube(x=Range(beg=12, end=13), y=Range(beg=12, end=13), z=Range(beg=12, end=13)),\n",
       " Cube(x=Range(beg=13, end=13), y=Range(beg=11, end=12), z=Range(beg=11, end=12)),\n",
       " Cube(x=Range(beg=13, end=13), y=Range(beg=11, end=12), z=Range(beg=13, end=13)),\n",
       " Cube(x=Range(beg=13, end=13), y=Range(beg=13, end=13), z=Range(beg=11, end=12)),\n",
       " Cube(x=Range(beg=13, end=13), y=Range(beg=13, end=13), z=Range(beg=13, end=13))}"
      ]
     },
     "execution_count": 285,
     "metadata": {},
     "output_type": "execute_result"
    }
   ],
   "source": [
    "cubes"
   ]
  },
  {
   "cell_type": "code",
   "execution_count": 274,
   "id": "4eecf436-a15c-4cd0-b9cd-5a4eb3aef92d",
   "metadata": {},
   "outputs": [
    {
     "data": {
      "text/plain": [
       "{Cube(x=Range(beg=-11, end=37), y=Range(beg=-44, end=1), z=Range(beg=-20, end=25))}"
      ]
     },
     "execution_count": 274,
     "metadata": {},
     "output_type": "execute_result"
    }
   ],
   "source": [
    "cubes"
   ]
  },
  {
   "cell_type": "code",
   "execution_count": 240,
   "id": "e5b6ff96-a509-49ae-b98e-14b09ed19495",
   "metadata": {},
   "outputs": [
    {
     "data": {
      "text/plain": [
       "set()"
      ]
     },
     "execution_count": 240,
     "metadata": {},
     "output_type": "execute_result"
    }
   ],
   "source": [
    "stack"
   ]
  },
  {
   "cell_type": "code",
   "execution_count": 239,
   "id": "eaa21753-c87f-4658-adc5-fdfc86766faf",
   "metadata": {},
   "outputs": [
    {
     "data": {
      "text/plain": [
       "['on x=-9..45,y=-15..37,z=-2..46',\n",
       " 'on x=-48..2,y=-11..37,z=3..48',\n",
       " 'on x=-47..4,y=-47..-3,z=-12..34']"
      ]
     },
     "execution_count": 239,
     "metadata": {},
     "output_type": "execute_result"
    }
   ],
   "source": [
    "data[:3]"
   ]
  },
  {
   "cell_type": "code",
   "execution_count": null,
   "id": "2740783f-e71d-4d1f-8a74-d0e9f918cf19",
   "metadata": {},
   "outputs": [],
   "source": []
  },
  {
   "cell_type": "code",
   "execution_count": null,
   "id": "0130f111-dd08-456b-b5c3-7f647b5fca91",
   "metadata": {},
   "outputs": [],
   "source": []
  },
  {
   "cell_type": "code",
   "execution_count": null,
   "id": "6b919aa2-8893-4c71-8fc7-e541577b7878",
   "metadata": {},
   "outputs": [],
   "source": []
  },
  {
   "cell_type": "code",
   "execution_count": null,
   "id": "835d1c3f-9a6d-450e-a996-62632eb79290",
   "metadata": {},
   "outputs": [],
   "source": []
  },
  {
   "cell_type": "code",
   "execution_count": null,
   "id": "e908445b-1570-435e-a27c-432be4127b3d",
   "metadata": {},
   "outputs": [],
   "source": []
  },
  {
   "cell_type": "code",
   "execution_count": 112,
   "id": "cadbaac5-4018-4328-8be7-693d88d9ef2f",
   "metadata": {},
   "outputs": [],
   "source": [
    "diff = Range(2,5).intersect(Range(3,6))"
   ]
  },
  {
   "cell_type": "code",
   "execution_count": 114,
   "id": "b022d490-b51a-4405-aa29-6341389c1c23",
   "metadata": {},
   "outputs": [
    {
     "data": {
      "text/plain": [
       "[Range(beg=2, end=3), Range(beg=4, end=5)]"
      ]
     },
     "execution_count": 114,
     "metadata": {},
     "output_type": "execute_result"
    }
   ],
   "source": [
    "Range(2,5).split(diff)"
   ]
  },
  {
   "cell_type": "code",
   "execution_count": 9,
   "id": "1d2692d8-99a0-4d19-9bea-a24457ad2906",
   "metadata": {},
   "outputs": [],
   "source": [
    "def parse(line):\n",
    "    order, line = line.split(' ')\n",
    "    ranges = []\n",
    "    for obj in line.split(','):\n",
    "        ranges.append(list(map(lambda x: int(x),obj[2:].split('..'))))\n",
    "    return (order, ranges)"
   ]
  },
  {
   "cell_type": "code",
   "execution_count": 10,
   "id": "f1f1f805-7f85-4dbb-8824-6554983295e7",
   "metadata": {},
   "outputs": [],
   "source": [
    "data = [parse(l) for l in data]"
   ]
  },
  {
   "cell_type": "code",
   "execution_count": 12,
   "id": "40607dfe-e146-4be6-8670-bb71bbf0e3ea",
   "metadata": {},
   "outputs": [
    {
     "data": {
      "text/plain": [
       "[('on', [[-9, 45], [-15, 37], [-2, 46]]),\n",
       " ('on', [[-48, 2], [-11, 37], [3, 48]]),\n",
       " ('on', [[-47, 4], [-47, -3], [-12, 34]]),\n",
       " ('on', [[-24, 29], [-12, 40], [-20, 29]]),\n",
       " ('on', [[-48, 3], [-38, 16], [-22, 31]]),\n",
       " ('on', [[-35, 13], [-10, 43], [-11, 42]]),\n",
       " ('on', [[-4, 47], [1, 47], [-26, 18]]),\n",
       " ('on', [[-49, 1], [-29, 22], [-44, 2]]),\n",
       " ('on', [[-12, 33], [-14, 38], [-9, 35]]),\n",
       " ('on', [[-44, 8], [0, 46], [-28, 20]])]"
      ]
     },
     "execution_count": 12,
     "metadata": {},
     "output_type": "execute_result"
    }
   ],
   "source": [
    "data[:10]"
   ]
  },
  {
   "cell_type": "code",
   "execution_count": null,
   "id": "73d93e12-910a-4e50-864a-cd55a21104bb",
   "metadata": {},
   "outputs": [],
   "source": []
  },
  {
   "cell_type": "code",
   "execution_count": 17,
   "id": "9f051529-f66a-4a5e-a947-9142e412a4f7",
   "metadata": {},
   "outputs": [],
   "source": [
    "a = [3,]"
   ]
  },
  {
   "cell_type": "code",
   "execution_count": 18,
   "id": "e3d02c42-0e1f-437c-b3c1-9be0e61e2626",
   "metadata": {},
   "outputs": [],
   "source": [
    "b = a.pop()"
   ]
  },
  {
   "cell_type": "code",
   "execution_count": null,
   "id": "60121ffe-9c24-4069-951b-9f2ebcfbd4fe",
   "metadata": {},
   "outputs": [],
   "source": [
    "def union(objs, cube):\n",
    "    stack = [cube]\n",
    "    while len(stack) > 0:\n",
    "        cube = stack.pop()\n",
    "        for obj in objs:\n",
    "            if cube[]"
   ]
  },
  {
   "cell_type": "code",
   "execution_count": null,
   "id": "519decd9-1640-4503-ad1f-7987428331c9",
   "metadata": {},
   "outputs": [],
   "source": []
  },
  {
   "cell_type": "code",
   "execution_count": null,
   "id": "f8370819-94e8-4ccb-a36b-4d1110668ac8",
   "metadata": {},
   "outputs": [],
   "source": []
  },
  {
   "cell_type": "code",
   "execution_count": null,
   "id": "bfbc931b-d426-4b13-be16-6ba69e31659c",
   "metadata": {},
   "outputs": [],
   "source": []
  },
  {
   "cell_type": "code",
   "execution_count": null,
   "id": "1346205a-f898-4bfa-8181-451f49426d68",
   "metadata": {},
   "outputs": [],
   "source": []
  },
  {
   "cell_type": "code",
   "execution_count": null,
   "id": "b347b284-d9a1-4aba-a34b-6fdb2da4447a",
   "metadata": {},
   "outputs": [],
   "source": []
  },
  {
   "cell_type": "code",
   "execution_count": 82,
   "id": "0dd76e96-0cde-4b16-a2d7-a1952afd668a",
   "metadata": {},
   "outputs": [],
   "source": [
    "def merge(state, size, line):\n",
    "    \"\"\"\n",
    "    State is of the form [list,list,list]\n",
    "    of turned-on ranges in each axis\n",
    "    \"\"\"\n",
    "    x, y, z = state\n",
    "    action, (l_x,l_y,l_z) = line\n",
    "    \n",
    "    if action == 'on':\n",
    "        x_diff = set(np.arange(l_x[0],l_x[1]+1)) - x\n",
    "        y_diff = set(np.arange(l_y[0],l_y[1]+1)) - y\n",
    "        z_diff = set(np.arange(l_z[0],l_z[1]+1)) - z\n",
    "        \n",
    "        size += len(x_diff) * len(x_diff) * len(x_diff)\n",
    "        \n",
    "        x |= x_diff\n",
    "        y |= y_diff\n",
    "        z |= z_diff\n",
    "\n",
    "    elif action == 'off':\n",
    "        x_int = x & set(np.arange(l_x[0],l_x[1]+1))\n",
    "        y_int = y & set(np.arange(l_y[0],l_y[1]+1))\n",
    "        z_int = z & set(np.arange(l_z[0],l_z[1]+1))\n",
    "        \n",
    "        size -= len(x_int) * len(y_int) * len(z_int)\n",
    "\n",
    "        x -= x_int\n",
    "        y -= y_int\n",
    "        z -= z_int\n",
    "\n",
    "    return [x,y,z], size"
   ]
  },
  {
   "cell_type": "code",
   "execution_count": 83,
   "id": "7c2db644-a62e-42a4-99b5-b12c3f05d251",
   "metadata": {},
   "outputs": [],
   "source": [
    "state = [set(), set(), set()]\n",
    "size = 0\n",
    "for line in data[:20]:\n",
    "    state, size = merge(state, size, line)"
   ]
  },
  {
   "cell_type": "code",
   "execution_count": 86,
   "id": "68d08c25-05d5-48fc-a91e-4c93ebc116f4",
   "metadata": {},
   "outputs": [
    {
     "data": {
      "text/plain": [
       "635040"
      ]
     },
     "execution_count": 86,
     "metadata": {},
     "output_type": "execute_result"
    }
   ],
   "source": [
    "get_size(state)"
   ]
  },
  {
   "cell_type": "code",
   "execution_count": null,
   "id": "9d89588c-d341-4c1a-a67b-3eac6683eb39",
   "metadata": {},
   "outputs": [],
   "source": []
  },
  {
   "cell_type": "code",
   "execution_count": null,
   "id": "7093b36f-dca7-431c-bc7f-d6a6906627d5",
   "metadata": {},
   "outputs": [],
   "source": []
  },
  {
   "cell_type": "code",
   "execution_count": null,
   "id": "73b8bb89-86c8-4200-8cbd-edd7ac1b630a",
   "metadata": {},
   "outputs": [],
   "source": []
  },
  {
   "cell_type": "code",
   "execution_count": 80,
   "id": "8b56ea85-bf5a-484f-9f52-47e4e1c29535",
   "metadata": {},
   "outputs": [],
   "source": [
    "def get_size(state):\n",
    "    x,y,z = state\n",
    "    return len(x) * len(y) * len(z)"
   ]
  },
  {
   "cell_type": "code",
   "execution_count": null,
   "id": "ae5d9051-4145-4ca5-81ce-53fcf7729dcb",
   "metadata": {},
   "outputs": [],
   "source": []
  },
  {
   "cell_type": "code",
   "execution_count": null,
   "id": "5fcfae5a-8d67-48fa-b687-6f8bc583a0a3",
   "metadata": {},
   "outputs": [],
   "source": []
  },
  {
   "cell_type": "code",
   "execution_count": null,
   "id": "69b2cb2d-25d9-4b61-b8b6-3d9a10f51e37",
   "metadata": {},
   "outputs": [],
   "source": []
  },
  {
   "cell_type": "code",
   "execution_count": 21,
   "id": "e437ebd6-35a6-4de6-a651-e2c3e06736ad",
   "metadata": {},
   "outputs": [],
   "source": [
    "a = data[0][1][0]"
   ]
  },
  {
   "cell_type": "code",
   "execution_count": 26,
   "id": "703ed728-8d97-4097-b394-5c82c14e2442",
   "metadata": {},
   "outputs": [
    {
     "data": {
      "text/plain": [
       "[-9, 45]"
      ]
     },
     "execution_count": 26,
     "metadata": {},
     "output_type": "execute_result"
    }
   ],
   "source": [
    "a"
   ]
  },
  {
   "cell_type": "code",
   "execution_count": null,
   "id": "ae07bc38-437f-4bf8-b216-86d2f0b881ba",
   "metadata": {},
   "outputs": [],
   "source": []
  },
  {
   "cell_type": "code",
   "execution_count": null,
   "id": "c92b63b8-02a7-4515-8873-32c1ef2f1824",
   "metadata": {},
   "outputs": [],
   "source": []
  },
  {
   "cell_type": "code",
   "execution_count": null,
   "id": "e034cf3f-1c8c-44b5-af0b-75ddae1bac94",
   "metadata": {},
   "outputs": [],
   "source": []
  },
  {
   "cell_type": "code",
   "execution_count": null,
   "id": "4e3413de-b607-4e27-b7e4-4f8f35491f54",
   "metadata": {},
   "outputs": [],
   "source": []
  },
  {
   "cell_type": "code",
   "execution_count": null,
   "id": "fbb40a93-09bd-4101-95b0-05ed2cd29b71",
   "metadata": {},
   "outputs": [],
   "source": []
  },
  {
   "cell_type": "code",
   "execution_count": null,
   "id": "1b120c0c-bd2d-4564-b0da-7149b7747160",
   "metadata": {},
   "outputs": [],
   "source": []
  },
  {
   "cell_type": "code",
   "execution_count": null,
   "id": "f77b254a-36ae-4812-897e-d368a83c2698",
   "metadata": {},
   "outputs": [],
   "source": []
  },
  {
   "cell_type": "code",
   "execution_count": null,
   "id": "29df7e5b-dcf2-4cfe-8984-86fd127cc270",
   "metadata": {},
   "outputs": [],
   "source": []
  },
  {
   "cell_type": "code",
   "execution_count": null,
   "id": "5ecfd4e9-0af0-4578-ad03-f0323e7b2a27",
   "metadata": {},
   "outputs": [],
   "source": []
  },
  {
   "cell_type": "code",
   "execution_count": null,
   "id": "bef6cfb0-6012-4e32-ade2-ea1a29a7b38f",
   "metadata": {},
   "outputs": [],
   "source": []
  },
  {
   "cell_type": "code",
   "execution_count": 103,
   "id": "3b14279c-4c2d-4557-be8e-6c4b44f265cf",
   "metadata": {},
   "outputs": [],
   "source": [
    "from scipy.sparse import dok_matrix, bsr_matrix"
   ]
  },
  {
   "cell_type": "code",
   "execution_count": 14,
   "id": "7576253d-d366-4ae3-913c-5dfe079c84f8",
   "metadata": {},
   "outputs": [],
   "source": [
    "import sparse"
   ]
  },
  {
   "cell_type": "code",
   "execution_count": 76,
   "id": "db767af6-0ef9-418c-85b2-0408830f2af7",
   "metadata": {},
   "outputs": [],
   "source": [
    "data = open('../inputs/input-day22').read().splitlines()"
   ]
  },
  {
   "cell_type": "code",
   "execution_count": 78,
   "id": "be8069ca-f4bb-4baf-9561-4a803e4e27ff",
   "metadata": {},
   "outputs": [],
   "source": [
    "data = [parse(l) for l in data]"
   ]
  },
  {
   "cell_type": "code",
   "execution_count": 93,
   "id": "b90100d3-bdd0-43e0-966d-05f429655b35",
   "metadata": {},
   "outputs": [],
   "source": [
    "arr = sparse.DOK(shape = (400000,400000,400000), dtype=int, fill_value=0)"
   ]
  },
  {
   "cell_type": "code",
   "execution_count": null,
   "id": "1a52d41d-d8ef-460a-a32c-a87c83884369",
   "metadata": {},
   "outputs": [],
   "source": [
    "for line in data:\n",
    "    num = 0\n",
    "    order,(x,y,z) = line\n",
    "    if order == 'on':\n",
    "        num = 1\n",
    "    arr[x[0]:x[1]+1,y[0]:y[1]+1,z[0]:z[1]+1] = num"
   ]
  },
  {
   "cell_type": "code",
   "execution_count": 85,
   "id": "97a9dcef-59c9-44a8-b809-57002381fc6a",
   "metadata": {},
   "outputs": [],
   "source": [
    "arr = sparse.COO(arr)"
   ]
  },
  {
   "cell_type": "code",
   "execution_count": 86,
   "id": "c5cb0e93-e4fa-4fa8-b737-3548a98fe2f6",
   "metadata": {},
   "outputs": [
    {
     "data": {
      "text/plain": [
       "653798"
      ]
     },
     "execution_count": 86,
     "metadata": {},
     "output_type": "execute_result"
    }
   ],
   "source": [
    "arr.sum()"
   ]
  },
  {
   "cell_type": "code",
   "execution_count": 71,
   "id": "4fa1a765-dbce-4403-86fe-688deee2a41a",
   "metadata": {},
   "outputs": [
    {
     "data": {
      "text/html": [
       "<table><tbody><tr><th style=\"text-align: left\">Format</th><td style=\"text-align: left\">coo</td></tr><tr><th style=\"text-align: left\">Data Type</th><td style=\"text-align: left\">bool</td></tr><tr><th style=\"text-align: left\">Shape</th><td style=\"text-align: left\">(200000, 200000, 200000)</td></tr><tr><th style=\"text-align: left\">nnz</th><td style=\"text-align: left\">0</td></tr><tr><th style=\"text-align: left\">Density</th><td style=\"text-align: left\">0.0</td></tr><tr><th style=\"text-align: left\">Read-only</th><td style=\"text-align: left\">True</td></tr><tr><th style=\"text-align: left\">Size</th><td style=\"text-align: left\">0</td></tr><tr><th style=\"text-align: left\">Storage ratio</th><td style=\"text-align: left\">0.0</td></tr></tbody></table>"
      ],
      "text/plain": [
       "<COO: shape=(200000, 200000, 200000), dtype=bool, nnz=0, fill_value=False>"
      ]
     },
     "execution_count": 71,
     "metadata": {},
     "output_type": "execute_result"
    }
   ],
   "source": [
    "arr"
   ]
  },
  {
   "cell_type": "code",
   "execution_count": 49,
   "id": "c0e5b7b4-cd7f-45c0-ae1a-28e6f1da2a73",
   "metadata": {},
   "outputs": [
    {
     "ename": "TypeError",
     "evalue": "'COO' object does not support item assignment",
     "output_type": "error",
     "traceback": [
      "\u001b[0;31m---------------------------------------------------------------------------\u001b[0m",
      "\u001b[0;31mTypeError\u001b[0m                                 Traceback (most recent call last)",
      "\u001b[0;32m/var/folders/tm/kwxmcdkj60gck7rdnxqb9s980000gn/T/ipykernel_56709/1448764698.py\u001b[0m in \u001b[0;36m<module>\u001b[0;34m\u001b[0m\n\u001b[0;32m----> 1\u001b[0;31m \u001b[0marr\u001b[0m\u001b[0;34m[\u001b[0m\u001b[0;36m5\u001b[0m\u001b[0;34m]\u001b[0m \u001b[0;34m=\u001b[0m \u001b[0;36m1\u001b[0m\u001b[0;34m\u001b[0m\u001b[0;34m\u001b[0m\u001b[0m\n\u001b[0m",
      "\u001b[0;31mTypeError\u001b[0m: 'COO' object does not support item assignment"
     ]
    }
   ],
   "source": [
    "arr[5] = 1"
   ]
  },
  {
   "cell_type": "code",
   "execution_count": 44,
   "id": "d93803b4-c03f-4914-9565-9fc14bbf68ca",
   "metadata": {},
   "outputs": [
    {
     "name": "stderr",
     "output_type": "stream",
     "text": [
      "/usr/local/lib/python3.9/site-packages/sparse/_utils.py:323: RuntimeWarning: invalid value encountered in double_scalars\n",
      "  density = np.float_(arr.nnz) / np.float_(arr.size)\n",
      "/usr/local/lib/python3.9/site-packages/sparse/_utils.py:343: RuntimeWarning: invalid value encountered in double_scalars\n",
      "  np.float_(arr.nbytes)\n"
     ]
    },
    {
     "data": {
      "text/html": [
       "<table><tbody><tr><th style=\"text-align: left\">Format</th><td style=\"text-align: left\">coo</td></tr><tr><th style=\"text-align: left\">Data Type</th><td style=\"text-align: left\">bool</td></tr><tr><th style=\"text-align: left\">Shape</th><td style=\"text-align: left\">(0, 0, 0)</td></tr><tr><th style=\"text-align: left\">nnz</th><td style=\"text-align: left\">0</td></tr><tr><th style=\"text-align: left\">Density</th><td style=\"text-align: left\">nan</td></tr><tr><th style=\"text-align: left\">Read-only</th><td style=\"text-align: left\">True</td></tr><tr><th style=\"text-align: left\">Size</th><td style=\"text-align: left\">0</td></tr><tr><th style=\"text-align: left\">Storage ratio</th><td style=\"text-align: left\">nan</td></tr></tbody></table>"
      ],
      "text/plain": [
       "<COO: shape=(0, 0, 0), dtype=bool, nnz=0, fill_value=False>"
      ]
     },
     "execution_count": 44,
     "metadata": {},
     "output_type": "execute_result"
    }
   ],
   "source": [
    "(arr == 1)"
   ]
  },
  {
   "cell_type": "code",
   "execution_count": null,
   "id": "884959f0-8da2-494b-8854-df23218ca3c2",
   "metadata": {},
   "outputs": [],
   "source": []
  },
  {
   "cell_type": "code",
   "execution_count": null,
   "id": "327a13f7-e231-4bfa-b3ce-310ecc0b2b36",
   "metadata": {},
   "outputs": [],
   "source": []
  },
  {
   "cell_type": "code",
   "execution_count": null,
   "id": "6091f473-f153-4102-a328-4a60bdf13da9",
   "metadata": {},
   "outputs": [],
   "source": []
  },
  {
   "cell_type": "code",
   "execution_count": null,
   "id": "32a7fc03-6cb7-41fe-bd1e-97df1e345fea",
   "metadata": {},
   "outputs": [],
   "source": []
  },
  {
   "cell_type": "code",
   "execution_count": null,
   "id": "6cccd9da-2907-4641-b960-af07d60d6694",
   "metadata": {},
   "outputs": [],
   "source": []
  }
 ],
 "metadata": {
  "kernelspec": {
   "display_name": "Python 3",
   "language": "python",
   "name": "python3"
  },
  "language_info": {
   "codemirror_mode": {
    "name": "ipython",
    "version": 3
   },
   "file_extension": ".py",
   "mimetype": "text/x-python",
   "name": "python",
   "nbconvert_exporter": "python",
   "pygments_lexer": "ipython3",
   "version": "3.9.9"
  }
 },
 "nbformat": 4,
 "nbformat_minor": 5
}
