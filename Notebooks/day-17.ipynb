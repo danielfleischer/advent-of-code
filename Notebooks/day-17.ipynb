{
 "cells": [
  {
   "cell_type": "code",
   "execution_count": 14,
   "id": "c706d79d-17f4-4c5f-8b14-69a0bf58680e",
   "metadata": {},
   "outputs": [],
   "source": [
    "wind_data = open(\"../inputs/day-17\").read().rstrip()"
   ]
  },
  {
   "cell_type": "raw",
   "id": "b4ed4429-0b45-4690-a1b1-3fbdc0ee70da",
   "metadata": {},
   "source": [
    "wind_data = \">>><<><>><<<>><>>><<<>>><<<><<<>><>><<>>\""
   ]
  },
  {
   "cell_type": "code",
   "execution_count": 15,
   "id": "ad7bd7fc-2f91-4210-aa68-0aed5021cbc7",
   "metadata": {},
   "outputs": [],
   "source": [
    "grid = set([x for x in range(7)])"
   ]
  },
  {
   "cell_type": "markdown",
   "id": "77e18703-1c6f-44db-87b6-88d6689734af",
   "metadata": {},
   "source": [
    "Defining the shapes such that (0,0) is the bottom left corner, which can be pushed right 2 steps and up as much steps as needed according to where the ground is:"
   ]
  },
  {
   "cell_type": "code",
   "execution_count": 16,
   "id": "5324328f-f8b3-4594-9f37-c855a60e585f",
   "metadata": {},
   "outputs": [],
   "source": [
    "shapes_template = [[0, 1, 2, 3],\n",
    "                   [1,1j,1+1j,2+1j,1+2j],\n",
    "                   [0,1,2,2+1j,2+2j],\n",
    "                   [0,1j,2j,3j],\n",
    "                   [0,1,1j,1+1j]]"
   ]
  },
  {
   "cell_type": "code",
   "execution_count": 17,
   "id": "6e2c1555-993a-463c-ab20-852203ab3ecd",
   "metadata": {},
   "outputs": [],
   "source": [
    "class Iter:\n",
    "    def __init__(self, data):\n",
    "        self.data = data\n",
    "        self.iter = iter(data)\n",
    "    \n",
    "    def __iter__(self):\n",
    "        return self\n",
    "    \n",
    "    def __next__(self):\n",
    "        try:\n",
    "            return next(self.iter)\n",
    "        except StopIteration:\n",
    "            self.iter = iter(self.data)\n",
    "            return next(self.iter)"
   ]
  },
  {
   "cell_type": "code",
   "execution_count": 18,
   "id": "7a6326ca-9095-42d5-89ab-9e51da9b0b6c",
   "metadata": {},
   "outputs": [],
   "source": [
    "winds = Iter(wind_data)\n",
    "shapes = Iter(shapes_template)"
   ]
  },
  {
   "cell_type": "code",
   "execution_count": 19,
   "id": "a6ccddfa-2c64-4da7-b722-ebbad14f436a",
   "metadata": {},
   "outputs": [],
   "source": [
    "def can_move(shape, movement, grid):\n",
    "    new_shape = [coord + movement for coord in shape]\n",
    "    if ((not (set(new_shape) & grid)) and max(new_shape ,key=lambda x: x.real).real < 7  \\\n",
    "        and min(new_shape ,key=lambda x: x.real).real >=  0):\n",
    "        return new_shape\n",
    "    else:\n",
    "        return shape"
   ]
  },
  {
   "cell_type": "code",
   "execution_count": 20,
   "id": "d9184baa-0666-4c3c-8ed0-6eda345589fb",
   "metadata": {},
   "outputs": [],
   "source": [
    "height = 0"
   ]
  },
  {
   "cell_type": "code",
   "execution_count": 21,
   "id": "253f1176-ad53-48b2-8dce-8955e54b126d",
   "metadata": {},
   "outputs": [],
   "source": [
    "def step():\n",
    "    floor = max(grid ,key=lambda x: x.imag).imag\n",
    "    insertion = complex(2, floor + 4)\n",
    "    shape = next(shapes)\n",
    "    shape = [coord + insertion for coord in shape]\n",
    "    while True:\n",
    "        wind = next(winds)\n",
    "        shift = 1 if wind == '>' else -1\n",
    "        shape = can_move(shape, shift, grid)\n",
    "        if (new_shape := can_move(shape, -1j, grid)) == shape:\n",
    "            break\n",
    "        else:\n",
    "            shape = new_shape\n",
    "    grid.update(shape)"
   ]
  },
  {
   "cell_type": "raw",
   "id": "6bb4e94b-006c-4f62-b43a-212a0646cb6e",
   "metadata": {},
   "source": [
    "def clear_row():\n",
    "    global height, grid\n",
    "    rel_height = int(max(grid, key=lambda x: x.imag).imag)\n",
    "    h = 0\n",
    "    for i in range(rel_height,-1,-1):\n",
    "        if {complex(n, i) for n in range(7)}.issubset(grid):\n",
    "            h = i\n",
    "            break\n",
    "    if h == 0:\n",
    "        return\n",
    "    height += h\n",
    "    grid = {complex(g.real, g.imag - h) for g in grid if g.imag > h}"
   ]
  },
  {
   "cell_type": "code",
   "execution_count": 22,
   "id": "77fd1fbc-b73f-4308-bd78-3d3400c8efbb",
   "metadata": {},
   "outputs": [],
   "source": [
    "def clear_row(thres = 50):\n",
    "    global height, grid\n",
    "    thres = int(max(grid, key=lambda x: x.imag).imag) - thres\n",
    "    height += thres\n",
    "    grid = {complex(g.real, g.imag - thres) for g in grid if g.imag > thres}"
   ]
  },
  {
   "cell_type": "code",
   "execution_count": null,
   "id": "3207a23b-b4db-4533-bf54-c9cf8b58383d",
   "metadata": {},
   "outputs": [],
   "source": []
  },
  {
   "cell_type": "code",
   "execution_count": null,
   "id": "079ab790-20d6-4d8f-8924-5145a52deaf2",
   "metadata": {},
   "outputs": [],
   "source": []
  },
  {
   "cell_type": "code",
   "execution_count": null,
   "id": "95ba2f89-670a-4e83-9b76-b88172d95487",
   "metadata": {},
   "outputs": [],
   "source": []
  },
  {
   "cell_type": "code",
   "execution_count": null,
   "id": "5e220591-3862-4f8a-b7ce-4e884b641108",
   "metadata": {},
   "outputs": [],
   "source": []
  },
  {
   "cell_type": "code",
   "execution_count": null,
   "id": "c790edef-ac94-413d-a0ac-640d2b8fa650",
   "metadata": {},
   "outputs": [],
   "source": []
  },
  {
   "cell_type": "code",
   "execution_count": null,
   "id": "1113e368-1c59-4ddc-a93e-5e7513752be5",
   "metadata": {},
   "outputs": [],
   "source": []
  },
  {
   "cell_type": "code",
   "execution_count": 23,
   "id": "2b0b4e72-0204-4930-9cb6-4d7ca0b09f78",
   "metadata": {},
   "outputs": [],
   "source": [
    "for i in range(2022):\n",
    "    step()\n",
    "    # if i > 0 and i % 1000 == 0:\n",
    "    #     clear_row()"
   ]
  },
  {
   "cell_type": "code",
   "execution_count": 1015,
   "id": "dfbc24a4-0fa4-49a7-9ef3-2077158be786",
   "metadata": {},
   "outputs": [
    {
     "name": "stdout",
     "output_type": "stream",
     "text": [
      "0\n",
      "100000\n",
      "200000\n",
      "300000\n",
      "400000\n",
      "500000\n"
     ]
    }
   ],
   "source": [
    "for i in range(len(wind_data) * 29 * 2):\n",
    "    if i % 100000 == 0:\n",
    "        print(i)\n",
    "    step()\n",
    "    if i > 0 and i % 100 == 0:\n",
    "        clear_row()"
   ]
  },
  {
   "cell_type": "code",
   "execution_count": null,
   "id": "932fe50e-159d-44dd-a18a-e46587adc04f",
   "metadata": {},
   "outputs": [],
   "source": [
    "for i in range(1000000000000):\n",
    "    if i % 100000 == 0:\n",
    "        print(i)\n",
    "    step()\n",
    "    if i > 0 and i % 100 == 0:\n",
    "        clear_row()"
   ]
  },
  {
   "cell_type": "code",
   "execution_count": 11,
   "id": "6b8d84e4-76da-4248-813f-6ab195e250a9",
   "metadata": {},
   "outputs": [
    {
     "data": {
      "text/plain": [
       "0"
      ]
     },
     "execution_count": 11,
     "metadata": {},
     "output_type": "execute_result"
    }
   ],
   "source": [
    "height"
   ]
  },
  {
   "cell_type": "code",
   "execution_count": 24,
   "id": "4869ef3b-813d-4132-af93-1ee462ded9c6",
   "metadata": {},
   "outputs": [
    {
     "data": {
      "text/plain": [
       "3173.0"
      ]
     },
     "execution_count": 24,
     "metadata": {},
     "output_type": "execute_result"
    }
   ],
   "source": [
    "max(grid, key=lambda x: x.imag).imag + height"
   ]
  },
  {
   "cell_type": "code",
   "execution_count": 13,
   "id": "7e69f398-212e-4707-b19d-7b23672ca045",
   "metadata": {},
   "outputs": [
    {
     "data": {
      "text/plain": [
       "4764.0"
      ]
     },
     "execution_count": 13,
     "metadata": {},
     "output_type": "execute_result"
    }
   ],
   "source": [
    "max(grid, key=lambda x: x.imag).imag + height"
   ]
  },
  {
   "cell_type": "code",
   "execution_count": null,
   "id": "3468ac23-0130-40ce-9bb7-18af3d2a4246",
   "metadata": {},
   "outputs": [],
   "source": []
  },
  {
   "cell_type": "code",
   "execution_count": null,
   "id": "d5c547f7-77ac-4373-a4e9-6a47d0202de3",
   "metadata": {},
   "outputs": [],
   "source": []
  },
  {
   "cell_type": "code",
   "execution_count": 866,
   "id": "303c1a62-67e8-4f79-87c5-6c3fa80d1e93",
   "metadata": {},
   "outputs": [],
   "source": [
    "import math"
   ]
  },
  {
   "cell_type": "code",
   "execution_count": 950,
   "id": "670c6c88-32d2-4874-97dc-d5925a2509ce",
   "metadata": {},
   "outputs": [
    {
     "data": {
      "text/plain": [
       "10091"
      ]
     },
     "execution_count": 950,
     "metadata": {},
     "output_type": "execute_result"
    }
   ],
   "source": [
    "math.lcm(len(wind_data))"
   ]
  },
  {
   "cell_type": "code",
   "execution_count": 847,
   "id": "8c9680c9-538c-4eb1-9e41-f260d765b5db",
   "metadata": {},
   "outputs": [
    {
     "data": {
      "text/plain": [
       "158526"
      ]
     },
     "execution_count": 847,
     "metadata": {},
     "output_type": "execute_result"
    }
   ],
   "source": [
    "79263 * 2"
   ]
  },
  {
   "cell_type": "code",
   "execution_count": 833,
   "id": "9a569784-91db-4453-abae-30c360792fe6",
   "metadata": {},
   "outputs": [
    {
     "data": {
      "text/plain": [
       "158406"
      ]
     },
     "execution_count": 833,
     "metadata": {},
     "output_type": "execute_result"
    }
   ],
   "source": [
    "height"
   ]
  },
  {
   "cell_type": "code",
   "execution_count": null,
   "id": "28b5ef3f-8b90-482a-8708-11eaf4cb26ff",
   "metadata": {},
   "outputs": [],
   "source": []
  },
  {
   "cell_type": "code",
   "execution_count": null,
   "id": "4266e763-afa9-48fb-adbb-239d5df94416",
   "metadata": {},
   "outputs": [],
   "source": []
  },
  {
   "cell_type": "code",
   "execution_count": 785,
   "id": "ed31225b-0036-45ac-8d5d-137de6326e5c",
   "metadata": {},
   "outputs": [
    {
     "data": {
      "text/plain": [
       "10091"
      ]
     },
     "execution_count": 785,
     "metadata": {},
     "output_type": "execute_result"
    }
   ],
   "source": [
    "len(wind_data)"
   ]
  },
  {
   "cell_type": "code",
   "execution_count": 786,
   "id": "f8e47991-088e-4c4a-96c1-15a4715ab014",
   "metadata": {},
   "outputs": [
    {
     "data": {
      "text/plain": [
       "323"
      ]
     },
     "execution_count": 786,
     "metadata": {},
     "output_type": "execute_result"
    }
   ],
   "source": [
    "len(grid)"
   ]
  },
  {
   "cell_type": "code",
   "execution_count": 622,
   "id": "83b16c17-c54e-4b65-91d1-0b93ae4c2ddc",
   "metadata": {},
   "outputs": [
    {
     "name": "stdout",
     "output_type": "stream",
     "text": [
      "0\n",
      "232\n",
      "274\n",
      "352\n",
      "688\n",
      "705\n",
      "917\n",
      "1174\n",
      "1566\n",
      "1625\n",
      "1666\n",
      "1959\n",
      "2111\n",
      "2247\n",
      "2304\n",
      "2306\n",
      "2436\n",
      "2506\n",
      "2542\n",
      "2623\n",
      "2706\n",
      "2742\n",
      "2934\n",
      "2976\n"
     ]
    }
   ],
   "source": [
    "for i in range(3000):\n",
    "    if {complex(n, i) for n in range(7)}.issubset(grid):\n",
    "        print(i)"
   ]
  },
  {
   "cell_type": "code",
   "execution_count": 540,
   "id": "0f63fe5d-80c7-4960-b039-a82fac00f0e6",
   "metadata": {},
   "outputs": [
    {
     "data": {
      "text/plain": [
       "{1, 4, 5}"
      ]
     },
     "execution_count": 540,
     "metadata": {},
     "output_type": "execute_result"
    }
   ],
   "source": [
    "{1,4,5} & {10,2,4,1,8,5}"
   ]
  },
  {
   "cell_type": "code",
   "execution_count": null,
   "id": "ee843b6a-73f4-4d72-8e57-d8c297c0ae10",
   "metadata": {},
   "outputs": [],
   "source": []
  },
  {
   "cell_type": "code",
   "execution_count": 533,
   "id": "359f93b3-7026-4972-b604-42f578983de9",
   "metadata": {},
   "outputs": [
    {
     "name": "stdout",
     "output_type": "stream",
     "text": [
      "0\n",
      "1000\n",
      "2000\n"
     ]
    }
   ],
   "source": [
    "for i in range(2022):\n",
    "    if i % 1000 == 0:\n",
    "        print(i)\n",
    "    step()"
   ]
  },
  {
   "cell_type": "code",
   "execution_count": 449,
   "id": "5a0f3c16-05e6-4c2b-a019-8e88b9a865a7",
   "metadata": {},
   "outputs": [],
   "source": [
    "from matplotlib import pyplot as plt\n",
    "import numpy as np"
   ]
  },
  {
   "cell_type": "code",
   "execution_count": 599,
   "id": "e0442c9f-b872-477a-928e-265bfa905d6b",
   "metadata": {},
   "outputs": [],
   "source": [
    "matrix = [x.real for x in grid], [x.imag for x in grid]"
   ]
  },
  {
   "cell_type": "code",
   "execution_count": 600,
   "id": "d68ede6b-2a2b-4b01-9e74-2ed988c4e853",
   "metadata": {},
   "outputs": [
    {
     "data": {
      "text/plain": [
       "<matplotlib.collections.PathCollection at 0x115823400>"
      ]
     },
     "execution_count": 600,
     "metadata": {},
     "output_type": "execute_result"
    },
    {
     "data": {
      "image/png": "[encoded data removed]",
      "text/plain": [
       "<Figure size 432x288 with 1 Axes>"
      ]
     },
     "metadata": {
      "needs_background": "light"
     },
     "output_type": "display_data"
    }
   ],
   "source": [
    "plt.scatter(*matrix)"
   ]
  },
  {
   "cell_type": "code",
   "execution_count": null,
   "id": "387e8591-fb55-415d-bb17-3a04de47592d",
   "metadata": {},
   "outputs": [],
   "source": []
  },
  {
   "cell_type": "code",
   "execution_count": null,
   "id": "92f71212-0a5b-48c1-9d58-aa15b07f5086",
   "metadata": {},
   "outputs": [],
   "source": []
  },
  {
   "cell_type": "code",
   "execution_count": 151,
   "id": "6a2ac57f-18a5-46c0-b7f5-ef77a4e91226",
   "metadata": {},
   "outputs": [],
   "source": [
    "a = 10"
   ]
  },
  {
   "cell_type": "code",
   "execution_count": 179,
   "id": "e830fc3b-c728-44dd-b4d6-8d3b5b177977",
   "metadata": {},
   "outputs": [
    {
     "data": {
      "text/plain": [
       "[0, 1, 2, (2+1j), (2+2j)]"
      ]
     },
     "execution_count": 179,
     "metadata": {},
     "output_type": "execute_result"
    }
   ],
   "source": [
    "shape = next(shapes)\n",
    "shape"
   ]
  },
  {
   "cell_type": "code",
   "execution_count": 168,
   "id": "e5092246-de17-46f8-81a5-e475f7e32029",
   "metadata": {},
   "outputs": [],
   "source": [
    "shape = [c + complex(2,10) for c in shape]"
   ]
  },
  {
   "cell_type": "code",
   "execution_count": 169,
   "id": "dafb03b1-5dcf-45c3-a3c1-6fe2a6fdfc9b",
   "metadata": {},
   "outputs": [
    {
     "data": {
      "text/plain": [
       "[(2+10j), (2+11j), (2+12j), (2+13j)]"
      ]
     },
     "execution_count": 169,
     "metadata": {},
     "output_type": "execute_result"
    }
   ],
   "source": [
    "shape"
   ]
  },
  {
   "cell_type": "code",
   "execution_count": 170,
   "id": "fb3abca4-59ee-4bfe-8486-7de9dfe91a6c",
   "metadata": {},
   "outputs": [
    {
     "data": {
      "text/plain": [
       "<__main__.Iter at 0x107a2ce20>"
      ]
     },
     "execution_count": 170,
     "metadata": {},
     "output_type": "execute_result"
    }
   ],
   "source": [
    "shapes"
   ]
  },
  {
   "cell_type": "code",
   "execution_count": 186,
   "id": "0f9f71e5-6a48-4958-b303-b418457a3365",
   "metadata": {},
   "outputs": [
    {
     "name": "stdout",
     "output_type": "stream",
     "text": [
      "1\n"
     ]
    }
   ],
   "source": [
    "if not {2,3} & {10}:\n",
    "    print(1)"
   ]
  },
  {
   "cell_type": "code",
   "execution_count": null,
   "id": "bde0bd30-3367-42f0-9af6-9988ce3ea3df",
   "metadata": {},
   "outputs": [],
   "source": []
  }
 ],
 "metadata": {
  "kernelspec": {
   "display_name": "Python 3 (ipykernel)",
   "language": "python",
   "name": "python3"
  },
  "language_info": {
   "codemirror_mode": {
    "name": "ipython",
    "version": 3
   },
   "file_extension": ".py",
   "mimetype": "text/x-python",
   "name": "python",
   "nbconvert_exporter": "python",
   "pygments_lexer": "ipython3",
   "version": "3.9.17"
  }
 },
 "nbformat": 4,
 "nbformat_minor": 5
}
