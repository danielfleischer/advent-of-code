{
 "cells": [
  {
   "cell_type": "code",
   "execution_count": 1,
   "id": "e96accf0-45c6-4a21-a92d-d15ded4a0519",
   "metadata": {},
   "outputs": [],
   "source": [
    "data = open(\"../inputs/day-16\").read().splitlines()"
   ]
  },
  {
   "cell_type": "code",
   "execution_count": 2,
   "id": "f3454ce9-dc76-4cc2-b881-565475564244",
   "metadata": {},
   "outputs": [],
   "source": [
    "import re"
   ]
  },
  {
   "cell_type": "code",
   "execution_count": 3,
   "id": "ffb0ef02-bcf5-4781-ac5e-717e52e52fdd",
   "metadata": {},
   "outputs": [],
   "source": [
    "sizes = {}\n",
    "distances = {}\n",
    "neighbors = {}"
   ]
  },
  {
   "cell_type": "code",
   "execution_count": 4,
   "id": "e7484582-bee9-40aa-afef-0c40fdada1ce",
   "metadata": {},
   "outputs": [],
   "source": [
    "for l in data:\n",
    "    name, value, neigh = re.match(\"Valve (\\w+) has .*=(\\d+); .* valves? (.*)\", l).groups([1,2,3])\n",
    "    sizes[name] = int(value)\n",
    "    neigh = neigh.split(', ')\n",
    "    neighbors[name] = set(neigh)\n",
    "    distances[(name, name)] = 0\n",
    "    for n in neigh:\n",
    "        distances[(name, n)] = distances[(n, name)] = 1"
   ]
  },
  {
   "cell_type": "code",
   "execution_count": 5,
   "id": "ccece3e8-9522-4f41-8d62-c4e6e2039553",
   "metadata": {},
   "outputs": [],
   "source": [
    "def bfs(s):\n",
    "    visited = set(sizes.keys()) - {s}\n",
    "    Q = [s]\n",
    "    while len(Q) > 0:\n",
    "        node = Q.pop(0)\n",
    "        for n in neighbors[node]:\n",
    "            if n in visited:\n",
    "                visited.remove(n)\n",
    "                dist = distances.get((s,n), 99999)\n",
    "                dist = min(dist, distances[s, node] + 1)\n",
    "                distances[(s,n)] = distances[(n,s)] = dist\n",
    "                Q.append(n)"
   ]
  },
  {
   "cell_type": "code",
   "execution_count": 6,
   "id": "4feaf7db-8c77-486f-827c-7a59ac5c12d7",
   "metadata": {},
   "outputs": [],
   "source": [
    "for x in sizes.keys():\n",
    "    bfs(x)"
   ]
  },
  {
   "cell_type": "code",
   "execution_count": 7,
   "id": "3e407ab9-843f-462d-9809-9b436e9bec5b",
   "metadata": {},
   "outputs": [],
   "source": [
    "best_pipes = [x for x,y in sorted([(k,v) for k,v in sizes.items() if v > 0], key=lambda x: x[1], reverse=True)]"
   ]
  },
  {
   "cell_type": "code",
   "execution_count": 8,
   "id": "cf5737ef-a289-481b-b530-a7bc2f1aa28f",
   "metadata": {},
   "outputs": [],
   "source": [
    "assert len(sizes) ** 2 == len(distances)"
   ]
  },
  {
   "cell_type": "code",
   "execution_count": 9,
   "id": "f0a1c2e6-268e-4c93-aeed-68fb0fd9ba60",
   "metadata": {},
   "outputs": [
    {
     "data": {
      "text/plain": [
       "15"
      ]
     },
     "execution_count": 9,
     "metadata": {},
     "output_type": "execute_result"
    }
   ],
   "source": [
    "max(distances.values())"
   ]
  },
  {
   "cell_type": "markdown",
   "id": "6c09354a-e81a-4c78-9311-ef78c11c3f52",
   "metadata": {},
   "source": [
    "Solving by exhaustive search:"
   ]
  },
  {
   "cell_type": "code",
   "execution_count": 15,
   "id": "86227e55-b34b-4b6b-8257-d2f6ab588e79",
   "metadata": {},
   "outputs": [],
   "source": [
    "from itertools import permutations as perm, combinations as comb\n",
    "import random"
   ]
  },
  {
   "cell_type": "code",
   "execution_count": 16,
   "id": "fbce7fa9-05e2-444e-9327-8daeac14602d",
   "metadata": {},
   "outputs": [],
   "source": [
    "table = {}"
   ]
  },
  {
   "cell_type": "code",
   "execution_count": 17,
   "id": "b4cd4b88-bbfa-402d-b848-3e9a31aa015d",
   "metadata": {},
   "outputs": [],
   "source": [
    "best_values = {}"
   ]
  },
  {
   "cell_type": "code",
   "execution_count": 21,
   "id": "f15363ce-82e8-44eb-96f1-5017f4701629",
   "metadata": {},
   "outputs": [],
   "source": [
    "def length(steps):\n",
    "    arr = ['AA'] + list(steps)\n",
    "    ans = 0\n",
    "    for i in range(len(arr) - 1):\n",
    "        ans += distances[(arr[i], arr[i+1])]\n",
    "        ans += 1\n",
    "    return ans"
   ]
  },
  {
   "cell_type": "code",
   "execution_count": 22,
   "id": "d65394d4-8b8f-457a-9093-f901c3536e65",
   "metadata": {},
   "outputs": [],
   "source": [
    "def value(steps):\n",
    "    if steps in table:\n",
    "        return table[steps]\n",
    "    ans = 0\n",
    "    t = 0\n",
    "    arr = ['AA'] + list(steps)\n",
    "    \n",
    "    for i in range(len(arr) - 1):\n",
    "        t += distances[(arr[i], arr[i+1])]\n",
    "        t += 1\n",
    "        ans += sizes[arr[i+1]] * (30 - t)\n",
    "    \n",
    "    table[steps] = ans\n",
    "    return ans"
   ]
  },
  {
   "cell_type": "code",
   "execution_count": 23,
   "id": "d7d71e44-63fd-4f36-934f-9cc19d140460",
   "metadata": {},
   "outputs": [],
   "source": [
    "def find_best_value(lst):\n",
    "    if (ans:=frozenset(lst)) in best_values:\n",
    "        return best_values[ans]\n",
    "    \n",
    "    score = 0\n",
    "    for p in perm(lst):\n",
    "        if length(p) >= 30:\n",
    "            continue\n",
    "        v = value(p)\n",
    "        score = max(score, v)\n",
    "    \n",
    "    best_values[frozenset(lst)] = score\n",
    "    return score"
   ]
  },
  {
   "cell_type": "code",
   "execution_count": 24,
   "id": "315d65e5-383b-4240-83fd-a5f83abcfb34",
   "metadata": {},
   "outputs": [
    {
     "name": "stdout",
     "output_type": "stream",
     "text": [
      "4\n",
      "5\n",
      "6\n",
      "7\n",
      "8\n"
     ]
    }
   ],
   "source": [
    "ans = 0\n",
    "for l in range(4,9):\n",
    "    print(l)\n",
    "    opt = comb(best_pipes, l)\n",
    "    for o in opt:\n",
    "        score = find_best_value(o)\n",
    "        if score == 0:\n",
    "            continue\n",
    "        if score > ans:\n",
    "            ans = score"
   ]
  },
  {
   "cell_type": "code",
   "execution_count": 25,
   "id": "d36c8f69-86e4-4e9c-8705-84d717de1694",
   "metadata": {},
   "outputs": [
    {
     "name": "stdout",
     "output_type": "stream",
     "text": [
      "2320\n"
     ]
    }
   ],
   "source": [
    "print(ans)"
   ]
  },
  {
   "cell_type": "code",
   "execution_count": null,
   "id": "30a88e13-6396-400b-9e95-d53d900fb9ba",
   "metadata": {},
   "outputs": [],
   "source": []
  },
  {
   "cell_type": "markdown",
   "id": "a55953bc-3bdb-4e80-b9d0-f7d9f0116453",
   "metadata": {},
   "source": [
    "## Me + Elephant"
   ]
  },
  {
   "cell_type": "markdown",
   "id": "f17e2a0f-f83c-4b9f-a54f-566fcd368682",
   "metadata": {},
   "source": [
    "Memoization:"
   ]
  },
  {
   "cell_type": "code",
   "execution_count": 26,
   "id": "f2649a02-5e84-439d-a78d-c6f6cd9833e8",
   "metadata": {},
   "outputs": [],
   "source": [
    "table = {}"
   ]
  },
  {
   "cell_type": "code",
   "execution_count": 27,
   "id": "9b3bd00f-3d6a-4b10-8798-018c5145ddb7",
   "metadata": {},
   "outputs": [],
   "source": [
    "best_values = {}"
   ]
  },
  {
   "cell_type": "code",
   "execution_count": 28,
   "id": "8cfb08dc-bec9-4d4e-843f-ad117f77c58b",
   "metadata": {},
   "outputs": [],
   "source": [
    "def value(steps):\n",
    "    if steps in table:\n",
    "        return table[steps]\n",
    "    ans = 0\n",
    "    t = 0\n",
    "    arr = ['AA'] + list(steps)\n",
    "    \n",
    "    for i in range(len(arr) - 1):\n",
    "        t += distances[(arr[i], arr[i+1])]\n",
    "        t += 1\n",
    "        ans += sizes[arr[i+1]] * (26 - t)\n",
    "    \n",
    "    table[steps] = ans\n",
    "    return ans"
   ]
  },
  {
   "cell_type": "code",
   "execution_count": 29,
   "id": "07b75268-babc-4842-a31a-e24328d94638",
   "metadata": {},
   "outputs": [],
   "source": [
    "def find_best_value(lst):\n",
    "    if (ans:=frozenset(lst)) in best_values:\n",
    "        return best_values[ans]\n",
    "    \n",
    "    score = 0\n",
    "    for p in perm(lst):\n",
    "        if length(p) >= 26:\n",
    "            continue\n",
    "        v = value(p)\n",
    "        score = max(score, v)\n",
    "    \n",
    "    best_values[frozenset(lst)] = score\n",
    "    return score"
   ]
  },
  {
   "cell_type": "markdown",
   "id": "62dd1de5-7bc7-40ac-a723-50f411eb7433",
   "metadata": {},
   "source": [
    "This takes about 3 mintues:"
   ]
  },
  {
   "cell_type": "code",
   "execution_count": 30,
   "id": "6c1a3fe1-65cf-49e4-bee5-3d305d6af804",
   "metadata": {},
   "outputs": [
    {
     "name": "stdout",
     "output_type": "stream",
     "text": [
      "4 4\n",
      "4 5\n",
      "4 6\n",
      "4 7\n",
      "5 5\n",
      "5 6\n",
      "5 7\n",
      "6 6\n",
      "6 7\n",
      "7 7\n",
      "7 8\n"
     ]
    }
   ],
   "source": [
    "ans = 0\n",
    "for l1, l2 in [(4,4),(4,5),(4,6),(4,7),(5,5),(5,6),(5,7),(6,6),(6,7),(7,7),(7,8)]:\n",
    "    print(l1,l2)\n",
    "    opt1 = comb(best_pipes, l1)\n",
    "    for o1 in opt1:\n",
    "        score_1 = find_best_value(o1)\n",
    "        if score_1 == 0:\n",
    "            continue\n",
    "\n",
    "        new_best = list(set(best_pipes) - set(o1))\n",
    "        opt2 = comb(new_best, l2)\n",
    "\n",
    "        for o2 in opt2:\n",
    "            score_2 = find_best_value(o2)\n",
    "            if score_2 == 0:\n",
    "                continue\n",
    "\n",
    "            new = score_1 + score_2\n",
    "            if new > ans:\n",
    "                ans = new"
   ]
  },
  {
   "cell_type": "code",
   "execution_count": 31,
   "id": "b84ceac5-9304-4701-8637-7570fdd447f1",
   "metadata": {},
   "outputs": [
    {
     "name": "stdout",
     "output_type": "stream",
     "text": [
      "2967\n"
     ]
    }
   ],
   "source": [
    "print(ans)"
   ]
  },
  {
   "cell_type": "code",
   "execution_count": null,
   "id": "d80adc8c-f7c3-49fc-854c-2c7c62fa9554",
   "metadata": {},
   "outputs": [],
   "source": []
  }
 ],
 "metadata": {
  "kernelspec": {
   "display_name": "Python 3 (ipykernel)",
   "language": "python",
   "name": "python3"
  },
  "language_info": {
   "codemirror_mode": {
    "name": "ipython",
    "version": 3
   },
   "file_extension": ".py",
   "mimetype": "text/x-python",
   "name": "python",
   "nbconvert_exporter": "python",
   "pygments_lexer": "ipython3",
   "version": "3.9.16"
  }
 },
 "nbformat": 4,
 "nbformat_minor": 5
}
