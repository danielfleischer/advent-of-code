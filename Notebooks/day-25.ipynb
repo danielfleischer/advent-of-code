{
 "cells": [
  {
   "cell_type": "code",
   "execution_count": 92,
   "id": "aac62d41-fc23-4949-a865-ac2f043f4b50",
   "metadata": {},
   "outputs": [],
   "source": [
    "data = open(\"../inputs/day-25\").read().splitlines()"
   ]
  },
  {
   "cell_type": "code",
   "execution_count": 93,
   "id": "095c4fb7-d334-4ea7-b720-69586fee88e6",
   "metadata": {},
   "outputs": [],
   "source": [
    "def to_dec(line):\n",
    "    num = 0\n",
    "    for i,c in enumerate(line[::-1]):\n",
    "        five = 5 ** i\n",
    "        if c == '2' or c == '1' or c == '0':\n",
    "            num += int(c) * five\n",
    "        elif c == '-':\n",
    "            num -= five\n",
    "        else:\n",
    "            num -= 2 * five\n",
    "    return num"
   ]
  },
  {
   "cell_type": "code",
   "execution_count": 94,
   "id": "c02d1da3-034a-4e25-a017-32c79d55b776",
   "metadata": {},
   "outputs": [
    {
     "data": {
      "text/plain": [
       "37067035390042"
      ]
     },
     "execution_count": 94,
     "metadata": {},
     "output_type": "execute_result"
    }
   ],
   "source": [
    "sum([to_dec(l) for l in data])"
   ]
  },
  {
   "cell_type": "code",
   "execution_count": 95,
   "id": "5aa0b729-d955-4495-a029-2edfb5625822",
   "metadata": {},
   "outputs": [],
   "source": [
    "def to_five(num):\n",
    "    ans = ''\n",
    "    power = 0\n",
    "    while num > 5 ** power:\n",
    "        power += 1\n",
    "    power -= 1\n",
    "    while power >= 0:\n",
    "        d = num // (5 ** power)\n",
    "        num = num - d * 5 ** power\n",
    "        ans += str(d)\n",
    "        power -= 1\n",
    "    return int(ans)"
   ]
  },
  {
   "cell_type": "code",
   "execution_count": 96,
   "id": "ba07ec86-9367-4bfb-8ad6-d1ade5783c35",
   "metadata": {},
   "outputs": [],
   "source": [
    "def to_snafu(num):\n",
    "    num = str(to_five(num))\n",
    "    ans = ''\n",
    "    addone = 0\n",
    "    for i,d in enumerate(num[::-1]):\n",
    "        d = int(d) + addone\n",
    "        if d == 3:\n",
    "            ans += '='\n",
    "            addone = 1\n",
    "        elif d == 4:\n",
    "            ans += '-'\n",
    "            addone = 1\n",
    "        elif d == 5:\n",
    "            addone = 1\n",
    "            ans += '0'\n",
    "        else:\n",
    "            ans += str(d)\n",
    "            addone = 0\n",
    "    return ans[::-1]"
   ]
  },
  {
   "cell_type": "code",
   "execution_count": 97,
   "id": "75a69a78-d5b9-4a36-9e48-1751fe37b365",
   "metadata": {},
   "outputs": [
    {
     "data": {
      "text/plain": [
       "'20-=0=02=-21=00-02=2'"
      ]
     },
     "execution_count": 97,
     "metadata": {},
     "output_type": "execute_result"
    }
   ],
   "source": [
    "to_snafu(37067035390042)"
   ]
  },
  {
   "cell_type": "code",
   "execution_count": null,
   "id": "9393bdff-b1ab-4701-8048-f55dc4c0bc37",
   "metadata": {},
   "outputs": [],
   "source": []
  }
 ],
 "metadata": {
  "kernelspec": {
   "display_name": "Python 3 (ipykernel)",
   "language": "python",
   "name": "python3"
  },
  "language_info": {
   "codemirror_mode": {
    "name": "ipython",
    "version": 3
   },
   "file_extension": ".py",
   "mimetype": "text/x-python",
   "name": "python",
   "nbconvert_exporter": "python",
   "pygments_lexer": "ipython3",
   "version": "3.9.16"
  }
 },
 "nbformat": 4,
 "nbformat_minor": 5
}
