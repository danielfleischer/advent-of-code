{
 "cells": [
  {
   "cell_type": "code",
   "execution_count": 1,
   "id": "48a2e361-a8fc-4271-a2ea-b212c593b994",
   "metadata": {},
   "outputs": [],
   "source": [
    "data = open(\"../inputs/day-10\").read().splitlines()"
   ]
  },
  {
   "cell_type": "code",
   "execution_count": 2,
   "id": "b8b015f0-e980-4235-912a-cedf52a28333",
   "metadata": {},
   "outputs": [],
   "source": [
    "register = 1"
   ]
  },
  {
   "cell_type": "code",
   "execution_count": 3,
   "id": "496ba229-6330-441e-9eb4-1534c2664dd3",
   "metadata": {},
   "outputs": [],
   "source": [
    "cycles = 1"
   ]
  },
  {
   "cell_type": "code",
   "execution_count": 4,
   "id": "7ced66d0-6514-4b75-9151-45be9c0ab405",
   "metadata": {},
   "outputs": [],
   "source": [
    "strenghts = []"
   ]
  },
  {
   "cell_type": "code",
   "execution_count": 5,
   "id": "80fd5aae-1cad-4110-9e42-5b1a365141c1",
   "metadata": {},
   "outputs": [],
   "source": [
    "def tick():\n",
    "    global cycles\n",
    "    cycles += 1\n",
    "    if cycles in [20,60,100,140,180,220]:\n",
    "        strenghts.append(cycles * register)"
   ]
  },
  {
   "cell_type": "code",
   "execution_count": 6,
   "id": "25fff777-80e9-4c00-bb58-246d6a2a4d82",
   "metadata": {},
   "outputs": [],
   "source": [
    "for l in data:\n",
    "    if l == 'noop':\n",
    "        tick()\n",
    "    else:\n",
    "        tick()\n",
    "        register += int(l.split(' ')[1])\n",
    "        tick()"
   ]
  },
  {
   "cell_type": "code",
   "execution_count": 7,
   "id": "6db83dc4-6de6-4df2-a111-e51dc5c6c29d",
   "metadata": {},
   "outputs": [
    {
     "data": {
      "text/plain": [
       "17380"
      ]
     },
     "execution_count": 7,
     "metadata": {},
     "output_type": "execute_result"
    }
   ],
   "source": [
    "sum(strenghts)"
   ]
  },
  {
   "cell_type": "markdown",
   "id": "6d7ad89f-c92a-4a35-9dee-28ff3c825c35",
   "metadata": {},
   "source": [
    "---\n",
    "## Plot"
   ]
  },
  {
   "cell_type": "code",
   "execution_count": 8,
   "id": "589c097c-0929-4f8a-864c-3c17d279c29b",
   "metadata": {},
   "outputs": [],
   "source": [
    "import numpy as np\n",
    "import matplotlib.pyplot as plt"
   ]
  },
  {
   "cell_type": "code",
   "execution_count": 9,
   "id": "2d6a519f-fab9-4974-97b2-b3a4d4798ef4",
   "metadata": {},
   "outputs": [],
   "source": [
    "screen = np.zeros((6, 40), dtype=bool)"
   ]
  },
  {
   "cell_type": "code",
   "execution_count": 10,
   "id": "122eded2-9ba2-4046-94ce-5fcbc180ef8d",
   "metadata": {},
   "outputs": [],
   "source": [
    "register = 1"
   ]
  },
  {
   "cell_type": "code",
   "execution_count": 11,
   "id": "693dec44-1020-4318-ae3d-a9e281d33533",
   "metadata": {},
   "outputs": [],
   "source": [
    "cycles = 1"
   ]
  },
  {
   "cell_type": "code",
   "execution_count": 12,
   "id": "7fe0b32d-00b0-4db9-810c-f516bb91e150",
   "metadata": {},
   "outputs": [],
   "source": [
    "def tick():\n",
    "    global cycles\n",
    "    cycles += 1\n",
    "    if cycles >= 240:\n",
    "        return\n",
    "    screen_idx = np.unravel_index(cycles - 1, (6,40))\n",
    "    if abs(register - screen_idx[1]) <= 1:\n",
    "        screen[screen_idx] = True"
   ]
  },
  {
   "cell_type": "code",
   "execution_count": 13,
   "id": "ff9606fa-9148-4136-94c4-49ea2ecd48aa",
   "metadata": {},
   "outputs": [],
   "source": [
    "for l in data:\n",
    "    if l == 'noop':\n",
    "        tick()\n",
    "    else:\n",
    "        tick()\n",
    "        register += int(l.split(' ')[1])\n",
    "        tick()"
   ]
  },
  {
   "cell_type": "code",
   "execution_count": 15,
   "id": "f62ee7b4-79ae-471c-bbb0-339fb9c0fe82",
   "metadata": {},
   "outputs": [
    {
     "data": {
      "image/png": "[encoded data removed]",
      "text/plain": [
       "<Figure size 432x288 with 1 Axes>"
      ]
     },
     "metadata": {
      "needs_background": "light"
     },
     "output_type": "display_data"
    }
   ],
   "source": [
    "plt.imshow(screen, cmap='hot', interpolation='nearest')\n",
    "plt.show()"
   ]
  },
  {
   "cell_type": "code",
   "execution_count": null,
   "id": "cefcc0cd-57f5-42e6-8063-47671daaff54",
   "metadata": {},
   "outputs": [],
   "source": []
  }
 ],
 "metadata": {
  "kernelspec": {
   "display_name": "Python 3 (ipykernel)",
   "language": "python",
   "name": "python3"
  },
  "language_info": {
   "codemirror_mode": {
    "name": "ipython",
    "version": 3
   },
   "file_extension": ".py",
   "mimetype": "text/x-python",
   "name": "python",
   "nbconvert_exporter": "python",
   "pygments_lexer": "ipython3",
   "version": "3.9.15"
  }
 },
 "nbformat": 4,
 "nbformat_minor": 5
}
