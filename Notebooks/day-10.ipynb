{
 "cells": [
  {
   "cell_type": "code",
   "execution_count": 1,
   "id": "48a2e361-a8fc-4271-a2ea-b212c593b994",
   "metadata": {},
   "outputs": [],
   "source": [
    "data = open(\"../inputs/day-10\").read().splitlines()"
   ]
  },
  {
   "cell_type": "code",
   "execution_count": 2,
   "id": "bce3fa6b-ceab-454b-8797-791c31843480",
   "metadata": {},
   "outputs": [],
   "source": [
    "register = 1\n",
    "cycles = 1\n",
    "strenghts = []"
   ]
  },
  {
   "cell_type": "code",
   "execution_count": 3,
   "id": "80fd5aae-1cad-4110-9e42-5b1a365141c1",
   "metadata": {},
   "outputs": [],
   "source": [
    "def tick():\n",
    "    global cycles\n",
    "    cycles += 1\n",
    "    if cycles in range(20, 221, 40):\n",
    "        strenghts.append(cycles * register)"
   ]
  },
  {
   "cell_type": "code",
   "execution_count": 4,
   "id": "25fff777-80e9-4c00-bb58-246d6a2a4d82",
   "metadata": {},
   "outputs": [],
   "source": [
    "for l in data:\n",
    "    tick()\n",
    "    if l != 'noop':\n",
    "        register += int(l.split(' ')[1])\n",
    "        tick()"
   ]
  },
  {
   "cell_type": "code",
   "execution_count": 5,
   "id": "6db83dc4-6de6-4df2-a111-e51dc5c6c29d",
   "metadata": {},
   "outputs": [
    {
     "data": {
      "text/plain": [
       "17380"
      ]
     },
     "execution_count": 5,
     "metadata": {},
     "output_type": "execute_result"
    }
   ],
   "source": [
    "sum(strenghts)"
   ]
  },
  {
   "cell_type": "markdown",
   "id": "6d7ad89f-c92a-4a35-9dee-28ff3c825c35",
   "metadata": {},
   "source": [
    "---\n",
    "## Plot"
   ]
  },
  {
   "cell_type": "code",
   "execution_count": 6,
   "id": "589c097c-0929-4f8a-864c-3c17d279c29b",
   "metadata": {},
   "outputs": [],
   "source": [
    "import numpy as np\n",
    "import matplotlib.pyplot as plt"
   ]
  },
  {
   "cell_type": "code",
   "execution_count": 7,
   "id": "078911c6-7ad8-430c-8619-21644b371412",
   "metadata": {},
   "outputs": [],
   "source": [
    "screen = np.zeros((6, 40), dtype=bool)\n",
    "register = 1\n",
    "cycles = 1"
   ]
  },
  {
   "cell_type": "code",
   "execution_count": 8,
   "id": "7fe0b32d-00b0-4db9-810c-f516bb91e150",
   "metadata": {},
   "outputs": [],
   "source": [
    "def tick():\n",
    "    global cycles\n",
    "    if cycles >= 240:\n",
    "        return\n",
    "    screen_idx = np.unravel_index(cycles, (6,40))\n",
    "    cycles += 1\n",
    "    if abs(register - screen_idx[1]) < 2:\n",
    "        screen[screen_idx] = True"
   ]
  },
  {
   "cell_type": "code",
   "execution_count": 9,
   "id": "ff9606fa-9148-4136-94c4-49ea2ecd48aa",
   "metadata": {},
   "outputs": [],
   "source": [
    "for l in data:\n",
    "    tick()\n",
    "    if l != 'noop':\n",
    "        register += int(l.split(' ')[1])\n",
    "        tick()"
   ]
  },
  {
   "cell_type": "code",
   "execution_count": 11,
   "id": "f62ee7b4-79ae-471c-bbb0-339fb9c0fe82",
   "metadata": {},
   "outputs": [
    {
     "data": {
      "image/png": "[encoded data removed]",
      "text/plain": [
       "<Figure size 432x288 with 1 Axes>"
      ]
     },
     "metadata": {
      "needs_background": "light"
     },
     "output_type": "display_data"
    }
   ],
   "source": [
    "plt.imshow(screen, interpolation='nearest')\n",
    "plt.show()"
   ]
  },
  {
   "cell_type": "code",
   "execution_count": null,
   "id": "cefcc0cd-57f5-42e6-8063-47671daaff54",
   "metadata": {},
   "outputs": [],
   "source": []
  }
 ],
 "metadata": {
  "kernelspec": {
   "display_name": "Python 3 (ipykernel)",
   "language": "python",
   "name": "python3"
  },
  "language_info": {
   "codemirror_mode": {
    "name": "ipython",
    "version": 3
   },
   "file_extension": ".py",
   "mimetype": "text/x-python",
   "name": "python",
   "nbconvert_exporter": "python",
   "pygments_lexer": "ipython3",
   "version": "3.9.15"
  }
 },
 "nbformat": 4,
 "nbformat_minor": 5
}
