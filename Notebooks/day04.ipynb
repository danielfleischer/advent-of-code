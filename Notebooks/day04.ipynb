{
 "cells": [
  {
   "cell_type": "code",
   "execution_count": 1,
   "metadata": {},
   "outputs": [],
   "source": [
    "import numpy as np"
   ]
  },
  {
   "cell_type": "code",
   "execution_count": 4,
   "metadata": {},
   "outputs": [],
   "source": [
    "data = open('../inputs/input-day4').read().splitlines()\n",
    "numbers = list(map(int, data[0].split(',')))\n",
    "data = data[1:]"
   ]
  },
  {
   "cell_type": "code",
   "execution_count": 5,
   "metadata": {},
   "outputs": [],
   "source": [
    "def initialize():\n",
    "    boards = []\n",
    "    for i in range(len(data) // 6):\n",
    "        mini = data[6*i + 1 : 6*i + 6]\n",
    "        tmp = [list(map(int, filter(lambda x: x.isdecimal(), j.split(' ')))) for j in mini]\n",
    "        boards.append(np.array(tmp))\n",
    "    boards = np.stack(boards)\n",
    "    return boards"
   ]
  },
  {
   "cell_type": "markdown",
   "metadata": {},
   "source": [
    "--------"
   ]
  },
  {
   "cell_type": "markdown",
   "metadata": {},
   "source": [
    "## First task"
   ]
  },
  {
   "cell_type": "code",
   "execution_count": 61,
   "metadata": {},
   "outputs": [],
   "source": [
    "boards = initialize()"
   ]
  },
  {
   "cell_type": "code",
   "execution_count": 62,
   "metadata": {},
   "outputs": [],
   "source": [
    "def find_won(boards):\n",
    "    row = np.argwhere(boards.sum(axis=2) == 0)\n",
    "    if len(row) > 0:\n",
    "        return row[0][0]\n",
    "    \n",
    "    column = np.argwhere(boards.sum(axis=1) == 0)\n",
    "    if len(column) > 0:\n",
    "        return column[0][0]"
   ]
  },
  {
   "cell_type": "code",
   "execution_count": 63,
   "metadata": {},
   "outputs": [
    {
     "name": "stdout",
     "output_type": "stream",
     "text": [
      "5685\n"
     ]
    }
   ],
   "source": [
    "for num in numbers:\n",
    "    boards[boards == num] = 0\n",
    "    idx = find_won(boards)\n",
    "    if idx:\n",
    "        print(boards[idx].sum() * num)\n",
    "        break"
   ]
  },
  {
   "cell_type": "markdown",
   "metadata": {},
   "source": [
    "------"
   ]
  },
  {
   "cell_type": "markdown",
   "metadata": {},
   "source": [
    "## Second task"
   ]
  },
  {
   "cell_type": "code",
   "execution_count": 64,
   "metadata": {},
   "outputs": [],
   "source": [
    "boards = initialize()"
   ]
  },
  {
   "cell_type": "code",
   "execution_count": 65,
   "metadata": {},
   "outputs": [],
   "source": [
    "def who_won():\n",
    "    row = np.argwhere(boards.sum(axis=2) == 0)\n",
    "    column = np.argwhere(boards.sum(axis=1) == 0)\n",
    "    \n",
    "    return row, column"
   ]
  },
  {
   "cell_type": "code",
   "execution_count": 66,
   "metadata": {},
   "outputs": [],
   "source": [
    "winning_boards = set()"
   ]
  },
  {
   "cell_type": "code",
   "execution_count": 67,
   "metadata": {},
   "outputs": [],
   "source": [
    "for num in numbers:\n",
    "    boards[boards == num] = 0\n",
    "    winning = who_won()\n",
    "    for r in winning[0]:\n",
    "        winning_boards.add(r[0])\n",
    "    for c in winning[1]:\n",
    "        winning_boards.add(c[0])\n",
    "    if len(winning_boards) == 99:\n",
    "        break"
   ]
  },
  {
   "cell_type": "code",
   "execution_count": 68,
   "metadata": {},
   "outputs": [],
   "source": [
    "(w_number, ) = set(range(len(boards))) - winning_boards"
   ]
  },
  {
   "cell_type": "code",
   "execution_count": 69,
   "metadata": {},
   "outputs": [],
   "source": [
    "w_board = boards[w_number]"
   ]
  },
  {
   "cell_type": "code",
   "execution_count": 70,
   "metadata": {},
   "outputs": [
    {
     "name": "stdout",
     "output_type": "stream",
     "text": [
      "21070\n"
     ]
    }
   ],
   "source": [
    "for num in numbers:\n",
    "    w_board[w_board == num] = 0\n",
    "    if (w_board.sum(0) == 0).any() or (w_board.sum(1) == 0).any():\n",
    "        print(w_board.sum() * num)\n",
    "        break"
   ]
  },
  {
   "cell_type": "code",
   "execution_count": null,
   "metadata": {},
   "outputs": [],
   "source": []
  }
 ],
 "metadata": {
  "kernelspec": {
   "display_name": "Python 3",
   "language": "python",
   "name": "python3"
  },
  "language_info": {
   "codemirror_mode": {
    "name": "ipython",
    "version": 3
   },
   "file_extension": ".py",
   "mimetype": "text/x-python",
   "name": "python",
   "nbconvert_exporter": "python",
   "pygments_lexer": "ipython3",
   "version": "3.9.9"
  }
 },
 "nbformat": 4,
 "nbformat_minor": 4
}
