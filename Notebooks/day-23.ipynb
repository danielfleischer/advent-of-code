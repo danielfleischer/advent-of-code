{
 "cells": [
  {
   "cell_type": "code",
   "execution_count": 1,
   "id": "ef710c2a-33c5-4782-9b23-f4c6ae658851",
   "metadata": {},
   "outputs": [],
   "source": [
    "import numpy as np\n",
    "from matplotlib import pyplot as plt"
   ]
  },
  {
   "cell_type": "code",
   "execution_count": 17,
   "id": "4a357284-ab4d-44e1-be01-2c4b65bf6b1a",
   "metadata": {},
   "outputs": [],
   "source": [
    "data = open('../inputs/day-23').read().splitlines()"
   ]
  },
  {
   "cell_type": "code",
   "execution_count": 18,
   "id": "bf362e3f-504c-45d2-a7ed-7ab365eb8511",
   "metadata": {},
   "outputs": [
    {
     "data": {
      "text/plain": [
       "(72, 72)"
      ]
     },
     "execution_count": 18,
     "metadata": {},
     "output_type": "execute_result"
    }
   ],
   "source": [
    "len(data), len(data[0])"
   ]
  },
  {
   "cell_type": "code",
   "execution_count": 19,
   "id": "1dba755b-8741-46b0-ac17-af0ea971351e",
   "metadata": {},
   "outputs": [],
   "source": [
    "size = 500"
   ]
  },
  {
   "cell_type": "code",
   "execution_count": 20,
   "id": "4e77b051-b383-42bb-a176-f8fabd6247c4",
   "metadata": {},
   "outputs": [],
   "source": [
    "grid = np.zeros((size, size), dtype=int)"
   ]
  },
  {
   "cell_type": "code",
   "execution_count": 21,
   "id": "289b78f8-a936-45b1-8d27-de9e61424ddb",
   "metadata": {},
   "outputs": [],
   "source": [
    "for x,l in enumerate(data):\n",
    "    for y,c in enumerate(l):\n",
    "        if c == '#':\n",
    "            u,v = size//2 + x - len(data)//2, size//2 + y - len(data)//2\n",
    "            grid[u,v] = 1"
   ]
  },
  {
   "cell_type": "markdown",
   "id": "f048c0de-6b73-4743-9715-3f83e615b9d8",
   "metadata": {},
   "source": [
    "# Logic"
   ]
  },
  {
   "cell_type": "code",
   "execution_count": 22,
   "id": "0930cbdf-3c2f-435d-81ae-b15fca2fa791",
   "metadata": {},
   "outputs": [],
   "source": [
    "directions = [\"up\",\"down\",\"left\",\"right\"]"
   ]
  },
  {
   "cell_type": "code",
   "execution_count": 23,
   "id": "59e84ad6-58ea-4b9b-a71c-10b7fdd74ea5",
   "metadata": {},
   "outputs": [],
   "source": [
    "def cycle():\n",
    "    global directions\n",
    "    directions = directions[1:] + [directions[0]]"
   ]
  },
  {
   "cell_type": "code",
   "execution_count": 24,
   "id": "47ac28e1-2b95-466f-9d28-700bd858baef",
   "metadata": {},
   "outputs": [],
   "source": [
    "from collections import defaultdict"
   ]
  },
  {
   "cell_type": "code",
   "execution_count": 25,
   "id": "ef88808d-3141-4aa8-bff7-6a1319d19152",
   "metadata": {},
   "outputs": [],
   "source": [
    "moves = defaultdict(list)\n",
    "elves = set()"
   ]
  },
  {
   "cell_type": "code",
   "execution_count": 26,
   "id": "8c6dc085-18fa-48b7-836b-893468fb7556",
   "metadata": {},
   "outputs": [],
   "source": [
    "for x,y in zip(*np.where(grid > 0)):\n",
    "    elves.add((x,y))"
   ]
  },
  {
   "cell_type": "code",
   "execution_count": 27,
   "id": "d2812704-4dfe-4c68-9288-1efd8cb71871",
   "metadata": {},
   "outputs": [],
   "source": [
    "def build_options():\n",
    "    global moves, elves\n",
    "    for el in elves:\n",
    "        x,y = el\n",
    "        if grid[x-1:x+2,y-1:y+2].sum() > 1:\n",
    "            for d in directions:\n",
    "                if d == 'up':\n",
    "                    if grid[x-1, y-1:y+2].sum() == 0:\n",
    "                        moves[(x-1,y)].append(el)\n",
    "                        break\n",
    "                        \n",
    "                if d == 'down':\n",
    "                    if grid[x+1, y-1:y+2].sum() == 0:\n",
    "                        moves[(x+1,y)].append(el)\n",
    "                        break\n",
    "                        \n",
    "                if d == 'left':\n",
    "                    if grid[x-1:x+2, y-1].sum() == 0:\n",
    "                        moves[(x,y-1)].append(el)\n",
    "                        break\n",
    "\n",
    "                if d == 'right':\n",
    "                    if grid[x-1:x+2, y+1].sum() == 0:\n",
    "                        moves[(x,y+1)].append(el)\n",
    "                        break"
   ]
  },
  {
   "cell_type": "code",
   "execution_count": 28,
   "id": "1590d457-3872-442b-9e6e-c2977e0c759f",
   "metadata": {},
   "outputs": [],
   "source": [
    "def step():\n",
    "    global moves, elves\n",
    "    \n",
    "    build_options()\n",
    "    if not moves:\n",
    "        return\n",
    "    for op, l in moves.items():\n",
    "        if len(l) == 1:\n",
    "            grid[l[0]] = 0\n",
    "            grid[op] = 1\n",
    "            elves.discard(l[0])\n",
    "            elves.add(op)\n",
    "        \n",
    "    moves = defaultdict(list)\n",
    "    cycle()\n",
    "    return True"
   ]
  },
  {
   "cell_type": "code",
   "execution_count": 29,
   "id": "00693e20-37df-4d39-b300-e54834c30e06",
   "metadata": {},
   "outputs": [],
   "source": [
    "def calc_empty():\n",
    "    x_range = np.where(grid.sum(1) > 0)[0]\n",
    "    y_range = np.where(grid.sum(0) > 0)[0]\n",
    "    return (grid[x_range[0]:x_range[-1]+1, y_range[0]:y_range[-1] + 1] == 0).sum()"
   ]
  },
  {
   "cell_type": "code",
   "execution_count": 15,
   "id": "ae5adcd0-c0aa-41fe-84cb-47e858f6615a",
   "metadata": {},
   "outputs": [],
   "source": [
    "for _ in range(10):\n",
    "    step()"
   ]
  },
  {
   "cell_type": "code",
   "execution_count": 16,
   "id": "3e90c3a2-a10a-4d1c-8db7-4ac71424559d",
   "metadata": {},
   "outputs": [
    {
     "data": {
      "text/plain": [
       "3931"
      ]
     },
     "execution_count": 16,
     "metadata": {},
     "output_type": "execute_result"
    }
   ],
   "source": [
    "calc_empty()"
   ]
  },
  {
   "cell_type": "markdown",
   "id": "8d4a4db3-d1d8-45e4-937a-99f582c9ac12",
   "metadata": {},
   "source": [
    "# Stationary Point"
   ]
  },
  {
   "cell_type": "markdown",
   "id": "843edbd5-60b1-437e-ae8f-42f035b53b06",
   "metadata": {},
   "source": [
    "Need to re-initialize the grid."
   ]
  },
  {
   "cell_type": "code",
   "execution_count": 30,
   "id": "9ae45abf-dffa-422a-a5c8-5f1507b506ce",
   "metadata": {},
   "outputs": [],
   "source": [
    "i = 1"
   ]
  },
  {
   "cell_type": "code",
   "execution_count": 31,
   "id": "e3007ddb-c821-42cf-8795-e9a1bf37a065",
   "metadata": {},
   "outputs": [
    {
     "name": "stdout",
     "output_type": "stream",
     "text": [
      "100\n",
      "200\n",
      "300\n",
      "400\n",
      "500\n",
      "600\n",
      "700\n",
      "800\n",
      "900\n"
     ]
    }
   ],
   "source": [
    "while step():\n",
    "    i += 1\n",
    "    if i % 100 == 0:\n",
    "        print(i)"
   ]
  },
  {
   "cell_type": "code",
   "execution_count": 32,
   "id": "62a2116d-1393-4d1b-b4e0-82108e8f21d1",
   "metadata": {},
   "outputs": [
    {
     "data": {
      "text/plain": [
       "944"
      ]
     },
     "execution_count": 32,
     "metadata": {},
     "output_type": "execute_result"
    }
   ],
   "source": [
    "i"
   ]
  },
  {
   "cell_type": "code",
   "execution_count": null,
   "id": "5e75c69b-eb7c-4cf7-835b-30c3631ccae7",
   "metadata": {},
   "outputs": [],
   "source": []
  }
 ],
 "metadata": {
  "kernelspec": {
   "display_name": "Python 3 (ipykernel)",
   "language": "python",
   "name": "python3"
  },
  "language_info": {
   "codemirror_mode": {
    "name": "ipython",
    "version": 3
   },
   "file_extension": ".py",
   "mimetype": "text/x-python",
   "name": "python",
   "nbconvert_exporter": "python",
   "pygments_lexer": "ipython3",
   "version": "3.9.16"
  }
 },
 "nbformat": 4,
 "nbformat_minor": 5
}
