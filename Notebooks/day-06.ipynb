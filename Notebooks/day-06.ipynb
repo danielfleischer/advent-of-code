{
 "cells": [
  {
   "cell_type": "code",
   "execution_count": 1,
   "id": "67744956-a7ce-4bd0-ac1c-6f60e7bf0ac0",
   "metadata": {},
   "outputs": [],
   "source": [
    "data = open(\"../inputs/day-06\").read()"
   ]
  },
  {
   "cell_type": "markdown",
   "id": "d652aaac-fa0f-472e-9211-e949c365b2f1",
   "metadata": {},
   "source": [
    "## Unique 4"
   ]
  },
  {
   "cell_type": "code",
   "execution_count": 2,
   "id": "f3dc43ca-4604-44cf-96bc-678665cc4cdf",
   "metadata": {},
   "outputs": [],
   "source": [
    "import numpy as np"
   ]
  },
  {
   "cell_type": "code",
   "execution_count": 3,
   "id": "3c8f8b16-dfd4-40db-961a-b276bfd20ba8",
   "metadata": {},
   "outputs": [],
   "source": [
    "ones = np.ones(26, dtype=int)"
   ]
  },
  {
   "cell_type": "code",
   "execution_count": 4,
   "id": "b55e5d0e-5569-4e16-a075-9d2c8de1365f",
   "metadata": {},
   "outputs": [],
   "source": [
    "window = np.zeros(26,dtype=int)"
   ]
  },
  {
   "cell_type": "code",
   "execution_count": 5,
   "id": "befcce0a-7057-4e5b-b294-5328234f7e42",
   "metadata": {},
   "outputs": [],
   "source": [
    "for i in range(4):\n",
    "    window[ord(data[i]) - 97] += 1"
   ]
  },
  {
   "cell_type": "code",
   "execution_count": 6,
   "id": "400c14fe-9879-4d60-a212-e92eacef890b",
   "metadata": {},
   "outputs": [
    {
     "name": "stdout",
     "output_type": "stream",
     "text": [
      "1909\n"
     ]
    }
   ],
   "source": [
    "for i in range(4, len(data)-1):\n",
    "    if (window | ones).sum() == 26:\n",
    "        print(i)\n",
    "        break\n",
    "    window[ord(data[i]) - 97] += 1\n",
    "    window[ord(data[i - 4]) - 97] -= 1"
   ]
  },
  {
   "cell_type": "markdown",
   "id": "cf9181e3-6c06-4237-8c39-b71c816dafb8",
   "metadata": {},
   "source": [
    "## Unique 14"
   ]
  },
  {
   "cell_type": "code",
   "execution_count": 7,
   "id": "412e525c-ee8d-44df-a91d-fba56d15a0b6",
   "metadata": {},
   "outputs": [],
   "source": [
    "ones = np.ones(26, dtype=int)"
   ]
  },
  {
   "cell_type": "code",
   "execution_count": 8,
   "id": "5baeb44d-8128-4366-8c0a-5857044a613c",
   "metadata": {},
   "outputs": [],
   "source": [
    "window = np.zeros(26,dtype=int)"
   ]
  },
  {
   "cell_type": "code",
   "execution_count": 9,
   "id": "d647e7bb-470e-4c90-a579-1252a4e761d3",
   "metadata": {},
   "outputs": [],
   "source": [
    "for i in range(14):\n",
    "    window[ord(data[i]) - 97] += 1"
   ]
  },
  {
   "cell_type": "code",
   "execution_count": 10,
   "id": "0e08e1e3-5805-44a3-9916-644ba10b2f00",
   "metadata": {},
   "outputs": [
    {
     "name": "stdout",
     "output_type": "stream",
     "text": [
      "3380\n"
     ]
    }
   ],
   "source": [
    "for i in range(14, len(data)):\n",
    "    \n",
    "    if (window | ones).sum() == 26:\n",
    "        print(i)\n",
    "        break\n",
    "    \n",
    "    window[ord(data[i]) - 97] += 1    \n",
    "    window[ord(data[i - 14]) - 97] -= 1"
   ]
  },
  {
   "cell_type": "code",
   "execution_count": null,
   "id": "fcda4450-3554-46e7-873f-e304f2b5347f",
   "metadata": {},
   "outputs": [],
   "source": []
  }
 ],
 "metadata": {
  "kernelspec": {
   "display_name": "Python 3 (ipykernel)",
   "language": "python",
   "name": "python3"
  },
  "language_info": {
   "codemirror_mode": {
    "name": "ipython",
    "version": 3
   },
   "file_extension": ".py",
   "mimetype": "text/x-python",
   "name": "python",
   "nbconvert_exporter": "python",
   "pygments_lexer": "ipython3",
   "version": "3.9.15"
  }
 },
 "nbformat": 4,
 "nbformat_minor": 5
}
