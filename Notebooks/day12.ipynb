{
 "cells": [
  {
   "cell_type": "code",
   "execution_count": 1,
   "metadata": {},
   "outputs": [],
   "source": [
    "data = open('../inputs/input-day12').read().splitlines()\n",
    "data = [((i:=line.split('-'))[0],i[1]) for line in data]\n",
    "data += [(j,i) for (i,j) in data]"
   ]
  },
  {
   "cell_type": "markdown",
   "metadata": {},
   "source": [
    "# Task 1\n",
    "Notice that we duplicate the set of lowercased vertices because python have arguments by reference so we share this set with other branch of the recursive tree while we only want to have the lower branch of the current branch to see this set. "
   ]
  },
  {
   "cell_type": "code",
   "execution_count": 2,
   "metadata": {},
   "outputs": [],
   "source": [
    "ans = set()"
   ]
  },
  {
   "cell_type": "code",
   "execution_count": 3,
   "metadata": {},
   "outputs": [],
   "source": [
    "def find(previous, pat, bad):\n",
    "    if 'end' == previous:\n",
    "        ans.add(pat)\n",
    "        return\n",
    "    current = previous\n",
    "    if current.islower():\n",
    "        bad = bad.copy()\n",
    "        bad |= set([current])\n",
    "    for v1,v2 in data:\n",
    "        if v1 == current and v2 not in bad:  \n",
    "            find(v2, pat+','+v2, bad)"
   ]
  },
  {
   "cell_type": "code",
   "execution_count": 4,
   "metadata": {},
   "outputs": [],
   "source": [
    "find('start',\"start\", set())"
   ]
  },
  {
   "cell_type": "code",
   "execution_count": 5,
   "metadata": {},
   "outputs": [
    {
     "data": {
      "text/plain": [
       "4970"
      ]
     },
     "execution_count": 5,
     "metadata": {},
     "output_type": "execute_result"
    }
   ],
   "source": [
    "len(ans)"
   ]
  },
  {
   "cell_type": "markdown",
   "metadata": {},
   "source": [
    "------"
   ]
  },
  {
   "cell_type": "markdown",
   "metadata": {},
   "source": [
    "# Task\n",
    "For this task, we add an argument that turns into True whenever we used a lowercase site two times and that's it. Notice that we need to exclude the 'start' because it's lowercased and served us in the first part but it can not be visited twice."
   ]
  },
  {
   "cell_type": "code",
   "execution_count": 6,
   "metadata": {},
   "outputs": [],
   "source": [
    "ans = set()"
   ]
  },
  {
   "cell_type": "code",
   "execution_count": 7,
   "metadata": {},
   "outputs": [],
   "source": [
    "def find(previous, pat, bad, double):\n",
    "    if 'end' == previous:\n",
    "        ans.add(pat)\n",
    "        return\n",
    "    current = previous\n",
    "    if current.islower():\n",
    "        bad = bad.copy()\n",
    "        bad |= set([current])\n",
    "    for v1,v2 in data:\n",
    "        if v1 == current:\n",
    "            if v2 not in bad:\n",
    "                find(v2, pat+','+v2, bad, double)\n",
    "            elif (not double) and v2 != 'start':\n",
    "                find(v2, pat+','+v2, bad, True)"
   ]
  },
  {
   "cell_type": "code",
   "execution_count": 8,
   "metadata": {},
   "outputs": [],
   "source": [
    "find('start',\"start\", set(), False)"
   ]
  },
  {
   "cell_type": "code",
   "execution_count": 9,
   "metadata": {},
   "outputs": [
    {
     "data": {
      "text/plain": [
       "137948"
      ]
     },
     "execution_count": 9,
     "metadata": {},
     "output_type": "execute_result"
    }
   ],
   "source": [
    "len(ans)"
   ]
  },
  {
   "cell_type": "code",
   "execution_count": null,
   "metadata": {},
   "outputs": [],
   "source": []
  }
 ],
 "metadata": {
  "kernelspec": {
   "display_name": "Python 3",
   "language": "python",
   "name": "python3"
  },
  "language_info": {
   "codemirror_mode": {
    "name": "ipython",
    "version": 3
   },
   "file_extension": ".py",
   "mimetype": "text/x-python",
   "name": "python",
   "nbconvert_exporter": "python",
   "pygments_lexer": "ipython3",
   "version": "3.9.9"
  }
 },
 "nbformat": 4,
 "nbformat_minor": 4
}
