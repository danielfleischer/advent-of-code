{
 "cells": [
  {
   "cell_type": "code",
   "execution_count": 13,
   "id": "96db1f51-d3d3-4531-b219-038c77c0bbb8",
   "metadata": {},
   "outputs": [],
   "source": [
    "data = open(\"../inputs/day-04\").read().splitlines()"
   ]
  },
  {
   "cell_type": "code",
   "execution_count": 18,
   "id": "7ca0a113-5dab-4c5c-a7c8-ad39edc2732f",
   "metadata": {},
   "outputs": [],
   "source": [
    "def contain(l):\n",
    "    one, two = l.split(',')\n",
    "    a,b = one.split('-')\n",
    "    c,d = two.split('-')\n",
    "    a = int(a)\n",
    "    b = int(b)\n",
    "    c = int(c)\n",
    "    d = int(d)\n",
    "    return (a <= c and d <= b) or (c <= a and b <= d)"
   ]
  },
  {
   "cell_type": "code",
   "execution_count": 19,
   "id": "26c259f8-00ad-40b1-a322-4e555ac32182",
   "metadata": {},
   "outputs": [],
   "source": [
    "total = 0"
   ]
  },
  {
   "cell_type": "code",
   "execution_count": 20,
   "id": "871b2e56-3530-430c-b2de-645902aed55c",
   "metadata": {},
   "outputs": [],
   "source": [
    "for l in data:\n",
    "    if contain(l):\n",
    "        total += 1"
   ]
  },
  {
   "cell_type": "code",
   "execution_count": 22,
   "id": "ae9b06de-bdfc-4d96-bdd1-50169aac37c6",
   "metadata": {},
   "outputs": [
    {
     "name": "stdout",
     "output_type": "stream",
     "text": [
      "540\n"
     ]
    }
   ],
   "source": [
    "print(total)"
   ]
  },
  {
   "cell_type": "markdown",
   "id": "146fb540-52e1-4f22-913e-606f1f775689",
   "metadata": {},
   "source": [
    "------\n",
    "### Overlap"
   ]
  },
  {
   "cell_type": "code",
   "execution_count": 24,
   "id": "930dc1a0-954c-4870-b8f2-d06ea2d89bc6",
   "metadata": {},
   "outputs": [],
   "source": [
    "def overlap(l):\n",
    "    one, two = l.split(',')\n",
    "    a,b = one.split('-')\n",
    "    c,d = two.split('-')\n",
    "    a = int(a)\n",
    "    b = int(b)\n",
    "    c = int(c)\n",
    "    d = int(d)\n",
    "    return (a <= c and c <= b) or (c <= a and a <= d)"
   ]
  },
  {
   "cell_type": "code",
   "execution_count": 25,
   "id": "7057479e-12b5-4935-9c46-7b301c6fa418",
   "metadata": {},
   "outputs": [],
   "source": [
    "total = 0"
   ]
  },
  {
   "cell_type": "code",
   "execution_count": 26,
   "id": "e540abe2-7c7e-4816-bde7-9b172c6b846a",
   "metadata": {},
   "outputs": [],
   "source": [
    "for l in data:\n",
    "    if overlap(l):\n",
    "        total += 1"
   ]
  },
  {
   "cell_type": "code",
   "execution_count": 27,
   "id": "4a5986f4-b7fb-41bf-bea4-d71cb5536420",
   "metadata": {},
   "outputs": [
    {
     "name": "stdout",
     "output_type": "stream",
     "text": [
      "872\n"
     ]
    }
   ],
   "source": [
    "print(total)"
   ]
  },
  {
   "cell_type": "code",
   "execution_count": null,
   "id": "963b554d-5b7e-4eb0-b478-73eb91cbdd8b",
   "metadata": {},
   "outputs": [],
   "source": []
  }
 ],
 "metadata": {
  "kernelspec": {
   "display_name": "Python 3 (ipykernel)",
   "language": "python",
   "name": "python3"
  },
  "language_info": {
   "codemirror_mode": {
    "name": "ipython",
    "version": 3
   },
   "file_extension": ".py",
   "mimetype": "text/x-python",
   "name": "python",
   "nbconvert_exporter": "python",
   "pygments_lexer": "ipython3",
   "version": "3.9.15"
  }
 },
 "nbformat": 4,
 "nbformat_minor": 5
}
