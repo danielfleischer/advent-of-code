{
 "cells": [
  {
   "cell_type": "code",
   "execution_count": 1,
   "id": "02335352-e762-4d46-93d8-f0b6fe5dd905",
   "metadata": {},
   "outputs": [],
   "source": [
    "data = open(\"../inputs/day-14\").read().splitlines()"
   ]
  },
  {
   "cell_type": "code",
   "execution_count": 2,
   "id": "1720179b-951f-44e5-8b29-e91675630264",
   "metadata": {},
   "outputs": [],
   "source": [
    "import numpy as np\n",
    "import matplotlib.pyplot as plt"
   ]
  },
  {
   "cell_type": "code",
   "execution_count": 3,
   "id": "772c1b6b-b64c-4033-9d5f-120f1008d1d5",
   "metadata": {},
   "outputs": [],
   "source": [
    "lines = [list(map(eval, line.split(' -> '))) for line in data]"
   ]
  },
  {
   "cell_type": "code",
   "execution_count": 4,
   "id": "da155821-c68a-4ffc-98c0-0377bdd5ec81",
   "metadata": {},
   "outputs": [
    {
     "data": {
      "text/plain": [
       "(528, 166)"
      ]
     },
     "execution_count": 4,
     "metadata": {},
     "output_type": "execute_result"
    }
   ],
   "source": [
    "max(max([l[0] for l in line]) for line in lines), max(max([l[1] for l in line]) for line in lines)"
   ]
  },
  {
   "cell_type": "code",
   "execution_count": 5,
   "id": "09eaa03a-6c07-459c-baa0-e60c13d51c62",
   "metadata": {},
   "outputs": [],
   "source": [
    "grid = np.zeros((530, 200), dtype=int)"
   ]
  },
  {
   "cell_type": "markdown",
   "id": "5e770ccc-d767-4d7a-857f-56d4b3a2bf0b",
   "metadata": {},
   "source": [
    "0 - air, 1 - rock, 2 - sand."
   ]
  },
  {
   "cell_type": "code",
   "execution_count": 6,
   "id": "3a2baf88-3b57-4f5c-bb37-2389007c3292",
   "metadata": {},
   "outputs": [],
   "source": [
    "def build_line(line):\n",
    "    for i in range(len(line) - 1):\n",
    "        start, end = line[i], line[i+1]\n",
    "        x0, x1 = sorted([start[0], end[0]])\n",
    "        y0, y1 = sorted([start[1], end[1]])        \n",
    "        grid[x0:x1+1, y0:y1+1] = 1"
   ]
  },
  {
   "cell_type": "code",
   "execution_count": 7,
   "id": "08273a4b-b8bb-43dd-ae23-c017b2ac42ee",
   "metadata": {},
   "outputs": [],
   "source": [
    "for l in lines:\n",
    "    build_line(l)"
   ]
  },
  {
   "cell_type": "code",
   "execution_count": 8,
   "id": "783f795d-fe80-4d71-ac8f-cc2d2705bd8e",
   "metadata": {},
   "outputs": [
    {
     "data": {
      "image/png": "[encoded data removed]",
      "text/plain": [
       "<Figure size 432x288 with 1 Axes>"
      ]
     },
     "metadata": {
      "needs_background": "light"
     },
     "output_type": "display_data"
    }
   ],
   "source": [
    "plt.imshow(grid[450:,:].T, interpolation='nearest')\n",
    "plt.show()"
   ]
  },
  {
   "cell_type": "markdown",
   "id": "355862aa-c43f-4d24-ae61-ea3570f147cc",
   "metadata": {},
   "source": [
    "When a sand gets to the last layer at `grid[:,-1]` it means we're done. "
   ]
  },
  {
   "cell_type": "code",
   "execution_count": 9,
   "id": "f3567b30-a4d1-4e47-a6fb-5b644231ad55",
   "metadata": {},
   "outputs": [],
   "source": [
    "total = 0"
   ]
  },
  {
   "cell_type": "code",
   "execution_count": 10,
   "id": "ebc48f0b-42a9-4331-a247-4366124e803f",
   "metadata": {},
   "outputs": [],
   "source": [
    "def drop_sand():\n",
    "    global total\n",
    "    sand = (500,0)\n",
    "    while True:\n",
    "        if sand[1] == 167:\n",
    "            return\n",
    "        if grid[sand[0], sand[1] + 1] == 0:\n",
    "            sand = sand[0], sand[1] + 1\n",
    "        elif grid[sand[0] - 1, sand[1] + 1] == 0:\n",
    "            sand = sand[0] - 1, sand[1] + 1\n",
    "        elif grid[sand[0] + 1, sand[1] + 1] == 0:\n",
    "            sand = sand[0] + 1, sand[1] + 1\n",
    "        else:\n",
    "            grid[sand] = 2\n",
    "            total += 1\n",
    "            return True"
   ]
  },
  {
   "cell_type": "code",
   "execution_count": 11,
   "id": "efc81f6a-a85f-4006-a865-20f52012b61b",
   "metadata": {},
   "outputs": [],
   "source": [
    "while drop_sand():\n",
    "    pass"
   ]
  },
  {
   "cell_type": "code",
   "execution_count": 12,
   "id": "ad8e9562-3404-4c8d-b5e4-9e5dbb672445",
   "metadata": {},
   "outputs": [
    {
     "name": "stdout",
     "output_type": "stream",
     "text": [
      "1003\n"
     ]
    }
   ],
   "source": [
    "print(total)"
   ]
  },
  {
   "cell_type": "code",
   "execution_count": 13,
   "id": "9546a81f-69a5-440d-b324-fef146fe5f6a",
   "metadata": {},
   "outputs": [
    {
     "data": {
      "image/png": "[encoded data removed]",
      "text/plain": [
       "<Figure size 432x288 with 1 Axes>"
      ]
     },
     "metadata": {
      "needs_background": "light"
     },
     "output_type": "display_data"
    }
   ],
   "source": [
    "plt.imshow(grid[450:,:].T, interpolation='nearest')\n",
    "plt.show()"
   ]
  },
  {
   "cell_type": "markdown",
   "id": "6701975d-9b7a-4516-bf78-ba60a43d2b99",
   "metadata": {},
   "source": [
    "## Adding a floor"
   ]
  },
  {
   "cell_type": "markdown",
   "id": "b3c2d6cd-a882-4ef7-9df9-032657b40e19",
   "metadata": {},
   "source": [
    "Need bigger grid:"
   ]
  },
  {
   "cell_type": "code",
   "execution_count": 18,
   "id": "19959f6d-6f2a-4118-aad3-62692b1b92d2",
   "metadata": {},
   "outputs": [],
   "source": [
    "grid = np.zeros((750, 200), dtype=int)"
   ]
  },
  {
   "cell_type": "code",
   "execution_count": 19,
   "id": "d92013da-deb8-44df-8109-ed0d037fee1c",
   "metadata": {},
   "outputs": [],
   "source": [
    "for l in lines:\n",
    "    build_line(l)"
   ]
  },
  {
   "cell_type": "markdown",
   "id": "3b26fc72-32d5-44bc-8b7e-f5c509e00e7a",
   "metadata": {},
   "source": [
    "Adding a floor:"
   ]
  },
  {
   "cell_type": "code",
   "execution_count": 20,
   "id": "c8cb66d1-7373-4096-be03-91f6e778459f",
   "metadata": {},
   "outputs": [],
   "source": [
    "grid[:, 168] = 1"
   ]
  },
  {
   "cell_type": "code",
   "execution_count": 21,
   "id": "1d0ef22b-426f-4683-999e-678f20497a18",
   "metadata": {},
   "outputs": [],
   "source": [
    "total = 0"
   ]
  },
  {
   "cell_type": "code",
   "execution_count": 23,
   "id": "614ae806-1ba1-4c00-88bb-5c14a432a60d",
   "metadata": {},
   "outputs": [],
   "source": [
    "def drop_sand():\n",
    "    global total\n",
    "    sand = (500,0)\n",
    "    while True:\n",
    "        if grid[sand[0], sand[1] + 1] == 0:\n",
    "            sand = sand[0], sand[1] + 1\n",
    "        elif grid[sand[0] - 1, sand[1] + 1] == 0:\n",
    "            sand = sand[0] - 1, sand[1] + 1\n",
    "        elif grid[sand[0] + 1, sand[1] + 1] == 0:\n",
    "            sand = sand[0] + 1, sand[1] + 1\n",
    "        else:\n",
    "            grid[sand] = 2\n",
    "            total += 1\n",
    "            if sand == (500,0):\n",
    "                return\n",
    "            return True"
   ]
  },
  {
   "cell_type": "code",
   "execution_count": 24,
   "id": "23010eee-b7b2-40b5-af57-2787b06e13a7",
   "metadata": {},
   "outputs": [],
   "source": [
    "while drop_sand():\n",
    "    pass"
   ]
  },
  {
   "cell_type": "code",
   "execution_count": 25,
   "id": "9af562c3-ea65-4c4c-91db-324b3d84dabb",
   "metadata": {},
   "outputs": [
    {
     "name": "stdout",
     "output_type": "stream",
     "text": [
      "25771\n"
     ]
    }
   ],
   "source": [
    "print(total)"
   ]
  },
  {
   "cell_type": "code",
   "execution_count": 26,
   "id": "4d8fb472-59d3-4b0e-aee7-64f200831da6",
   "metadata": {},
   "outputs": [
    {
     "data": {
      "image/png": "[encoded data removed]",
      "text/plain": [
       "<Figure size 432x288 with 1 Axes>"
      ]
     },
     "metadata": {
      "needs_background": "light"
     },
     "output_type": "display_data"
    }
   ],
   "source": [
    "plt.imshow(grid[300:700,:].T, interpolation='nearest')\n",
    "plt.show()"
   ]
  },
  {
   "cell_type": "code",
   "execution_count": null,
   "id": "fb00ecdb-7128-42ca-9fc5-596a68ce4db7",
   "metadata": {},
   "outputs": [],
   "source": []
  }
 ],
 "metadata": {
  "kernelspec": {
   "display_name": "Python 3 (ipykernel)",
   "language": "python",
   "name": "python3"
  },
  "language_info": {
   "codemirror_mode": {
    "name": "ipython",
    "version": 3
   },
   "file_extension": ".py",
   "mimetype": "text/x-python",
   "name": "python",
   "nbconvert_exporter": "python",
   "pygments_lexer": "ipython3",
   "version": "3.9.16"
  }
 },
 "nbformat": 4,
 "nbformat_minor": 5
}
