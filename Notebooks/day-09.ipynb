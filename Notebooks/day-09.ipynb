{
 "cells": [
  {
   "cell_type": "code",
   "execution_count": 1,
   "id": "96524400-856f-4a55-830b-09dfcfa5607a",
   "metadata": {},
   "outputs": [],
   "source": [
    "import numpy as np"
   ]
  },
  {
   "cell_type": "code",
   "execution_count": 2,
   "id": "2f93363c-bd9b-4c7a-bbaa-b487acc78a9d",
   "metadata": {},
   "outputs": [],
   "source": [
    "data = open(\"../inputs/day-09\").read().splitlines()"
   ]
  },
  {
   "cell_type": "code",
   "execution_count": 3,
   "id": "f21e6021-30ac-4654-9702-87133dbd1e3a",
   "metadata": {},
   "outputs": [],
   "source": [
    "places = set([(0,0)])"
   ]
  },
  {
   "cell_type": "code",
   "execution_count": 4,
   "id": "889861ea-945d-49d1-91f2-79d103908af1",
   "metadata": {},
   "outputs": [],
   "source": [
    "head = (0,0)\n",
    "tail = (0,0)"
   ]
  },
  {
   "cell_type": "code",
   "execution_count": 5,
   "id": "b69bef35-0843-4661-a542-afe73aaabc97",
   "metadata": {},
   "outputs": [],
   "source": [
    "def step(new_head):\n",
    "    global tail\n",
    "    dx = new_head[0] - tail[0]\n",
    "    dy = new_head[1] - tail[1]\n",
    "        \n",
    "    if not (abs(dx) <= 1 and abs(dy) <= 1):\n",
    "        dx = np.sign(dx)\n",
    "        dy = np.sign(dy)\n",
    "        tail = (tail[0] + dx, tail[1] + dy)\n",
    "        \n",
    "    places.add(tail)"
   ]
  },
  {
   "cell_type": "code",
   "execution_count": 6,
   "id": "dade21f7-162c-48ed-8e4b-942aca761a09",
   "metadata": {},
   "outputs": [],
   "source": [
    "for l in data:\n",
    "    direction, num = l.split(' ')\n",
    "    if direction == 'L':\n",
    "        dx, dy = -1, 0\n",
    "    elif direction == 'R':\n",
    "        dx, dy = 1, 0\n",
    "    elif direction == 'U':\n",
    "        dx, dy = 0, 1\n",
    "    elif direction == 'D':\n",
    "        dx, dy = 0, -1\n",
    "    for _ in range(int(num)):\n",
    "        head = head[0] + dx, head[1] + dy\n",
    "        step(head)"
   ]
  },
  {
   "cell_type": "code",
   "execution_count": 7,
   "id": "5b489a9d-2113-4b9b-8ed8-90bea8bd0179",
   "metadata": {},
   "outputs": [
    {
     "data": {
      "text/plain": [
       "5960"
      ]
     },
     "execution_count": 7,
     "metadata": {},
     "output_type": "execute_result"
    }
   ],
   "source": [
    "len(places)"
   ]
  },
  {
   "cell_type": "markdown",
   "id": "a54025c3-7a7e-4329-9e72-a0131c646e5d",
   "metadata": {},
   "source": [
    "# 10 links"
   ]
  },
  {
   "cell_type": "code",
   "execution_count": 8,
   "id": "8c98e75b-c6c2-4f40-a3e7-92a2052ffb96",
   "metadata": {},
   "outputs": [],
   "source": [
    "data = open(\"../inputs/day-09\").read().splitlines()"
   ]
  },
  {
   "cell_type": "code",
   "execution_count": 9,
   "id": "d9f59a8f-19b3-41f2-bbdd-86783f0095e9",
   "metadata": {},
   "outputs": [],
   "source": [
    "places = set([(0,0)])"
   ]
  },
  {
   "cell_type": "code",
   "execution_count": 10,
   "id": "45428eae-0268-4edf-9977-4a019285170e",
   "metadata": {},
   "outputs": [],
   "source": [
    "links = [(0,0) for _ in range(10)]"
   ]
  },
  {
   "cell_type": "code",
   "execution_count": 11,
   "id": "c9df2749-0431-46a1-b20a-e0088de7469b",
   "metadata": {},
   "outputs": [],
   "source": [
    "def step(links, num):\n",
    "    link = links[num]\n",
    "    next_link = links[num - 1]\n",
    "    \n",
    "    dx = next_link[0] - link[0]\n",
    "    dy = next_link[1] - link[1]\n",
    "    \n",
    "    if not (abs(dx) <= 1 and abs(dy) <= 1):\n",
    "        dx = np.sign(dx)\n",
    "        dy = np.sign(dy)\n",
    "        link = (link[0] + dx, link[1] + dy)\n",
    "\n",
    "    if num == 9:\n",
    "        places.add(link)\n",
    "\n",
    "    links[num] = link"
   ]
  },
  {
   "cell_type": "code",
   "execution_count": 12,
   "id": "da855560-4cb5-4d2c-b1c2-7ec8b515e575",
   "metadata": {},
   "outputs": [],
   "source": [
    "for line in data:\n",
    "    direction, num = line.split(' ')\n",
    "    if direction == 'L':\n",
    "        dx, dy = -1, 0\n",
    "    elif direction == 'R':\n",
    "        dx, dy = 1, 0\n",
    "    elif direction == 'U':\n",
    "        dx, dy = 0, 1\n",
    "    elif direction == 'D':\n",
    "        dx, dy = 0, -1\n",
    "    for _ in range(int(num)):\n",
    "        links[0] = (links[0][0] + dx, links[0][1] + dy)\n",
    "        for p in range(1,10):\n",
    "            step(links, p)"
   ]
  },
  {
   "cell_type": "code",
   "execution_count": 13,
   "id": "a949db4b-8b2a-478d-9971-903713ea2ef1",
   "metadata": {},
   "outputs": [
    {
     "data": {
      "text/plain": [
       "2327"
      ]
     },
     "execution_count": 13,
     "metadata": {},
     "output_type": "execute_result"
    }
   ],
   "source": [
    "len(places)"
   ]
  },
  {
   "cell_type": "code",
   "execution_count": null,
   "id": "32db028d-fba6-4e64-84fd-2c4d33548710",
   "metadata": {},
   "outputs": [],
   "source": []
  }
 ],
 "metadata": {
  "kernelspec": {
   "display_name": "Python 3 (ipykernel)",
   "language": "python",
   "name": "python3"
  },
  "language_info": {
   "codemirror_mode": {
    "name": "ipython",
    "version": 3
   },
   "file_extension": ".py",
   "mimetype": "text/x-python",
   "name": "python",
   "nbconvert_exporter": "python",
   "pygments_lexer": "ipython3",
   "version": "3.9.15"
  }
 },
 "nbformat": 4,
 "nbformat_minor": 5
}
