{
 "cells": [
  {
   "cell_type": "code",
   "execution_count": 1,
   "id": "e6ee5419-9e27-4daa-896d-3da92bf4429d",
   "metadata": {},
   "outputs": [],
   "source": [
    "data = open(\"../inputs/day-03\").read().splitlines()"
   ]
  },
  {
   "cell_type": "code",
   "execution_count": 2,
   "id": "d5bc45ac-748a-4b65-ab54-d0985b8e2494",
   "metadata": {},
   "outputs": [],
   "source": [
    "def get_value(char):\n",
    "    if 'a' <= char <= 'z':\n",
    "        return ord(char) - 96\n",
    "    else:\n",
    "        return ord(char) - 38"
   ]
  },
  {
   "cell_type": "markdown",
   "id": "9de9a60a-818a-417c-831d-a9c3e2ffbfce",
   "metadata": {},
   "source": [
    "---"
   ]
  },
  {
   "cell_type": "code",
   "execution_count": 3,
   "id": "01d3f7ed-a7d3-4dbf-bee2-b2a66de498f0",
   "metadata": {},
   "outputs": [],
   "source": [
    "total = 0"
   ]
  },
  {
   "cell_type": "code",
   "execution_count": 4,
   "id": "6bc55241-1294-4690-885a-effeb6df4cd6",
   "metadata": {},
   "outputs": [],
   "source": [
    "for line in data:\n",
    "    middle = len(line) // 2\n",
    "    result = set(line[:middle]) & set(line[middle:])\n",
    "    if result:\n",
    "        (char, ) = result\n",
    "        total += get_value(char)"
   ]
  },
  {
   "cell_type": "code",
   "execution_count": 5,
   "id": "c4ba8064-579f-4542-866d-3ede16182c7d",
   "metadata": {},
   "outputs": [
    {
     "name": "stdout",
     "output_type": "stream",
     "text": [
      "7845\n"
     ]
    }
   ],
   "source": [
    "print(total)"
   ]
  },
  {
   "cell_type": "markdown",
   "id": "5d594bce-04c2-42ca-917b-6b701f1b6700",
   "metadata": {},
   "source": [
    "-------"
   ]
  },
  {
   "cell_type": "code",
   "execution_count": 6,
   "id": "bb930937-8b86-42cb-8eea-0c35cbbbbd76",
   "metadata": {},
   "outputs": [],
   "source": [
    "total = 0"
   ]
  },
  {
   "cell_type": "code",
   "execution_count": 7,
   "id": "9ed680f0-49c8-45b3-856b-ecf6c827fb47",
   "metadata": {},
   "outputs": [],
   "source": [
    "groups = []"
   ]
  },
  {
   "cell_type": "code",
   "execution_count": 8,
   "id": "2fd3b128-ea68-4071-bcec-676304ccd140",
   "metadata": {},
   "outputs": [],
   "source": [
    "for i in range(0, len(data), 3):\n",
    "    groups.append(data[slice(i,i+3)])"
   ]
  },
  {
   "cell_type": "code",
   "execution_count": 9,
   "id": "1693c9e6-82b0-4c1f-9bf6-e38c0e4862c9",
   "metadata": {},
   "outputs": [],
   "source": [
    "for group in groups:\n",
    "    result = set(group[0]) & set(group[1]) & set(group[2])\n",
    "    if result:\n",
    "        (char, ) = result\n",
    "        total += get_value(char)"
   ]
  },
  {
   "cell_type": "code",
   "execution_count": 11,
   "id": "23ce290e-d413-45c8-b995-c7030a6a0991",
   "metadata": {},
   "outputs": [
    {
     "name": "stdout",
     "output_type": "stream",
     "text": [
      "2790\n"
     ]
    }
   ],
   "source": [
    "print(total)"
   ]
  },
  {
   "cell_type": "code",
   "execution_count": null,
   "id": "70db29e9-497c-4846-99b3-974f567a2f83",
   "metadata": {},
   "outputs": [],
   "source": []
  }
 ],
 "metadata": {
  "kernelspec": {
   "display_name": "Python 3 (ipykernel)",
   "language": "python",
   "name": "python3"
  },
  "language_info": {
   "codemirror_mode": {
    "name": "ipython",
    "version": 3
   },
   "file_extension": ".py",
   "mimetype": "text/x-python",
   "name": "python",
   "nbconvert_exporter": "python",
   "pygments_lexer": "ipython3",
   "version": "3.9.15"
  }
 },
 "nbformat": 4,
 "nbformat_minor": 5
}
