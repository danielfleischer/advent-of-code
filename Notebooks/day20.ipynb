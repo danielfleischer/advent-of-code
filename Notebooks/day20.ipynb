{
 "cells": [
  {
   "cell_type": "code",
   "execution_count": 1,
   "id": "fea61de8-044c-4959-9414-84d855ab887c",
   "metadata": {},
   "outputs": [],
   "source": [
    "import numpy as np"
   ]
  },
  {
   "cell_type": "code",
   "execution_count": 2,
   "id": "39b79ef0-1012-45c4-965c-4c8623b3526d",
   "metadata": {},
   "outputs": [],
   "source": [
    "data = open('../inputs/input-day20').read().splitlines()"
   ]
  },
  {
   "cell_type": "code",
   "execution_count": 3,
   "id": "673eab0f-707d-4d55-8019-e2f6b63d3159",
   "metadata": {},
   "outputs": [],
   "source": [
    "encoding = data[0].replace('.','0').replace('#','1')"
   ]
  },
  {
   "cell_type": "code",
   "execution_count": 4,
   "id": "1ec6fa30-ed5a-4bca-bee0-c16a15cf04d8",
   "metadata": {},
   "outputs": [],
   "source": [
    "data = data[2:]"
   ]
  },
  {
   "cell_type": "markdown",
   "id": "2f17e2a6-b87e-4e72-bdbc-53fba8892798",
   "metadata": {},
   "source": [
    "`.` is 0, `#` is 1"
   ]
  },
  {
   "cell_type": "code",
   "execution_count": 5,
   "id": "2430bc9f-86b2-4c49-a07d-4fe91dcb7382",
   "metadata": {},
   "outputs": [],
   "source": [
    "def init():\n",
    "    mat = []\n",
    "    for l in data:\n",
    "        mat.append([i for i in l.replace('.','0').replace('#','1')])\n",
    "    mat = np.array(mat)\n",
    "    return mat"
   ]
  },
  {
   "cell_type": "markdown",
   "id": "95afc2b5-9c73-4cef-af7a-064ab993024d",
   "metadata": {},
   "source": [
    "# Task 1\n",
    "2 steps."
   ]
  },
  {
   "cell_type": "code",
   "execution_count": 6,
   "id": "6fa2b76b-62cc-4fc0-8cfe-52e9632f54e4",
   "metadata": {},
   "outputs": [],
   "source": [
    "def step(mat, outside):\n",
    "    ans = mat.copy()\n",
    "    ans[:] = outside\n",
    "    for i in range(mat.shape[0] - 2):\n",
    "        for j in range(mat.shape[0] - 2):\n",
    "            window = mat[i:i+3, j:j+3]\n",
    "            ans[i+1, j+1] = encoding[int(\"\".join(window.reshape(9).tolist()), 2)]\n",
    "    return ans"
   ]
  },
  {
   "cell_type": "code",
   "execution_count": 7,
   "id": "0f1715fc-f996-4131-b42b-3477a161db7a",
   "metadata": {},
   "outputs": [],
   "source": [
    "mat = init()"
   ]
  },
  {
   "cell_type": "markdown",
   "id": "5bcce597-e9b6-46de-85ae-319910afaaa6",
   "metadata": {},
   "source": [
    "Since 3x3 matrix of zeros is encoded as 1 we need to pad with size 3:"
   ]
  },
  {
   "cell_type": "code",
   "execution_count": 8,
   "id": "d16d5f0a-6935-45c1-8ee4-47a9efdea412",
   "metadata": {},
   "outputs": [
    {
     "data": {
      "text/plain": [
       "'1'"
      ]
     },
     "execution_count": 8,
     "metadata": {},
     "output_type": "execute_result"
    }
   ],
   "source": [
    "encoding[0]"
   ]
  },
  {
   "cell_type": "code",
   "execution_count": 9,
   "id": "0f17d3bc-6600-460d-b8ea-d1d5a13abe49",
   "metadata": {},
   "outputs": [],
   "source": [
    "mat = np.pad(mat, 3, constant_values = '0')"
   ]
  },
  {
   "cell_type": "code",
   "execution_count": 10,
   "id": "1c75441c-7792-4a87-9385-0ccf83312738",
   "metadata": {},
   "outputs": [],
   "source": [
    "mat = step(mat, '1')"
   ]
  },
  {
   "cell_type": "markdown",
   "id": "d56f3ad8-87a2-4408-917e-d8b051348f18",
   "metadata": {},
   "source": [
    "Now we pad with '1' but only need layer of size 1:"
   ]
  },
  {
   "cell_type": "code",
   "execution_count": 11,
   "id": "b047d19d-9d17-44c2-8efd-97b601b9e6ad",
   "metadata": {},
   "outputs": [],
   "source": [
    "mat = np.pad(mat, 1, constant_values = '1')"
   ]
  },
  {
   "cell_type": "code",
   "execution_count": 12,
   "id": "6b84978e-ecce-4037-b0a2-0e3c8ab8030e",
   "metadata": {},
   "outputs": [],
   "source": [
    "mat = step(mat, '0')"
   ]
  },
  {
   "cell_type": "code",
   "execution_count": 13,
   "id": "2dfc77d0-cf4b-40d9-8ffc-139dfc26191a",
   "metadata": {},
   "outputs": [
    {
     "data": {
      "text/plain": [
       "5400"
      ]
     },
     "execution_count": 13,
     "metadata": {},
     "output_type": "execute_result"
    }
   ],
   "source": [
    "(mat == '1').sum()"
   ]
  },
  {
   "cell_type": "markdown",
   "id": "dfa187f2-b958-40b5-a2db-77a68079f5d1",
   "metadata": {},
   "source": [
    "-----\n",
    "## Task 2 \n",
    "50 steps. We can define a function that does the previous 2 steps and some pruning of the edges:"
   ]
  },
  {
   "cell_type": "code",
   "execution_count": 14,
   "id": "f5fbf31c-7b40-411c-8d11-2f0c2220b653",
   "metadata": {},
   "outputs": [],
   "source": [
    "def double_step(mat):\n",
    "    mat = np.pad(mat, 3, constant_values = '0')\n",
    "    mat = step(mat, '1')\n",
    "    mat = np.pad(mat, 1, constant_values = '1')\n",
    "    mat = step(mat, '0')\n",
    "    mat = mat[2:-2,2:-2]\n",
    "    return mat"
   ]
  },
  {
   "cell_type": "code",
   "execution_count": 15,
   "id": "427e9512-4ec4-404e-a7d9-4d49a660fbc3",
   "metadata": {},
   "outputs": [],
   "source": [
    "mat = init()"
   ]
  },
  {
   "cell_type": "code",
   "execution_count": 16,
   "id": "f616dbf1-ba7d-4d21-8e0e-9eeefc19e489",
   "metadata": {},
   "outputs": [],
   "source": [
    "for _ in range(25):\n",
    "    mat = double_step(mat)"
   ]
  },
  {
   "cell_type": "code",
   "execution_count": 17,
   "id": "6c6034bf-acd3-4c7e-8843-aa759bc519da",
   "metadata": {},
   "outputs": [
    {
     "data": {
      "text/plain": [
       "18989"
      ]
     },
     "execution_count": 17,
     "metadata": {},
     "output_type": "execute_result"
    }
   ],
   "source": [
    "(mat == '1').sum()"
   ]
  },
  {
   "cell_type": "code",
   "execution_count": null,
   "id": "2051124b-e717-4ff7-9833-557a175e1d45",
   "metadata": {},
   "outputs": [],
   "source": []
  }
 ],
 "metadata": {
  "kernelspec": {
   "display_name": "Python 3",
   "language": "python",
   "name": "python3"
  },
  "language_info": {
   "codemirror_mode": {
    "name": "ipython",
    "version": 3
   },
   "file_extension": ".py",
   "mimetype": "text/x-python",
   "name": "python",
   "nbconvert_exporter": "python",
   "pygments_lexer": "ipython3",
   "version": "3.9.9"
  }
 },
 "nbformat": 4,
 "nbformat_minor": 5
}
