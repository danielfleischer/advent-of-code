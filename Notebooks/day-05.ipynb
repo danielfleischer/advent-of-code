{
 "cells": [
  {
   "cell_type": "code",
   "execution_count": 153,
   "id": "b5aa655f-ed7c-41de-b43b-5fb260c71b96",
   "metadata": {},
   "outputs": [],
   "source": [
    "import re"
   ]
  },
  {
   "cell_type": "code",
   "execution_count": 154,
   "id": "c8359845-eeb4-46b5-9883-291e2785f0a1",
   "metadata": {},
   "outputs": [],
   "source": [
    "data = open(\"../inputs/day-05\").read().splitlines()"
   ]
  },
  {
   "cell_type": "code",
   "execution_count": 155,
   "id": "d25904ce-bc96-4d68-8b38-82bc2711cffe",
   "metadata": {},
   "outputs": [],
   "source": [
    "config = [[] for _ in range(9)]"
   ]
  },
  {
   "cell_type": "code",
   "execution_count": 156,
   "id": "ed45535e-9494-4007-9a8d-5c7533d4ed32",
   "metadata": {},
   "outputs": [],
   "source": [
    "for l in data[7::-1]:\n",
    "    for i in range(9):\n",
    "        if (char := l[1+4*i]) != ' ':\n",
    "            config[i].append(char)"
   ]
  },
  {
   "cell_type": "code",
   "execution_count": 157,
   "id": "946d4eda-c00e-4c03-b264-71011ea9aba5",
   "metadata": {},
   "outputs": [],
   "source": [
    "instructions = data[10:]"
   ]
  },
  {
   "cell_type": "code",
   "execution_count": 158,
   "id": "5497f279-3454-4383-8d04-60d71c6f3199",
   "metadata": {},
   "outputs": [],
   "source": [
    "def move_one(_from, to):\n",
    "    payload = config[_from].pop()\n",
    "    config[to].append(payload)"
   ]
  },
  {
   "cell_type": "code",
   "execution_count": 159,
   "id": "94c56399-76ec-4698-a102-3739df1557f1",
   "metadata": {},
   "outputs": [],
   "source": [
    "for line in instructions:\n",
    "    match = re.match(\"move (\\d+) from (\\d) to (\\d)\", line)\n",
    "    times, _from, to = match.groups()\n",
    "    for _ in range(int(times)):\n",
    "        move_one(int(_from) - 1, int(to) - 1)"
   ]
  },
  {
   "cell_type": "code",
   "execution_count": 160,
   "id": "9023ef66-10e8-4fb9-8078-37d853c478d9",
   "metadata": {},
   "outputs": [
    {
     "data": {
      "text/plain": [
       "'VJSFHWGFT'"
      ]
     },
     "execution_count": 160,
     "metadata": {},
     "output_type": "execute_result"
    }
   ],
   "source": [
    "\"\".join([col.pop() for col in config])"
   ]
  },
  {
   "cell_type": "markdown",
   "id": "8eafb867-d7b9-48f9-a1db-6fe3897d039e",
   "metadata": {},
   "source": [
    "-----\n",
    "## Move many"
   ]
  },
  {
   "cell_type": "code",
   "execution_count": 161,
   "id": "29517a8c-df3d-45e1-a937-60a2080b77bd",
   "metadata": {},
   "outputs": [],
   "source": [
    "config = [[] for _ in range(9)]"
   ]
  },
  {
   "cell_type": "code",
   "execution_count": 162,
   "id": "01e0b4c3-9240-42ff-93dc-353a8eedc106",
   "metadata": {},
   "outputs": [],
   "source": [
    "for l in data[7::-1]:\n",
    "    for i in range(9):\n",
    "        if (char := l[1+4*i]) != ' ':\n",
    "            config[i].append(char)"
   ]
  },
  {
   "cell_type": "code",
   "execution_count": 163,
   "id": "f08e30b6-c7f3-4954-bca9-ce0bf7021d5d",
   "metadata": {},
   "outputs": [],
   "source": [
    "def move_many(amount, _from, to):\n",
    "    config[_from], payload = config[_from][:-amount], config[_from][-amount:]\n",
    "    config[to].extend(payload)"
   ]
  },
  {
   "cell_type": "code",
   "execution_count": 164,
   "id": "fc1844b4-2401-41e2-94fe-d128d1bc4ff5",
   "metadata": {},
   "outputs": [],
   "source": [
    "for line in instructions:\n",
    "    match = re.match(\"move (\\d+) from (\\d) to (\\d)\", line)\n",
    "    times, _from, to = match.groups()\n",
    "    move_many(int(times), int(_from) - 1, int(to) - 1)"
   ]
  },
  {
   "cell_type": "code",
   "execution_count": 165,
   "id": "0d10286e-b298-4a61-855c-817a9c61fff1",
   "metadata": {},
   "outputs": [
    {
     "data": {
      "text/plain": [
       "'LCTQFBVZV'"
      ]
     },
     "execution_count": 165,
     "metadata": {},
     "output_type": "execute_result"
    }
   ],
   "source": [
    "\"\".join([col.pop() for col in config])"
   ]
  },
  {
   "cell_type": "code",
   "execution_count": null,
   "id": "0d4030b1-6c68-432e-9a52-4b93c78f9374",
   "metadata": {},
   "outputs": [],
   "source": []
  }
 ],
 "metadata": {
  "kernelspec": {
   "display_name": "Python 3 (ipykernel)",
   "language": "python",
   "name": "python3"
  },
  "language_info": {
   "codemirror_mode": {
    "name": "ipython",
    "version": 3
   },
   "file_extension": ".py",
   "mimetype": "text/x-python",
   "name": "python",
   "nbconvert_exporter": "python",
   "pygments_lexer": "ipython3",
   "version": "3.9.16"
  }
 },
 "nbformat": 4,
 "nbformat_minor": 5
}
