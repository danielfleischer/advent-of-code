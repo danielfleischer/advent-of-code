{
 "cells": [
  {
   "cell_type": "code",
   "execution_count": 21,
   "id": "f13b9483-b526-490f-8df5-b92d70098007",
   "metadata": {},
   "outputs": [],
   "source": [
    "import numpy as np"
   ]
  },
  {
   "cell_type": "code",
   "execution_count": 22,
   "id": "fd543cc1-ed94-4024-887a-7464b45190d5",
   "metadata": {},
   "outputs": [],
   "source": [
    "data = np.genfromtxt(\"../inputs/day-08\",dtype=int, delimiter=1)"
   ]
  },
  {
   "cell_type": "code",
   "execution_count": 23,
   "id": "2a9d1f50-df91-4200-adc6-abea638d3efa",
   "metadata": {},
   "outputs": [],
   "source": [
    "data = np.pad(data, 1, constant_values=-1)"
   ]
  },
  {
   "cell_type": "code",
   "execution_count": 24,
   "id": "8e5fc674-67be-41cf-843f-16d73ec3a47f",
   "metadata": {},
   "outputs": [],
   "source": [
    "size = len(data)"
   ]
  },
  {
   "cell_type": "code",
   "execution_count": 25,
   "id": "95450c99-f058-4d7e-9a19-73d5e8e6005f",
   "metadata": {},
   "outputs": [],
   "source": [
    "ans = np.zeros((size, size), dtype=int)"
   ]
  },
  {
   "cell_type": "code",
   "execution_count": 26,
   "id": "e6bec1a3-ca5d-4c69-9459-124cfc5fb0d7",
   "metadata": {},
   "outputs": [],
   "source": [
    "for j in range(1, size-1):\n",
    "    ans[:, j] |= data[:, j] > data[:,:j].max(1)"
   ]
  },
  {
   "cell_type": "code",
   "execution_count": 27,
   "id": "0c42ccdc-5d22-44a6-bdd3-42e6f70a23ab",
   "metadata": {},
   "outputs": [],
   "source": [
    "for j in range(1, size-1):\n",
    "    ans[:, j] |= data[:, j] > data[:,j+1:].max(1)"
   ]
  },
  {
   "cell_type": "code",
   "execution_count": 28,
   "id": "6fa56629-6d7a-4982-a3a3-970ed973d5df",
   "metadata": {},
   "outputs": [],
   "source": [
    "for i in range(1, size-1):\n",
    "    ans[i, :] |= data[i, :] > data[:i, :].max(0)"
   ]
  },
  {
   "cell_type": "code",
   "execution_count": 29,
   "id": "1b865038-73e6-421b-a6a7-693e3e1ea427",
   "metadata": {},
   "outputs": [],
   "source": [
    "for i in range(1, size-1):\n",
    "    ans[i, :] |= data[i, :] > data[i+1:, :].max(0)"
   ]
  },
  {
   "cell_type": "code",
   "execution_count": 30,
   "id": "e2829ad0-6654-4ec6-bdbc-d2ea91bca8ef",
   "metadata": {},
   "outputs": [
    {
     "name": "stdout",
     "output_type": "stream",
     "text": [
      "1859\n"
     ]
    }
   ],
   "source": [
    "print(ans.sum())"
   ]
  },
  {
   "cell_type": "markdown",
   "id": "38f04519-6484-4cc2-8342-4260c7ef1af6",
   "metadata": {},
   "source": [
    "## Scenic Score"
   ]
  },
  {
   "cell_type": "code",
   "execution_count": 31,
   "id": "06072d17-909b-4083-8952-e6f9756a492f",
   "metadata": {},
   "outputs": [],
   "source": [
    "data = np.genfromtxt(\"../inputs/day-08\",dtype=int, delimiter=1)"
   ]
  },
  {
   "cell_type": "code",
   "execution_count": 32,
   "id": "6d52008c-52c7-43bf-b753-476f33356531",
   "metadata": {},
   "outputs": [],
   "source": [
    "def get_score(i,j, size):\n",
    "    val = data[i,j]\n",
    "    l,r,t,b = 1,1,1,1\n",
    "    ii = i\n",
    "    while ii > 1:\n",
    "        if data[ii - 1, j] < val:\n",
    "            t += 1\n",
    "            ii -= 1\n",
    "        else:\n",
    "            break\n",
    "    ii = i\n",
    "    while ii < size:\n",
    "        if data[ii + 1, j] < val:\n",
    "            b += 1\n",
    "            ii += 1\n",
    "        else:\n",
    "            break\n",
    "    jj = j\n",
    "    while jj > 1:\n",
    "        if data[i, jj - 1] < val:\n",
    "            l += 1\n",
    "            jj -= 1\n",
    "        else:\n",
    "            break\n",
    "    jj = j\n",
    "    while jj < size:\n",
    "        if data[i, jj + 1] < val:\n",
    "            r += 1\n",
    "            jj += 1\n",
    "        else:\n",
    "            break\n",
    "    return l * r * t * b"
   ]
  },
  {
   "cell_type": "code",
   "execution_count": 33,
   "id": "c25090c9-bac5-4750-9d56-06b61b3efa8c",
   "metadata": {},
   "outputs": [],
   "source": [
    "scores = np.zeros((99,99), dtype=int)"
   ]
  },
  {
   "cell_type": "code",
   "execution_count": 34,
   "id": "5da14fc6-f90b-4ec9-8a69-bc53b339aa13",
   "metadata": {},
   "outputs": [],
   "source": [
    "for i in range(1,len(data) - 1):\n",
    "    for j in range(1, len(data) - 1):\n",
    "        scores[i,j] = get_score(i,j, len(data) - 2)"
   ]
  },
  {
   "cell_type": "code",
   "execution_count": 35,
   "id": "39855b02-e592-4bfb-8c7a-86a03b60560f",
   "metadata": {},
   "outputs": [
    {
     "data": {
      "text/plain": [
       "332640"
      ]
     },
     "execution_count": 35,
     "metadata": {},
     "output_type": "execute_result"
    }
   ],
   "source": [
    "scores.max()"
   ]
  },
  {
   "cell_type": "code",
   "execution_count": null,
   "id": "7b7fa341-cbe7-429f-8f54-d546c136bf22",
   "metadata": {},
   "outputs": [],
   "source": []
  },
  {
   "cell_type": "code",
   "execution_count": null,
   "id": "79adcf92-b50b-4741-b31e-e11625be4406",
   "metadata": {},
   "outputs": [],
   "source": []
  },
  {
   "cell_type": "code",
   "execution_count": null,
   "id": "1996a44e-e9e6-4c82-9853-6ebefac9a7ec",
   "metadata": {},
   "outputs": [],
   "source": []
  },
  {
   "cell_type": "code",
   "execution_count": null,
   "id": "bffc0367-5d5e-4c98-9465-10531124f1d2",
   "metadata": {},
   "outputs": [],
   "source": []
  }
 ],
 "metadata": {
  "kernelspec": {
   "display_name": "Python 3 (ipykernel)",
   "language": "python",
   "name": "python3"
  },
  "language_info": {
   "codemirror_mode": {
    "name": "ipython",
    "version": 3
   },
   "file_extension": ".py",
   "mimetype": "text/x-python",
   "name": "python",
   "nbconvert_exporter": "python",
   "pygments_lexer": "ipython3",
   "version": "3.9.15"
  }
 },
 "nbformat": 4,
 "nbformat_minor": 5
}
