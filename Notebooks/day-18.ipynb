{
 "cells": [
  {
   "cell_type": "code",
   "execution_count": 35,
   "id": "512b3df6-e19b-491d-b311-56684362a833",
   "metadata": {},
   "outputs": [],
   "source": [
    "data = open('../inputs/day-18').read().splitlines()"
   ]
  },
  {
   "cell_type": "code",
   "execution_count": 36,
   "id": "040b8c38-abfb-48ad-ae22-1793f6a98013",
   "metadata": {},
   "outputs": [],
   "source": [
    "data = [eval(l) for l in data]"
   ]
  },
  {
   "cell_type": "code",
   "execution_count": 37,
   "id": "9294a61f-e5b6-4b8a-a263-1049483633c6",
   "metadata": {},
   "outputs": [],
   "source": [
    "data = set(data)"
   ]
  },
  {
   "cell_type": "code",
   "execution_count": 38,
   "id": "7c496db9-e368-47f9-9ca6-cefe79e17572",
   "metadata": {},
   "outputs": [],
   "source": [
    "surface = 0"
   ]
  },
  {
   "cell_type": "code",
   "execution_count": 39,
   "id": "c3e87019-3179-47f5-ba94-0cf3530724b2",
   "metadata": {},
   "outputs": [],
   "source": [
    "for c in data:\n",
    "    ans = 6\n",
    "    x,y,z = c\n",
    "    for dx in [-1,1]:\n",
    "        if (x+dx,y,z) in data:\n",
    "            ans -= 1\n",
    "    for dy in [-1,1]:\n",
    "        if (x,y+dy,z) in data:\n",
    "            ans -= 1\n",
    "    for dz in [-1,1]:\n",
    "        if (x,y,z+dz) in data:\n",
    "            ans -= 1\n",
    "    surface += ans"
   ]
  },
  {
   "cell_type": "code",
   "execution_count": 40,
   "id": "4a006857-fd7c-4921-8fc6-e76d58565266",
   "metadata": {},
   "outputs": [
    {
     "data": {
      "text/plain": [
       "3346"
      ]
     },
     "execution_count": 40,
     "metadata": {},
     "output_type": "execute_result"
    }
   ],
   "source": [
    "surface"
   ]
  },
  {
   "cell_type": "code",
   "execution_count": null,
   "id": "5c388a98-70a0-4a8f-8264-d0719f970b3d",
   "metadata": {},
   "outputs": [],
   "source": []
  },
  {
   "cell_type": "code",
   "execution_count": null,
   "id": "1dbf20ce-0f34-415a-a0a3-8dae9fcd8e11",
   "metadata": {},
   "outputs": [],
   "source": []
  },
  {
   "cell_type": "code",
   "execution_count": null,
   "id": "5ebfc362-09e0-4764-a7a0-43207f788fe4",
   "metadata": {},
   "outputs": [],
   "source": []
  },
  {
   "cell_type": "code",
   "execution_count": null,
   "id": "5c765628-703e-47f7-893e-a794aae259cd",
   "metadata": {},
   "outputs": [],
   "source": []
  },
  {
   "cell_type": "code",
   "execution_count": 18,
   "id": "b4b01c19-a343-4247-a2a9-6d3644b33116",
   "metadata": {},
   "outputs": [],
   "source": [
    "import numpy as np"
   ]
  },
  {
   "cell_type": "code",
   "execution_count": 32,
   "id": "82da10de-0328-4a48-bf33-da9a9de4664d",
   "metadata": {},
   "outputs": [
    {
     "data": {
      "text/plain": [
       "(1, 2, 3, 1, 0, 0)"
      ]
     },
     "execution_count": 32,
     "metadata": {},
     "output_type": "execute_result"
    }
   ],
   "source": [
    "(1,"
   ]
  },
  {
   "cell_type": "code",
   "execution_count": null,
   "id": "84ab92da-cc52-4c5e-ad94-089352ee2cf8",
   "metadata": {},
   "outputs": [],
   "source": []
  }
 ],
 "metadata": {
  "kernelspec": {
   "display_name": "Python 3 (ipykernel)",
   "language": "python",
   "name": "python3"
  },
  "language_info": {
   "codemirror_mode": {
    "name": "ipython",
    "version": 3
   },
   "file_extension": ".py",
   "mimetype": "text/x-python",
   "name": "python",
   "nbconvert_exporter": "python",
   "pygments_lexer": "ipython3",
   "version": "3.9.16"
  }
 },
 "nbformat": 4,
 "nbformat_minor": 5
}
