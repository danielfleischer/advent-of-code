{
 "cells": [
  {
   "cell_type": "code",
   "execution_count": 219,
   "id": "01592625-6bc9-4ead-9af8-2eda676a5f09",
   "metadata": {},
   "outputs": [],
   "source": [
    "data = open(\"../inputs/day-07\").read().splitlines()"
   ]
  },
  {
   "cell_type": "code",
   "execution_count": 220,
   "id": "1cf7f832-179c-43f3-af6c-c0253ab4c884",
   "metadata": {},
   "outputs": [],
   "source": [
    "class Node():\n",
    "    def __init__(self, name: str, up, size=None):\n",
    "        self.name = name\n",
    "        self.up = up\n",
    "        self.size = size\n",
    "        self.children = []\n",
    "    \n",
    "    def sub(self, name, size=None):\n",
    "        self.children.append(Node(name=name, size=size, up=self))\n",
    "        \n",
    "    def __repr__(self):\n",
    "        return f\"name:{self.name}, size: {self.size}, dir: {[l.name for l in self.children]}\""
   ]
  },
  {
   "cell_type": "code",
   "execution_count": 229,
   "id": "d8deaffb-a842-4224-b91a-815e0c4b67b1",
   "metadata": {},
   "outputs": [],
   "source": [
    "top = Node(\"/\", None)"
   ]
  },
  {
   "cell_type": "code",
   "execution_count": 230,
   "id": "9089b6f6-8284-45e2-a6d5-4d4254493c24",
   "metadata": {},
   "outputs": [],
   "source": [
    "visiting = top"
   ]
  },
  {
   "cell_type": "code",
   "execution_count": 231,
   "id": "41f3909e-42dc-4d05-afaa-ff07a4f5696b",
   "metadata": {},
   "outputs": [],
   "source": [
    "for l in data[1:]:\n",
    "    if l == \"$ ls\":\n",
    "        continue\n",
    "    elif l.startswith(\"$ cd ..\"):\n",
    "        visiting = visiting.up\n",
    "    elif l.startswith(\"$ cd\"):\n",
    "        (sdir,) = filter(lambda x: x.name == l[5:], visiting.children)\n",
    "        visiting = sdir\n",
    "    else:\n",
    "        info, name = l.split(' ')\n",
    "        sdir = Node(name, up=visiting, size=None if 'dir' == info else int(info))\n",
    "        visiting.children.append(sdir)"
   ]
  },
  {
   "cell_type": "code",
   "execution_count": 232,
   "id": "61a99f39-cbc2-47d4-be24-0a089de395c8",
   "metadata": {},
   "outputs": [],
   "source": [
    "def sum_nodes(node: Node):\n",
    "    if node.children != []:\n",
    "        node.size = sum(sum_nodes(s) for s in node.children)\n",
    "    return node.size"
   ]
  },
  {
   "cell_type": "code",
   "execution_count": 234,
   "id": "a69d2ff5-da3c-4575-8f58-9420b9f6334d",
   "metadata": {},
   "outputs": [
    {
     "data": {
      "text/plain": [
       "46975962"
      ]
     },
     "execution_count": 234,
     "metadata": {},
     "output_type": "execute_result"
    }
   ],
   "source": [
    "sum_nodes(top)"
   ]
  },
  {
   "cell_type": "code",
   "execution_count": 239,
   "id": "158b79db-af39-495b-ac81-d6778caebe10",
   "metadata": {},
   "outputs": [],
   "source": [
    "total = 0\n",
    "def print_nice(node, threshold):\n",
    "    global total\n",
    "    if node.size < threshold and node.children != []:\n",
    "        total += node.size\n",
    "    for s in node.children:\n",
    "        print_nice(s, threshold)"
   ]
  },
  {
   "cell_type": "code",
   "execution_count": 240,
   "id": "cf8ef4f7-ce32-4210-bff6-99162438e02d",
   "metadata": {},
   "outputs": [
    {
     "data": {
      "text/plain": [
       "1334506"
      ]
     },
     "execution_count": 240,
     "metadata": {},
     "output_type": "execute_result"
    }
   ],
   "source": [
    "print_nice(top, 100_000)\n",
    "total"
   ]
  },
  {
   "cell_type": "markdown",
   "id": "af2f75ad-9765-4894-8b68-600e7405c210",
   "metadata": {},
   "source": [
    "----\n",
    "## Finding the right dir to delete"
   ]
  },
  {
   "cell_type": "code",
   "execution_count": 241,
   "id": "e2c00051-233a-4f30-8b56-7d572277dbf7",
   "metadata": {},
   "outputs": [
    {
     "data": {
      "text/plain": [
       "6975962"
      ]
     },
     "execution_count": 241,
     "metadata": {},
     "output_type": "execute_result"
    }
   ],
   "source": [
    "space_needed = 30000000 - (70000000 - 46975962)\n",
    "space_needed"
   ]
  },
  {
   "cell_type": "code",
   "execution_count": 242,
   "id": "777299d4-0c7b-4872-a323-e44cad5e7968",
   "metadata": {},
   "outputs": [],
   "source": [
    "options = []"
   ]
  },
  {
   "cell_type": "code",
   "execution_count": 243,
   "id": "0850a1dc-6da2-4bcf-ba42-2175e554fb31",
   "metadata": {},
   "outputs": [],
   "source": [
    "def find_match(node):\n",
    "    global options\n",
    "    if node.children == [] or node.size < space_needed:\n",
    "        return False\n",
    "    \n",
    "    if all([False if find_match(l) else True for l in node.children]):\n",
    "        options.append(node.size)"
   ]
  },
  {
   "cell_type": "code",
   "execution_count": 244,
   "id": "1ef602de-b09c-4947-8e82-ebc7c2aaceb5",
   "metadata": {},
   "outputs": [],
   "source": [
    "find_match(top)"
   ]
  },
  {
   "cell_type": "code",
   "execution_count": 245,
   "id": "dc924b5d-5547-4b6e-941a-4f8335b82fd4",
   "metadata": {},
   "outputs": [
    {
     "data": {
      "text/plain": [
       "7421137"
      ]
     },
     "execution_count": 245,
     "metadata": {},
     "output_type": "execute_result"
    }
   ],
   "source": [
    "min(options)"
   ]
  },
  {
   "cell_type": "code",
   "execution_count": null,
   "id": "f97a41f8-f554-47ef-9c5a-987f6ef71594",
   "metadata": {},
   "outputs": [],
   "source": []
  }
 ],
 "metadata": {
  "kernelspec": {
   "display_name": "Python 3 (ipykernel)",
   "language": "python",
   "name": "python3"
  },
  "language_info": {
   "codemirror_mode": {
    "name": "ipython",
    "version": 3
   },
   "file_extension": ".py",
   "mimetype": "text/x-python",
   "name": "python",
   "nbconvert_exporter": "python",
   "pygments_lexer": "ipython3",
   "version": "3.9.15"
  }
 },
 "nbformat": 4,
 "nbformat_minor": 5
}
