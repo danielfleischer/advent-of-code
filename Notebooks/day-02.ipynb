{
 "cells": [
  {
   "cell_type": "code",
   "execution_count": 1,
   "id": "4b1c9fea-3709-4372-a93e-4c7ac04a7bb7",
   "metadata": {},
   "outputs": [],
   "source": [
    "data = open(\"../inputs/day-02\").read().splitlines()"
   ]
  },
  {
   "cell_type": "code",
   "execution_count": 2,
   "id": "6dd7561c-2b7f-4eff-a690-042d42f6f717",
   "metadata": {},
   "outputs": [],
   "source": [
    "score = 0"
   ]
  },
  {
   "cell_type": "code",
   "execution_count": 3,
   "id": "53b1bf53-2a19-41f2-999c-42ab3eca282a",
   "metadata": {},
   "outputs": [],
   "source": [
    "my_hand = {'X': 1, 'Y':2, 'Z': 3}\n",
    "winning = {('A','Y'),('B','Z'),('C','X')}\n",
    "draw = {('A', 'X'), ('B', 'Y'), ('C', 'Z')}"
   ]
  },
  {
   "cell_type": "code",
   "execution_count": 4,
   "id": "fd37adaf-283a-4e67-8bb6-04d6cc088dda",
   "metadata": {},
   "outputs": [],
   "source": [
    "for match in data:\n",
    "    frst, scnd = match.split(' ')\n",
    "    score += my_hand[scnd]\n",
    "    \n",
    "    if (frst, scnd) in draw:\n",
    "        score += 3\n",
    "    elif (frst,scnd) in winning:\n",
    "        score += 6"
   ]
  },
  {
   "cell_type": "code",
   "execution_count": 5,
   "id": "f6247593-b6ea-42ba-a635-792d4c112116",
   "metadata": {},
   "outputs": [
    {
     "name": "stdout",
     "output_type": "stream",
     "text": [
      "11449\n"
     ]
    }
   ],
   "source": [
    "print(score)"
   ]
  },
  {
   "cell_type": "markdown",
   "id": "f604a0fd-15d9-445b-a86e-48daa225b8cb",
   "metadata": {},
   "source": [
    "------"
   ]
  },
  {
   "cell_type": "code",
   "execution_count": 6,
   "id": "8d4f9412-107d-4e32-a094-2dcab229cc05",
   "metadata": {},
   "outputs": [],
   "source": [
    "score = 0"
   ]
  },
  {
   "cell_type": "code",
   "execution_count": 7,
   "id": "3e7f7123-32ec-43fb-9c3a-e2c446c83adf",
   "metadata": {},
   "outputs": [],
   "source": [
    "perms = {'B' :(1,2,3), 'C': (2,3,1), 'A': (3,1,2)}\n",
    "place = dict(zip([\"X\",\"Y\",\"Z\"], range(3)))\n",
    "round_s = {'X': 0, 'Y':3, 'Z': 6}"
   ]
  },
  {
   "cell_type": "code",
   "execution_count": 8,
   "id": "12d4a821-2f56-45ad-86c4-97c5e654961a",
   "metadata": {},
   "outputs": [],
   "source": [
    "for match in data:\n",
    "    frst, scnd = match.split(' ')\n",
    "    score += round_s[scnd]\n",
    "    score += perms[frst][place[scnd]]"
   ]
  },
  {
   "cell_type": "code",
   "execution_count": 9,
   "id": "5d0f3063-03e6-429e-a788-2daaca55a2cb",
   "metadata": {},
   "outputs": [
    {
     "name": "stdout",
     "output_type": "stream",
     "text": [
      "13187\n"
     ]
    }
   ],
   "source": [
    "print(score)"
   ]
  },
  {
   "cell_type": "code",
   "execution_count": null,
   "id": "d3809384-91fa-494c-84c3-6bd45aa8402d",
   "metadata": {},
   "outputs": [],
   "source": []
  }
 ],
 "metadata": {
  "kernelspec": {
   "display_name": "Python 3 (ipykernel)",
   "language": "python",
   "name": "python3"
  },
  "language_info": {
   "codemirror_mode": {
    "name": "ipython",
    "version": 3
   },
   "file_extension": ".py",
   "mimetype": "text/x-python",
   "name": "python",
   "nbconvert_exporter": "python",
   "pygments_lexer": "ipython3",
   "version": "3.9.15"
  }
 },
 "nbformat": 4,
 "nbformat_minor": 5
}
