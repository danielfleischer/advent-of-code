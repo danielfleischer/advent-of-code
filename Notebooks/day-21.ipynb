{
 "cells": [
  {
   "cell_type": "code",
   "execution_count": 1,
   "id": "dbd417c7-11a9-4faf-9e21-6c70fb911d2d",
   "metadata": {},
   "outputs": [],
   "source": [
    "data = open(\"../inputs/day-21\").read().splitlines()"
   ]
  },
  {
   "cell_type": "code",
   "execution_count": 2,
   "id": "5f20e4ea-803e-4714-a66f-11f43e21a3c7",
   "metadata": {},
   "outputs": [],
   "source": [
    "import re"
   ]
  },
  {
   "cell_type": "code",
   "execution_count": 3,
   "id": "c2cfc861-d350-4b8d-8f45-91df3b30ff73",
   "metadata": {},
   "outputs": [],
   "source": [
    "monkeys = {}\n",
    "for l in data:\n",
    "    (name,) = re.match(r\"(\\w+): *\", l).groups([1])\n",
    "    action = re.match(r\".* (\\w+) ([\\*+-/]) (\\w+)\", l)\n",
    "    if action:\n",
    "        m1, op, m2 = action.groups([1,2,3])\n",
    "        monkeys[name] = [m1, m2, op]\n",
    "    else:\n",
    "        (res,) = re.match(r\".*: (\\w+)\", l).groups([1])\n",
    "        monkeys[name] = int(res)"
   ]
  },
  {
   "cell_type": "code",
   "execution_count": 4,
   "id": "776afe59-98af-466c-8842-0c2b8cb1c291",
   "metadata": {},
   "outputs": [],
   "source": [
    "def dfs(name):\n",
    "    store = monkeys[name]\n",
    "    if type(store) is int:\n",
    "        return store\n",
    "    \n",
    "    m1, m2, op = store\n",
    "    n1 = dfs(m1)\n",
    "    n2 = dfs(m2)\n",
    "    \n",
    "    return n1 + n2 if op == '+' else n1 - n2 if op == '-' else n1 / n2 if op == '/' else n1 * n2"
   ]
  },
  {
   "cell_type": "code",
   "execution_count": 5,
   "id": "5d131b95-f384-4047-906f-d92d47cf036f",
   "metadata": {},
   "outputs": [
    {
     "data": {
      "text/plain": [
       "110181395003396.0"
      ]
     },
     "execution_count": 5,
     "metadata": {},
     "output_type": "execute_result"
    }
   ],
   "source": [
    "dfs('root')"
   ]
  },
  {
   "cell_type": "markdown",
   "id": "ddadb464-bd29-4146-91bb-c5bd9ec2e024",
   "metadata": {},
   "source": [
    "## Man in the loop"
   ]
  },
  {
   "cell_type": "code",
   "execution_count": 6,
   "id": "6882a415-4f31-4906-8f8a-706e920dae0a",
   "metadata": {},
   "outputs": [],
   "source": [
    "monkeys = {}\n",
    "for l in data:\n",
    "    (name,) = re.match(r\"(\\w+): *\", l).groups([1])\n",
    "    action = re.match(r\".* (\\w+) ([\\*+-/]) (\\w+)\", l)\n",
    "    if action:\n",
    "        m1, op, m2 = action.groups([1,2,3])\n",
    "        monkeys[name] = [m1, m2, op]\n",
    "    else:\n",
    "        (res,) = re.match(r\".*: (\\w+)\", l).groups([1])\n",
    "        monkeys[name] = int(res)"
   ]
  },
  {
   "cell_type": "code",
   "execution_count": 7,
   "id": "2ac478fc-2bf1-4117-8ac5-a1512ea8fdb7",
   "metadata": {},
   "outputs": [
    {
     "data": {
      "text/plain": [
       "['humn: 927', 'cpgd: humn - mplb']"
      ]
     },
     "execution_count": 7,
     "metadata": {},
     "output_type": "execute_result"
    }
   ],
   "source": [
    "[l for l in data if 'humn' in l]"
   ]
  },
  {
   "cell_type": "code",
   "execution_count": 8,
   "id": "071000d7-618e-4df8-a620-92f8d39d6052",
   "metadata": {},
   "outputs": [
    {
     "data": {
      "text/plain": [
       "['root: tlpd + jjmw']"
      ]
     },
     "execution_count": 8,
     "metadata": {},
     "output_type": "execute_result"
    }
   ],
   "source": [
    "[l for l in data if 'root' in l]"
   ]
  },
  {
   "cell_type": "code",
   "execution_count": 9,
   "id": "1db1ffa5-3c42-4a80-9c91-ee89a64e8b0f",
   "metadata": {},
   "outputs": [
    {
     "data": {
      "text/plain": [
       "22931068684876.0"
      ]
     },
     "execution_count": 9,
     "metadata": {},
     "output_type": "execute_result"
    }
   ],
   "source": [
    "dfs('jjmw')"
   ]
  },
  {
   "cell_type": "markdown",
   "id": "008cd08b-0086-402d-8d77-b8793d15be5d",
   "metadata": {},
   "source": [
    "It means `tlpd` = 22931068684876"
   ]
  },
  {
   "cell_type": "code",
   "execution_count": 10,
   "id": "d17a8211-fdad-4572-bb20-5f01099edb8e",
   "metadata": {},
   "outputs": [],
   "source": [
    "import operator"
   ]
  },
  {
   "cell_type": "code",
   "execution_count": 11,
   "id": "8d0966de-5327-4676-9296-44782b82b17c",
   "metadata": {},
   "outputs": [],
   "source": [
    "reverse_tree = {'tlpd': 22931068684876}"
   ]
  },
  {
   "cell_type": "code",
   "execution_count": 12,
   "id": "e7d83848-0f7c-4f21-ab11-64d07ac0060c",
   "metadata": {},
   "outputs": [],
   "source": [
    "def reverse(node):\n",
    "    global reverse_tree\n",
    "\n",
    "    if node == 'humn':\n",
    "        return\n",
    "\n",
    "    store = monkeys[node]\n",
    "\n",
    "    if type(store) in [int, float]:\n",
    "        return store\n",
    "\n",
    "    m1, m2, op = store\n",
    "\n",
    "    left = reverse(m1)\n",
    "    right = reverse(m2)\n",
    "    \n",
    "    opr = operator.add if op == '+' else operator.sub if op == '-' else operator.mul if op == '*' else operator.truediv\n",
    "    \n",
    "    if type(left) in [int, float] and type(right) in [int, float]:\n",
    "        return opr(left, right)\n",
    "\n",
    "    top = node\n",
    "    \n",
    "    if type(left) in [int, float]:\n",
    "        if op == '+':\n",
    "            reverse_tree[m2] = [top , left, '-']\n",
    "        elif op == '-':\n",
    "            reverse_tree[m2] = [left, top, '-']\n",
    "        elif op == '*':\n",
    "            reverse_tree[m2] = [top , left, '/']\n",
    "        elif op == '/':\n",
    "            reverse_tree[m2] = [left, top, '/']\n",
    "\n",
    "    elif type(right) in [int, float]:\n",
    "        if op == '+':\n",
    "            reverse_tree[m1] = [top , right, '-']\n",
    "        elif op == '-':\n",
    "            reverse_tree[m1] = [top, right, '+']\n",
    "        elif op == '*':\n",
    "            reverse_tree[m1] = [top, right, '/']\n",
    "        elif op == '/':\n",
    "            reverse_tree[m1] = [top, right, '*']"
   ]
  },
  {
   "cell_type": "code",
   "execution_count": 13,
   "id": "acbc9622-23e9-47eb-91e5-86f624e67034",
   "metadata": {},
   "outputs": [],
   "source": [
    "reverse('tlpd')"
   ]
  },
  {
   "cell_type": "code",
   "execution_count": 14,
   "id": "34a7efdb-89c1-4893-bd78-90da65eaa501",
   "metadata": {},
   "outputs": [],
   "source": [
    "def dfs2(name):\n",
    "    store = reverse_tree[name]\n",
    "    if type(store) in [int, float]:\n",
    "        return store\n",
    "    \n",
    "    m1, m2, op = store\n",
    "    n1 = dfs2(m1) if type(m1) == str else m1\n",
    "    n2 = dfs2(m2) if type(m2) == str else m2\n",
    "    \n",
    "    return n1 + n2 if op == '+' else n1 - n2 if op == '-' else n1 / n2 if op == '/' else n1 * n2"
   ]
  },
  {
   "cell_type": "code",
   "execution_count": 15,
   "id": "f51c8170-430d-4f89-9a57-d688bbdcc84f",
   "metadata": {},
   "outputs": [
    {
     "data": {
      "text/plain": [
       "3721298272959.0"
      ]
     },
     "execution_count": 15,
     "metadata": {},
     "output_type": "execute_result"
    }
   ],
   "source": [
    "dfs2('humn')"
   ]
  },
  {
   "cell_type": "code",
   "execution_count": null,
   "id": "6f51d36a-cea7-4b11-9e2f-d25342702be2",
   "metadata": {},
   "outputs": [],
   "source": []
  },
  {
   "cell_type": "code",
   "execution_count": null,
   "id": "29fd273d-1cd7-4d9e-8084-29c16f35d69b",
   "metadata": {},
   "outputs": [],
   "source": []
  }
 ],
 "metadata": {
  "kernelspec": {
   "display_name": "Python 3 (ipykernel)",
   "language": "python",
   "name": "python3"
  },
  "language_info": {
   "codemirror_mode": {
    "name": "ipython",
    "version": 3
   },
   "file_extension": ".py",
   "mimetype": "text/x-python",
   "name": "python",
   "nbconvert_exporter": "python",
   "pygments_lexer": "ipython3",
   "version": "3.9.16"
  }
 },
 "nbformat": 4,
 "nbformat_minor": 5
}
