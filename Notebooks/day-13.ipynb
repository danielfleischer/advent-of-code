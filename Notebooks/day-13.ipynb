{
 "cells": [
  {
   "cell_type": "code",
   "execution_count": 1,
   "id": "0ea79175-e9ab-4fa2-9c5e-3beeb70ef87d",
   "metadata": {},
   "outputs": [],
   "source": [
    "raw = open(\"../inputs/day-13\").read().splitlines()"
   ]
  },
  {
   "cell_type": "code",
   "execution_count": 2,
   "id": "a78c95f9-6df9-43b0-adcb-a314cfdd42c8",
   "metadata": {},
   "outputs": [],
   "source": [
    "data = []"
   ]
  },
  {
   "cell_type": "code",
   "execution_count": 3,
   "id": "b4347cbd-6e84-4ffd-893f-3940be5eb740",
   "metadata": {},
   "outputs": [],
   "source": [
    "for i in range(0, len(raw),3):\n",
    "    obj = [eval(raw[i]), eval(raw[i+1])]\n",
    "    data.append(obj)"
   ]
  },
  {
   "cell_type": "code",
   "execution_count": 4,
   "id": "1ff1f1e1-dd31-490c-9ddf-e16bcb6b2170",
   "metadata": {},
   "outputs": [],
   "source": [
    "def compare(x,y):\n",
    "    if x == y:\n",
    "        return \"cont\"\n",
    "    if type(x) == type(y) == int:\n",
    "        if x < y:\n",
    "            return True\n",
    "        elif x == y:\n",
    "            return \"cont\"\n",
    "        else:\n",
    "            return False\n",
    "    if type(x) == type(y) == list:\n",
    "        if x == []:\n",
    "            return True\n",
    "        if y == []:\n",
    "            return False\n",
    "        res = compare(x[0], y[0])\n",
    "        if res == \"cont\":\n",
    "            return compare(x[1:], y[1:])\n",
    "        return res\n",
    "    if type(x) == int:\n",
    "        return compare([x],y)\n",
    "    if type(y) == int:\n",
    "        return compare(x,[y])\n",
    "    raise ValueError(f\"What is this: {x} {y}\")\n",
    "        "
   ]
  },
  {
   "cell_type": "code",
   "execution_count": 5,
   "id": "bf73174d-e1b4-484c-8354-7cb6a467fb72",
   "metadata": {},
   "outputs": [],
   "source": [
    "def test(i):\n",
    "    return compare(data[i][0], data[i][1])"
   ]
  },
  {
   "cell_type": "code",
   "execution_count": 6,
   "id": "46d7e01a-43e9-45eb-815d-b7b3b35bf148",
   "metadata": {},
   "outputs": [
    {
     "data": {
      "text/plain": [
       "6235"
      ]
     },
     "execution_count": 6,
     "metadata": {},
     "output_type": "execute_result"
    }
   ],
   "source": [
    "sum([i+1 for i in range(len(data)) if test(i)])"
   ]
  },
  {
   "cell_type": "markdown",
   "id": "0e3787e0-dc9d-4064-846d-55034be67969",
   "metadata": {},
   "source": [
    "---\n",
    "## Part B"
   ]
  },
  {
   "cell_type": "code",
   "execution_count": 7,
   "id": "71dda3c9-4367-44ce-9e79-391ce5fcd4cf",
   "metadata": {},
   "outputs": [],
   "source": [
    "data = [eval(row) for row in raw if row != '']"
   ]
  },
  {
   "cell_type": "code",
   "execution_count": 8,
   "id": "542f47fb-3481-483f-9ec1-d4e2d2fb8b4e",
   "metadata": {},
   "outputs": [],
   "source": [
    "data += [[[2]], [[6]]]"
   ]
  },
  {
   "cell_type": "code",
   "execution_count": 9,
   "id": "5e9ed9af-3ade-476c-8fbe-613adc7c036d",
   "metadata": {},
   "outputs": [],
   "source": [
    "assert len(data) == 302"
   ]
  },
  {
   "cell_type": "code",
   "execution_count": 10,
   "id": "13126884-3478-4f03-a1ed-b7f7f4068b19",
   "metadata": {},
   "outputs": [],
   "source": [
    "from functools import cmp_to_key"
   ]
  },
  {
   "cell_type": "code",
   "execution_count": 11,
   "id": "6910c406-9e12-49cf-bdf4-2e1cf7d26c21",
   "metadata": {},
   "outputs": [],
   "source": [
    "def comparatoric(x,y):\n",
    "    return -1 if compare(x,y) else 1"
   ]
  },
  {
   "cell_type": "code",
   "execution_count": 12,
   "id": "0c482d0f-ce38-4c31-b9e7-936ab70885c6",
   "metadata": {},
   "outputs": [],
   "source": [
    "data.sort(key=cmp_to_key(comparatoric))"
   ]
  },
  {
   "cell_type": "code",
   "execution_count": 13,
   "id": "456fdfdb-bff2-48ca-af0c-0e6a1b1d2802",
   "metadata": {},
   "outputs": [
    {
     "data": {
      "text/plain": [
       "22866"
      ]
     },
     "execution_count": 13,
     "metadata": {},
     "output_type": "execute_result"
    }
   ],
   "source": [
    "(data.index([[2]]) + 1) * (data.index([[6]]) + 1)"
   ]
  },
  {
   "cell_type": "code",
   "execution_count": null,
   "id": "ab1bde70-2154-45ac-af66-7ae2ba95ae40",
   "metadata": {},
   "outputs": [],
   "source": []
  }
 ],
 "metadata": {
  "kernelspec": {
   "display_name": "Python 3 (ipykernel)",
   "language": "python",
   "name": "python3"
  },
  "language_info": {
   "codemirror_mode": {
    "name": "ipython",
    "version": 3
   },
   "file_extension": ".py",
   "mimetype": "text/x-python",
   "name": "python",
   "nbconvert_exporter": "python",
   "pygments_lexer": "ipython3",
   "version": "3.9.16"
  }
 },
 "nbformat": 4,
 "nbformat_minor": 5
}
