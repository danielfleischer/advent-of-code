{
 "cells": [
  {
   "cell_type": "markdown",
   "metadata": {},
   "source": [
    "Target area:"
   ]
  },
  {
   "cell_type": "markdown",
   "metadata": {},
   "source": [
    "x=253..280, y=-73..-46"
   ]
  },
  {
   "cell_type": "markdown",
   "metadata": {},
   "source": [
    "Example: x=20..30, y=-10..-5"
   ]
  },
  {
   "cell_type": "code",
   "execution_count": 1,
   "metadata": {},
   "outputs": [],
   "source": [
    "def step(x, y, vx, vy):\n",
    "    x += vx\n",
    "    y += vy\n",
    "    if vx > 0:\n",
    "        vx -= 1\n",
    "    elif vx < 0:\n",
    "        vx += 1\n",
    "    vy -= 1\n",
    "    \n",
    "    return x, y, vx, vy"
   ]
  },
  {
   "cell_type": "code",
   "execution_count": 2,
   "metadata": {},
   "outputs": [],
   "source": [
    "def target(x,y):\n",
    "    if 253 <= x <= 280 and -73 <= y <= -46:\n",
    "        return 1\n",
    "    elif x > 280 or y < -73:\n",
    "        return -1\n",
    "    else:\n",
    "        return 0"
   ]
  },
  {
   "cell_type": "code",
   "execution_count": 3,
   "metadata": {},
   "outputs": [],
   "source": [
    "good_v = []\n",
    "for _vx in range(5,300):\n",
    "    for _vy in range(5,200):\n",
    "        x,y = 0,0\n",
    "        vx,vy = _vx, _vy\n",
    "        while (t:=target(x,y)) >= 0:\n",
    "            x,y,vx,vy = step(x,y,vx, vy)\n",
    "            if t == 1:\n",
    "                good_v.append((_vx,_vy))"
   ]
  },
  {
   "cell_type": "code",
   "execution_count": 4,
   "metadata": {},
   "outputs": [],
   "source": [
    "high_y = 0\n",
    "high_vy = []\n",
    "for (vx,_vy) in good_v:\n",
    "    x,y = 0,0\n",
    "    vy = _vy\n",
    "    while vy != 0:\n",
    "        x,y,vx,vy = step(x,y,vx, vy)\n",
    "    if y > high_y:\n",
    "        high_y = y\n",
    "        high_vy.append(_vy)"
   ]
  },
  {
   "cell_type": "code",
   "execution_count": 5,
   "metadata": {},
   "outputs": [
    {
     "name": "stdout",
     "output_type": "stream",
     "text": [
      "Highest y: 2628, at velocity of 72\n"
     ]
    }
   ],
   "source": [
    "print(\"Highest y: {}, at velocity of {}\".format(high_y, high_vy[-1]))"
   ]
  },
  {
   "cell_type": "markdown",
   "metadata": {},
   "source": [
    "### Intuition for the guessing\n",
    "in terms of Vx, we need it positive (it doesn't change sign) at we can do it in one step so the maximum value is 280. For Vy, we showed the the max Vy is 72 (highest y value), and similarly to X, we can do it in one step by having Vy=-73."
   ]
  },
  {
   "cell_type": "code",
   "execution_count": 6,
   "metadata": {},
   "outputs": [],
   "source": [
    "good_v = []\n",
    "for _vx in range(1,281):\n",
    "    for _vy in range(-73,73):\n",
    "        x,y = 0,0\n",
    "        vx,vy = _vx, _vy\n",
    "        while (t:=target(x,y)) == 0:\n",
    "            x,y,vx,vy = step(x,y,vx, vy)\n",
    "        if t == 1:\n",
    "            good_v.append((_vx,_vy))"
   ]
  },
  {
   "cell_type": "code",
   "execution_count": 7,
   "metadata": {},
   "outputs": [
    {
     "data": {
      "text/plain": [
       "1334"
      ]
     },
     "execution_count": 7,
     "metadata": {},
     "output_type": "execute_result"
    }
   ],
   "source": [
    "len(good_v)"
   ]
  },
  {
   "cell_type": "code",
   "execution_count": null,
   "metadata": {},
   "outputs": [],
   "source": []
  }
 ],
 "metadata": {
  "kernelspec": {
   "display_name": "Python 3",
   "language": "python",
   "name": "python3"
  },
  "language_info": {
   "codemirror_mode": {
    "name": "ipython",
    "version": 3
   },
   "file_extension": ".py",
   "mimetype": "text/x-python",
   "name": "python",
   "nbconvert_exporter": "python",
   "pygments_lexer": "ipython3",
   "version": "3.9.9"
  }
 },
 "nbformat": 4,
 "nbformat_minor": 4
}
