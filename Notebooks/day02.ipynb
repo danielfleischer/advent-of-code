{
 "cells": [
  {
   "cell_type": "code",
   "execution_count": 1,
   "metadata": {},
   "outputs": [],
   "source": [
    "data = open('../inputs/input-day2').read().splitlines()"
   ]
  },
  {
   "cell_type": "code",
   "execution_count": 2,
   "metadata": {},
   "outputs": [],
   "source": [
    "x, y = 0, 0"
   ]
  },
  {
   "cell_type": "markdown",
   "metadata": {},
   "source": [
    "Task 1: Simple navigation:"
   ]
  },
  {
   "cell_type": "code",
   "execution_count": 3,
   "metadata": {},
   "outputs": [],
   "source": [
    "for label in data:\n",
    "    label, amount = label.split(' ')\n",
    "    amount = int(amount)\n",
    "    if label == 'forward':\n",
    "        x += amount\n",
    "    elif label == 'down':\n",
    "        y += amount\n",
    "    elif label == 'up':\n",
    "        y -= amount"
   ]
  },
  {
   "cell_type": "code",
   "execution_count": 4,
   "metadata": {},
   "outputs": [
    {
     "name": "stdout",
     "output_type": "stream",
     "text": [
      "x=1832, y=1172, x*y=2147104\n"
     ]
    }
   ],
   "source": [
    "print(f\"{x=}, {y=}, {x*y=}\")"
   ]
  },
  {
   "cell_type": "markdown",
   "metadata": {},
   "source": [
    "---------\n",
    "Task 2: Using aim"
   ]
  },
  {
   "cell_type": "code",
   "execution_count": 5,
   "metadata": {},
   "outputs": [],
   "source": [
    "x, y, aim = 0, 0, 0"
   ]
  },
  {
   "cell_type": "code",
   "execution_count": 6,
   "metadata": {},
   "outputs": [],
   "source": [
    "for label in data:\n",
    "    amount = int(label.split(' ')[1])\n",
    "    if 'forward' in label:\n",
    "        x += amount\n",
    "        y += aim * amount\n",
    "    if 'down' in label:\n",
    "        aim += amount\n",
    "    if 'up' in label:\n",
    "        aim -= amount"
   ]
  },
  {
   "cell_type": "code",
   "execution_count": 7,
   "metadata": {},
   "outputs": [
    {
     "name": "stdout",
     "output_type": "stream",
     "text": [
      "aim=1172, x=1832, y=1116059, x*y=2044620088\n"
     ]
    }
   ],
   "source": [
    "print(f\"{aim=}, {x=}, {y=}, {x*y=}\")"
   ]
  },
  {
   "cell_type": "code",
   "execution_count": null,
   "metadata": {},
   "outputs": [],
   "source": []
  }
 ],
 "metadata": {
  "kernelspec": {
   "display_name": "Python 3",
   "language": "python",
   "name": "python3"
  },
  "language_info": {
   "codemirror_mode": {
    "name": "ipython",
    "version": 3
   },
   "file_extension": ".py",
   "mimetype": "text/x-python",
   "name": "python",
   "nbconvert_exporter": "python",
   "pygments_lexer": "ipython3",
   "version": "3.9.9"
  }
 },
 "nbformat": 4,
 "nbformat_minor": 4
}
