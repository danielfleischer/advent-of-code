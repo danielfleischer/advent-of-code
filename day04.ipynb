{
 "cells": [
  {
   "cell_type": "code",
   "execution_count": 1,
   "metadata": {},
   "outputs": [],
   "source": [
    "import numpy as np"
   ]
  },
  {
   "cell_type": "code",
   "execution_count": 2,
   "metadata": {},
   "outputs": [],
   "source": [
    "data = open('input-day4').read().splitlines()\n",
    "numbers = list(map(int, data[0].split(',')))\n",
    "data = data[1:]"
   ]
  },
  {
   "cell_type": "code",
   "execution_count": 3,
   "metadata": {},
   "outputs": [],
   "source": [
    "def initialize():\n",
    "    boards = []\n",
    "    for i in range(len(data) // 6):\n",
    "        mini = data[6*i + 1 : 6*i + 6]\n",
    "        tmp = [list(map(int, filter(lambda x: x.isdecimal(), j.split(' ')))) for j in mini]\n",
    "        boards.append(np.array(tmp))\n",
    "    boards = np.stack(boards)\n",
    "    return boards"
   ]
  },
  {
   "cell_type": "markdown",
   "metadata": {},
   "source": [
    "--------"
   ]
  },
  {
   "cell_type": "markdown",
   "metadata": {},
   "source": [
    "First task:"
   ]
  },
  {
   "cell_type": "code",
   "execution_count": 4,
   "metadata": {},
   "outputs": [],
   "source": [
    "boards = initialize()"
   ]
  },
  {
   "cell_type": "code",
   "execution_count": 5,
   "metadata": {},
   "outputs": [],
   "source": [
    "def score_won():\n",
    "    row = np.argwhere(boards.sum(axis=2) == 0)\n",
    "    if len(row) > 0:\n",
    "        return boards[row[0][0]].sum()\n",
    "    \n",
    "    column = np.argwhere(boards.sum(axis=1) == 0)\n",
    "    if len(column) > 0:\n",
    "        return boards[column[0][0]].sum()"
   ]
  },
  {
   "cell_type": "code",
   "execution_count": 6,
   "metadata": {},
   "outputs": [
    {
     "name": "stdout",
     "output_type": "stream",
     "text": [
      "5685\n"
     ]
    }
   ],
   "source": [
    "for num in numbers:\n",
    "    boards[boards == num] = 0\n",
    "    score = score_won()\n",
    "    if score:\n",
    "        print(score * num)\n",
    "        break"
   ]
  },
  {
   "cell_type": "markdown",
   "metadata": {},
   "source": [
    "------"
   ]
  },
  {
   "cell_type": "markdown",
   "metadata": {},
   "source": [
    "Second task:"
   ]
  },
  {
   "cell_type": "code",
   "execution_count": 7,
   "metadata": {},
   "outputs": [],
   "source": [
    "boards = initialize()"
   ]
  },
  {
   "cell_type": "code",
   "execution_count": 8,
   "metadata": {},
   "outputs": [],
   "source": [
    "def who_won():\n",
    "    row = np.argwhere(boards.sum(axis=2) == 0)\n",
    "    column = np.argwhere(boards.sum(axis=1) == 0)\n",
    "    \n",
    "    return row, column"
   ]
  },
  {
   "cell_type": "code",
   "execution_count": 9,
   "metadata": {},
   "outputs": [],
   "source": [
    "winning_boards = set()"
   ]
  },
  {
   "cell_type": "code",
   "execution_count": 10,
   "metadata": {},
   "outputs": [],
   "source": [
    "for num in numbers:\n",
    "    boards[boards == num] = 0\n",
    "    winning = who_won()\n",
    "    for r in winning[0]:\n",
    "        winning_boards.add(r[0])\n",
    "    for c in winning[1]:\n",
    "        winning_boards.add(c[0])\n",
    "    if len(winning_boards) == 99:\n",
    "        break"
   ]
  },
  {
   "cell_type": "code",
   "execution_count": 11,
   "metadata": {},
   "outputs": [
    {
     "data": {
      "text/plain": [
       "{72}"
      ]
     },
     "execution_count": 11,
     "metadata": {},
     "output_type": "execute_result"
    }
   ],
   "source": [
    "set(range(len(boards))) - winning_boards"
   ]
  },
  {
   "cell_type": "code",
   "execution_count": 12,
   "metadata": {},
   "outputs": [],
   "source": [
    "w_board = boards[72]"
   ]
  },
  {
   "cell_type": "code",
   "execution_count": 13,
   "metadata": {},
   "outputs": [
    {
     "name": "stdout",
     "output_type": "stream",
     "text": [
      "21070\n"
     ]
    }
   ],
   "source": [
    "for num in numbers:\n",
    "    w_board[w_board == num] = 0\n",
    "    if (w_board.sum(0) == 0).any() or (w_board.sum(1) == 0).any():\n",
    "        print(w_board.sum() * num)\n",
    "        break"
   ]
  },
  {
   "cell_type": "code",
   "execution_count": null,
   "metadata": {},
   "outputs": [],
   "source": []
  }
 ],
 "metadata": {
  "kernelspec": {
   "display_name": "Python 3",
   "language": "python",
   "name": "python3"
  },
  "language_info": {
   "codemirror_mode": {
    "name": "ipython",
    "version": 3
   },
   "file_extension": ".py",
   "mimetype": "text/x-python",
   "name": "python",
   "nbconvert_exporter": "python",
   "pygments_lexer": "ipython3",
   "version": "3.9.9"
  }
 },
 "nbformat": 4,
 "nbformat_minor": 4
}
