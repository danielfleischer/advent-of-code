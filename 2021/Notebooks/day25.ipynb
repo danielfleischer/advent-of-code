{
 "cells": [
  {
   "cell_type": "code",
   "execution_count": 1,
   "id": "e6e7179e-7c45-4e7d-85b2-3b90285c1530",
   "metadata": {},
   "outputs": [],
   "source": [
    "import numpy as np"
   ]
  },
  {
   "cell_type": "code",
   "execution_count": 2,
   "id": "1e3b5ecf-0dcd-4ee0-abb0-18e024029b02",
   "metadata": {},
   "outputs": [],
   "source": [
    "data = open('../inputs/input-day25').read().splitlines()"
   ]
  },
  {
   "cell_type": "markdown",
   "id": "ab917822-9f78-4d68-be18-0d3c301502ae",
   "metadata": {},
   "source": [
    ". = 0, > = 1, v = 2"
   ]
  },
  {
   "cell_type": "code",
   "execution_count": 3,
   "id": "7434dae7-0c58-4836-a436-2f444d5f4fd8",
   "metadata": {},
   "outputs": [],
   "source": [
    "arr = []\n",
    "for line in data:\n",
    "    line = line.replace('.','0').replace('>','1').replace('v','2')\n",
    "    arr.append(np.array([int(l) for l in line]))"
   ]
  },
  {
   "cell_type": "code",
   "execution_count": 4,
   "id": "709a9b0a-c4a7-4329-ad84-a457a51fe10f",
   "metadata": {},
   "outputs": [],
   "source": [
    "arr = np.vstack(arr)"
   ]
  },
  {
   "cell_type": "markdown",
   "id": "1810e76d-e9b9-4a27-8075-e0d7f4feb915",
   "metadata": {},
   "source": [
    "------\n",
    "### Task 1"
   ]
  },
  {
   "cell_type": "code",
   "execution_count": 5,
   "id": "f35baf26-a188-4ab1-8542-d4413c758ca6",
   "metadata": {},
   "outputs": [],
   "source": [
    "def step(arr_orig):\n",
    "    # East\n",
    "    arr = np.copy(arr_orig)\n",
    "    arr = np.pad(arr, 1, mode='wrap')\n",
    "    for i in range(1, arr.shape[0] - 1):\n",
    "        for j in range(1, arr.shape[1] - 1):\n",
    "            if arr[i,j] == 1:\n",
    "                if arr[i,j+1] == 0:\n",
    "                    arr[i,j] = 0\n",
    "                    if j + 1 == arr.shape[1] - 1:\n",
    "                        arr[i,1] = 10\n",
    "                    else:\n",
    "                        arr[i,j+1] = 10\n",
    "    # South\n",
    "    arr = np.pad(arr[1:-1,1:-1], 1, mode='wrap')\n",
    "    for i in range(1, arr.shape[0] - 1):\n",
    "        for j in range(1, arr.shape[1] - 1):\n",
    "            if arr[i,j] == 2:\n",
    "                if arr[i+1,j] == 0:\n",
    "                    arr[i,j] = 0\n",
    "                    if i + 1 == arr.shape[0] - 1:\n",
    "                        arr[1,j] = 20\n",
    "                    else:\n",
    "                        arr[i+1,j] = 20\n",
    "    arr[arr == 10] = 1\n",
    "    arr[arr == 20] = 2\n",
    "    return arr[1:-1, 1:-1]"
   ]
  },
  {
   "cell_type": "code",
   "execution_count": 6,
   "id": "d9ecd537-1927-4047-a9dc-f564b9c46873",
   "metadata": {},
   "outputs": [
    {
     "name": "stdout",
     "output_type": "stream",
     "text": [
      "432\n"
     ]
    }
   ],
   "source": [
    "for i in range(1,1000):\n",
    "    arr2 = step(arr)\n",
    "    if (arr2 == arr).all():\n",
    "        print(i)\n",
    "        break\n",
    "    arr = arr2"
   ]
  },
  {
   "cell_type": "code",
   "execution_count": null,
   "id": "819cdace-007f-41ad-af65-f996cc040ed8",
   "metadata": {},
   "outputs": [],
   "source": []
  },
  {
   "cell_type": "code",
   "execution_count": null,
   "id": "550534e6-9016-40a4-b6a4-db7c2409b626",
   "metadata": {},
   "outputs": [],
   "source": []
  },
  {
   "cell_type": "code",
   "execution_count": null,
   "id": "dad95ae5-e261-48a8-91e7-9da80f83e363",
   "metadata": {},
   "outputs": [],
   "source": []
  },
  {
   "cell_type": "code",
   "execution_count": null,
   "id": "c1e6debf-6c0c-4e98-8999-9d987ce649cf",
   "metadata": {},
   "outputs": [],
   "source": []
  }
 ],
 "metadata": {
  "kernelspec": {
   "display_name": "Python 3",
   "language": "python",
   "name": "python3"
  },
  "language_info": {
   "codemirror_mode": {
    "name": "ipython",
    "version": 3
   },
   "file_extension": ".py",
   "mimetype": "text/x-python",
   "name": "python",
   "nbconvert_exporter": "python",
   "pygments_lexer": "ipython3",
   "version": "3.9.9"
  }
 },
 "nbformat": 4,
 "nbformat_minor": 5
}
