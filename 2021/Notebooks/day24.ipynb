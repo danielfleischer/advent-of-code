{
 "cells": [
  {
   "cell_type": "code",
   "execution_count": 1,
   "id": "03340f28-d64a-494d-ab44-7b17e138b11d",
   "metadata": {},
   "outputs": [],
   "source": [
    "data = open('../inputs/input-day24').read().splitlines()"
   ]
  },
  {
   "cell_type": "code",
   "execution_count": 57,
   "id": "c21bf8db-28a6-480d-b5f0-19fbd74acb41",
   "metadata": {},
   "outputs": [],
   "source": [
    "vals = {'w':0, 'x':0, 'y':0, 'z':0}"
   ]
  },
  {
   "cell_type": "code",
   "execution_count": 58,
   "id": "d8aa9c67-bb82-4cdb-a22f-cb83a86e4dcc",
   "metadata": {},
   "outputs": [],
   "source": [
    "def step(num, line, vals):\n",
    "    if 'inp' in line:\n",
    "        vals['w'] = num[0]\n",
    "        num = num[1:]\n",
    "    else:\n",
    "        fun, var1, var2 = line.split(' ')\n",
    "        if fun == 'add':\n",
    "            vals[var1] += vals[var2] if var2.isalpha() else eval(var2)\n",
    "\n",
    "        elif fun == 'mul':\n",
    "            vals[var1] *= vals[var2] if var2.isalpha() else eval(var2)\n",
    "        \n",
    "        elif fun == 'div':\n",
    "            vals[var1] //= vals[var2] if var2.isalpha() else eval(var2)\n",
    "\n",
    "        elif fun == 'mod':\n",
    "            vals[var1] %= vals[var2] if var2.isalpha() else eval(var2)\n",
    "            \n",
    "        else:\n",
    "            vals[var1] = 1 if vals[var1] == (vals[var2] if var2.isalpha() else eval(var2)) else 0\n",
    "    return num"
   ]
  },
  {
   "cell_type": "code",
   "execution_count": 79,
   "id": "36762ad1-906f-4646-98a7-5a1a2cef396e",
   "metadata": {},
   "outputs": [],
   "source": [
    "from sympy import *\n",
    "# w,x,y,z = symbols('w x y z', integer=True)\n",
    "d1, d2, d3, d4, d5, d6, d7, d8, d9, d10, d11, d12, d13, d14 = symbols(\" \".join(['d'+str(i) for i in range(1,15)]), natural=True)"
   ]
  },
  {
   "cell_type": "code",
   "execution_count": 80,
   "id": "2fecf493-f922-4630-8959-4da807f56114",
   "metadata": {},
   "outputs": [],
   "source": [
    "num = [d1, d2, d3, d4, d5, d6, d7, d8, d9, d10, d11, d12, d13, d14]"
   ]
  },
  {
   "cell_type": "code",
   "execution_count": 81,
   "id": "af48e3e3-d5bb-4dca-827e-b568183f456a",
   "metadata": {},
   "outputs": [],
   "source": [
    "vals = {'w':0, 'x':0, 'y':0, 'z':0}"
   ]
  },
  {
   "cell_type": "code",
   "execution_count": 82,
   "id": "2b557ea9-f64b-47fc-b15e-81c0276a9446",
   "metadata": {},
   "outputs": [],
   "source": [
    "for line in data:\n",
    "    num = step(num, line, vals)"
   ]
  },
  {
   "cell_type": "code",
   "execution_count": 83,
   "id": "197170cd-6513-40f7-8c28-a39746d1a30a",
   "metadata": {},
   "outputs": [],
   "source": [
    "eq = vals['z']"
   ]
  },
  {
   "cell_type": "code",
   "execution_count": 84,
   "id": "4930e29a-d711-4f34-8ffb-b12c828514b4",
   "metadata": {},
   "outputs": [
    {
     "name": "stdout",
     "output_type": "stream",
     "text": [
      "d14 + 26*floor(d13/26 + floor(d12/26 + floor(d11/26 + floor(d10/26 + floor(d9/26 + floor(d8 + 26*floor(d7 + 26*floor(d6/26 + floor(d5 + 26*floor(d4/26 + floor(d3 + 26*floor(d2 + 26*floor(d1))) + 135234/13)) + 323/26))) + 1901/13) + 15/26) + 3/26) + 6/13) + 5/13) + 13\n"
     ]
    }
   ],
   "source": [
    "print(eq)"
   ]
  },
  {
   "cell_type": "code",
   "execution_count": 98,
   "id": "74d202cd-bbdb-45dc-8a40-fc19b09d92e4",
   "metadata": {},
   "outputs": [
    {
     "data": {
      "text/latex": [
       "$\\displaystyle \\left\\{d_{12}\\; \\middle|\\; d_{12} \\in \\mathbb{N} \\wedge \\frac{d_{14}}{26} + \\left\\lfloor{\\frac{d_{13}}{26} + \\left\\lfloor{\\frac{d_{12}}{26} + \\left\\lfloor{\\frac{d_{11}}{26} + \\left\\lfloor{\\frac{d_{10}}{26} + \\left\\lfloor{\\frac{d_{9}}{26} + \\frac{3822565360}{13}}\\right\\rfloor + \\frac{15}{26}}\\right\\rfloor + \\frac{3}{26}}\\right\\rfloor + \\frac{6}{13}}\\right\\rfloor + \\frac{5}{13}}\\right\\rfloor + \\frac{1}{2} = 0 \\right\\}$"
      ],
      "text/plain": [
       "ConditionSet(d12, Eq(d14/26 + floor(d13/26 + floor(d12/26 + floor(d11/26 + floor(d10/26 + floor(d9/26 + 3822565360/13) + 15/26) + 3/26) + 6/13) + 5/13) + 1/2, 0), Naturals)"
      ]
     },
     "execution_count": 98,
     "metadata": {},
     "output_type": "execute_result"
    }
   ],
   "source": [
    "solveset(eq.subs(d1,9).subs(d2,9).subs(d3,9).subs(d4,9).subs(d5,9).subs(d6,9).subs(d7,9).subs(d8,9), d12, domain=S.Naturals)"
   ]
  },
  {
   "cell_type": "code",
   "execution_count": null,
   "id": "420b0f30-d9c2-4dc1-ab61-ad964696e421",
   "metadata": {},
   "outputs": [],
   "source": []
  },
  {
   "cell_type": "code",
   "execution_count": null,
   "id": "a9e32897-ae63-4d59-bd8b-d5f9099defb9",
   "metadata": {},
   "outputs": [],
   "source": []
  },
  {
   "cell_type": "code",
   "execution_count": null,
   "id": "9a457c50-35d0-4768-a3da-613afebf0872",
   "metadata": {},
   "outputs": [],
   "source": []
  },
  {
   "cell_type": "code",
   "execution_count": 66,
   "id": "6f09f4a5-9177-4b57-805e-73ef19f816f8",
   "metadata": {},
   "outputs": [
    {
     "name": "stdout",
     "output_type": "stream",
     "text": [
      "d14 + 26*floor(d13/26 + floor(d12/26 + floor(d11/26 + floor(d10/26 + floor(d9/26 + floor(d8 + 26*floor(d7 + 26*floor(d6/26 + floor(d5 + 26*floor(d4/26 + floor(d3 + 26*floor(d2 + 26*floor(d1))) + 135234/13)) + 323/26))) + 1901/13) + 15/26) + 3/26) + 6/13) + 5/13) + 13\n"
     ]
    }
   ],
   "source": [
    "print(simplify_logic(eq))"
   ]
  },
  {
   "cell_type": "code",
   "execution_count": 74,
   "id": "1fc61809-a911-4aef-8c80-6b7f0dc00de0",
   "metadata": {},
   "outputs": [],
   "source": [
    "d14 = solveset(eq, d14)"
   ]
  },
  {
   "cell_type": "code",
   "execution_count": 77,
   "id": "bf55e348-8d5b-4eb5-9536-14f2cb34e467",
   "metadata": {},
   "outputs": [
    {
     "name": "stdout",
     "output_type": "stream",
     "text": [
      "d14 + 26*floor(d13/26 + floor(d12/26 + floor(d11/26 + floor(d10/26 + floor(d9/26 + floor(d8 + 26*floor(d7 + 26*floor(d6/26 + floor(d5 + 26*floor(d4/26 + floor(d3 + 26*floor(d2 + 26*floor(d1))) + 135234/13)) + 323/26))) + 1901/13) + 15/26) + 3/26) + 6/13) + 5/13) + 13\n"
     ]
    }
   ],
   "source": [
    "print(eq)"
   ]
  },
  {
   "cell_type": "code",
   "execution_count": 56,
   "id": "5eb09aea-c2e9-43dd-baf2-3b7c94b587c1",
   "metadata": {},
   "outputs": [
    {
     "data": {
      "text/plain": [
       "[(9,\n",
       "  d2,\n",
       "  d3,\n",
       "  d4,\n",
       "  d5,\n",
       "  d6,\n",
       "  d7,\n",
       "  d8,\n",
       "  d9,\n",
       "  d10,\n",
       "  d11,\n",
       "  d12,\n",
       "  d13,\n",
       "  -26*floor(d13/26 + floor(d12/26 + floor(d11/26 + floor(d10/26 + floor(d9/26 + floor(d8 + 26*floor(d7 + 26*floor(d6/26 + floor(d5 + 26*floor(d4/26 + floor(d3 + 26*floor(d2 + 26*floor(d1))) + 135234/13)) + 323/26))) + 1901/13) + 15/26) + 3/26) + 6/13) + 5/13) - 13)]"
      ]
     },
     "execution_count": 56,
     "metadata": {},
     "output_type": "execute_result"
    }
   ],
   "source": [
    "solve(eq, [d1, d2, d3, d4, d5, d6, d7, d8, d9, d10, d11, d12, d13, d14])"
   ]
  },
  {
   "cell_type": "code",
   "execution_count": 42,
   "id": "be142107-01f8-431f-a8e8-9d0d2c42a051",
   "metadata": {},
   "outputs": [
    {
     "name": "stdout",
     "output_type": "stream",
     "text": [
      "d14 + 26*floor(d13/26 + floor(d12/26 + floor(d11/26 + floor(d10/26 + floor(d9/26 + floor(d8 + 26*floor(d7 + 26*floor(d6/26 + floor(d5 + 26*floor(d4/26 + floor(d3 + 26*floor(d2 + 26*floor(d1))) + 135234/13)) + 323/26))) + 1901/13) + 15/26) + 3/26) + 6/13) + 5/13) + 13\n"
     ]
    }
   ],
   "source": [
    "print(eq)"
   ]
  },
  {
   "cell_type": "code",
   "execution_count": 93,
   "id": "1785346f-bc9c-49da-934d-29a9d66696f9",
   "metadata": {},
   "outputs": [
    {
     "data": {
      "text/plain": [
       "{'w': d14,\n",
       " 'x': 1,\n",
       " 'y': d14 + 10,\n",
       " 'z': d14 + 308915776*d2 + 11881376*d3 + 456976*d4 + 17576*d6 + 676*d8 + 26*d9 + 26*floor(d10/26 + 1901/13) + 26*floor(d11/26 + 15/26) + 26*floor(d12/26 + 3/26) + 26*floor(d13/26 + 6/13) + 456976*floor(d5/26 + 135234/13) + 17576*floor(d7/26 + 323/26) + 10}"
      ]
     },
     "execution_count": 93,
     "metadata": {},
     "output_type": "execute_result"
    }
   ],
   "source": [
    "vals"
   ]
  },
  {
   "cell_type": "code",
   "execution_count": 67,
   "id": "a39b767f-49f0-4465-8355-4c0b519df440",
   "metadata": {},
   "outputs": [
    {
     "data": {
      "text/plain": [
       "'0 / (1) * (0 * (0) + (25) * (((0 * (0) + (0) % (26) + (15)) == (d1) == (0) + (1)) + (0 * (0) + (25) * (((0 * (0) + (0) % (26) + (15)) == (d1) == (0) +'"
      ]
     },
     "execution_count": 67,
     "metadata": {},
     "output_type": "execute_result"
    }
   ],
   "source": [
    "vals['z'][:150]"
   ]
  },
  {
   "cell_type": "code",
   "execution_count": 55,
   "id": "e0b30700-c018-4006-9b42-43ed65df1b07",
   "metadata": {},
   "outputs": [
    {
     "data": {
      "text/plain": [
       "['inp w', 'mul x 0', 'add x z', 'mod x 26', 'div z 1']"
      ]
     },
     "execution_count": 55,
     "metadata": {},
     "output_type": "execute_result"
    }
   ],
   "source": [
    "data[:5]"
   ]
  },
  {
   "cell_type": "code",
   "execution_count": 39,
   "id": "a9b5800a-2da9-4776-94cb-47012dbeda9e",
   "metadata": {},
   "outputs": [],
   "source": [
    "num = str(11111111111110)"
   ]
  },
  {
   "cell_type": "code",
   "execution_count": 25,
   "id": "8277caa1-0294-4deb-ac65-ef999a257c11",
   "metadata": {},
   "outputs": [],
   "source": [
    "def step(num, line, vals):\n",
    "    if 'inp' in line:\n",
    "        vals['w'] = num[0]\n",
    "        num = num[1:]\n",
    "    else:\n",
    "        fun, var1, var2 = line.split(' ')\n",
    "        if fun == 'add':\n",
    "            vals[var1] += (vals[var2] if var2.isalpha() else var2)\n",
    "\n",
    "        elif fun == 'mul':\n",
    "            vals[var1] +=  (vals[var2] if var2.isalpha() else var2) + \")\"\n",
    "        \n",
    "        elif fun == 'div':\n",
    "            vals[var1] +=  \" / (\" + (vals[var2] if var2.isalpha() else var2) + \")\"\n",
    "\n",
    "        elif fun == 'mod':\n",
    "            vals[var1] +=  \" % (\" + (vals[var2] if var2.isalpha() else var2) + \")\"\n",
    "            \n",
    "        else:\n",
    "            vals[var1] = \"(\" + vals[var1] + \") == (\" + (vals[var2] if var2.isalpha() else var2)\n",
    "    return num"
   ]
  },
  {
   "cell_type": "code",
   "execution_count": null,
   "id": "6b4d91c1-8d47-4a6f-8fb6-4169411826f4",
   "metadata": {},
   "outputs": [],
   "source": [
    "while True:\n",
    "    num = str(int(num) + 1)\n",
    "    if '0' in num:\n",
    "        continue\n",
    "    t_num = num\n",
    "    vals = {'w':0, 'x':0, 'y':0, 'z':0}\n",
    "    for line in data:\n",
    "        t_num = step(t_num, line, vals)\n",
    "    if vals['z'] == 0:\n",
    "        print(num)\n",
    "        break"
   ]
  },
  {
   "cell_type": "code",
   "execution_count": null,
   "id": "598cd6f9-e640-43ef-aa91-20c40c3d78b9",
   "metadata": {},
   "outputs": [],
   "source": []
  },
  {
   "cell_type": "code",
   "execution_count": null,
   "id": "db1a4ee8-cacc-489e-8220-81bdf49181eb",
   "metadata": {},
   "outputs": [],
   "source": []
  },
  {
   "cell_type": "code",
   "execution_count": null,
   "id": "41358826-850d-43f8-8d71-196594190d61",
   "metadata": {},
   "outputs": [],
   "source": []
  }
 ],
 "metadata": {
  "kernelspec": {
   "display_name": "Python 3",
   "language": "python",
   "name": "python3"
  },
  "language_info": {
   "codemirror_mode": {
    "name": "ipython",
    "version": 3
   },
   "file_extension": ".py",
   "mimetype": "text/x-python",
   "name": "python",
   "nbconvert_exporter": "python",
   "pygments_lexer": "ipython3",
   "version": "3.9.9"
  }
 },
 "nbformat": 4,
 "nbformat_minor": 5
}
