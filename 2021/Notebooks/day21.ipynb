{
 "cells": [
  {
   "cell_type": "raw",
   "id": "2e729f75-f2c2-4961-905e-56168cde1150",
   "metadata": {},
   "source": [
    "Player 1 starting position: 7\n",
    "Player 2 starting position: 9"
   ]
  },
  {
   "cell_type": "code",
   "execution_count": 1,
   "id": "dd055d41-7d2d-4921-a3dc-bb8f61188a9c",
   "metadata": {},
   "outputs": [],
   "source": [
    "import functools\n",
    "from copy import deepcopy\n",
    "import numpy as np"
   ]
  },
  {
   "cell_type": "code",
   "execution_count": 2,
   "id": "cf8faace-d996-4a1a-adbe-1ad71184a0da",
   "metadata": {},
   "outputs": [],
   "source": [
    "class Dice():\n",
    "    def __init__(self):\n",
    "        self.dice = (i for i in range(1,101))\n",
    "\n",
    "    def throw(self):\n",
    "        try:\n",
    "            return next(self.dice)\n",
    "        except:\n",
    "            self.dice = (i for i in range(1,101))\n",
    "            return next(self.dice)"
   ]
  },
  {
   "cell_type": "code",
   "execution_count": 3,
   "id": "ab61c0d6-1b25-4bb4-8430-35c8c7a951d1",
   "metadata": {},
   "outputs": [],
   "source": [
    "def step(pos, amount):\n",
    "    pos += amount\n",
    "    pos %= 10\n",
    "    return 10 if pos == 0 else pos"
   ]
  },
  {
   "cell_type": "code",
   "execution_count": 4,
   "id": "e6309bf5-0dcb-4838-b9f5-2270bfb1002f",
   "metadata": {},
   "outputs": [],
   "source": [
    "scores = [0,0]\n",
    "pos = [7,9]"
   ]
  },
  {
   "cell_type": "code",
   "execution_count": 5,
   "id": "1a5e54eb-62c9-4278-8080-3b0bc5abd3d5",
   "metadata": {},
   "outputs": [],
   "source": [
    "d = Dice()"
   ]
  },
  {
   "cell_type": "code",
   "execution_count": 6,
   "id": "e4a68c0f-d690-46de-8306-b1d3c2c66e1d",
   "metadata": {},
   "outputs": [],
   "source": [
    "total = 0\n",
    "sides = 0\n",
    "while scores[0] < 1000 and scores[1] < 1000:\n",
    "    num = sum(d.throw() for _ in range(3))\n",
    "    pos[sides] = step(pos[sides], num)\n",
    "    scores[sides] += pos[sides]\n",
    "    total += 3\n",
    "    sides ^= 1"
   ]
  },
  {
   "cell_type": "code",
   "execution_count": 7,
   "id": "4c59ea46-a8c6-4099-a33b-51f4ea287424",
   "metadata": {},
   "outputs": [
    {
     "data": {
      "text/plain": [
       "679329"
      ]
     },
     "execution_count": 7,
     "metadata": {},
     "output_type": "execute_result"
    }
   ],
   "source": [
    "min(scores) * total"
   ]
  },
  {
   "cell_type": "markdown",
   "id": "e4de9d0f-dd01-4762-b0a8-92eb13468a1a",
   "metadata": {},
   "source": [
    "-----\n",
    "## Quantum Die"
   ]
  },
  {
   "cell_type": "code",
   "execution_count": 8,
   "id": "e2bce76d-1998-47df-b913-ff156119165f",
   "metadata": {},
   "outputs": [],
   "source": [
    "scores = [0,0]\n",
    "pos = [7,9]"
   ]
  },
  {
   "cell_type": "code",
   "execution_count": 9,
   "id": "d391368b-9745-4437-a4bd-cc0e555e1bcf",
   "metadata": {},
   "outputs": [],
   "source": [
    "steps = []\n",
    "for i in [1,2,3]:\n",
    "    for j in [1,2,3]:\n",
    "        for k in [1,2,3]:\n",
    "            steps.append(i+j+k)"
   ]
  },
  {
   "cell_type": "code",
   "execution_count": 10,
   "id": "e1a77d6d-428d-4202-8d10-8fd5c916f32f",
   "metadata": {},
   "outputs": [],
   "source": [
    "from collections import Counter"
   ]
  },
  {
   "cell_type": "code",
   "execution_count": 11,
   "id": "c2075975-0ea6-426c-9054-2b88e825f3e5",
   "metadata": {},
   "outputs": [],
   "source": [
    "steps = Counter(steps).most_common()"
   ]
  },
  {
   "cell_type": "code",
   "execution_count": 12,
   "id": "1c21ed93-4b94-4f67-8b45-2c25787a7599",
   "metadata": {},
   "outputs": [],
   "source": [
    "def game(pos, scores, sides, factor, wins):\n",
    "    if scores[0] >=21:\n",
    "        wins[0] += factor\n",
    "        return\n",
    "    elif scores[1] >= 21:\n",
    "        wins[1] += factor\n",
    "        return\n",
    "    \n",
    "    for (num, amount) in steps:\n",
    "        pos_ = pos.copy()\n",
    "        scores_ = scores.copy()\n",
    "        pos_[sides] = step(pos_[sides], num)\n",
    "        scores_[sides] += pos_[sides]\n",
    "        game(pos_, scores_, 1-sides, factor * amount, wins)"
   ]
  },
  {
   "cell_type": "code",
   "execution_count": 13,
   "id": "8ff41f4a-f186-44d0-b97d-b53efca30eed",
   "metadata": {},
   "outputs": [],
   "source": [
    "wins = [0,0]"
   ]
  },
  {
   "cell_type": "code",
   "execution_count": 14,
   "id": "7b203ab7-74e3-4f49-9090-b2efbbe3ac1b",
   "metadata": {},
   "outputs": [],
   "source": [
    "game([7,9], [0,0], 0, 1, wins)"
   ]
  },
  {
   "cell_type": "code",
   "execution_count": 15,
   "id": "63d0b5aa-72e8-440d-b56c-e3c44b026753",
   "metadata": {},
   "outputs": [
    {
     "data": {
      "text/plain": [
       "433315766324816"
      ]
     },
     "execution_count": 15,
     "metadata": {},
     "output_type": "execute_result"
    }
   ],
   "source": [
    "max(wins)"
   ]
  },
  {
   "cell_type": "code",
   "execution_count": null,
   "id": "92f50ff0-6fda-4fd8-9653-9f373f7706f2",
   "metadata": {},
   "outputs": [],
   "source": []
  },
  {
   "cell_type": "code",
   "execution_count": null,
   "id": "b68210cb-1771-4036-88b7-2f0afaa6ff7e",
   "metadata": {},
   "outputs": [],
   "source": []
  },
  {
   "cell_type": "code",
   "execution_count": null,
   "id": "f5404c85-d61e-45fe-9e3b-ef266ba339dd",
   "metadata": {},
   "outputs": [],
   "source": []
  }
 ],
 "metadata": {
  "kernelspec": {
   "display_name": "Python 3",
   "language": "python",
   "name": "python3"
  },
  "language_info": {
   "codemirror_mode": {
    "name": "ipython",
    "version": 3
   },
   "file_extension": ".py",
   "mimetype": "text/x-python",
   "name": "python",
   "nbconvert_exporter": "python",
   "pygments_lexer": "ipython3",
   "version": "3.9.9"
  }
 },
 "nbformat": 4,
 "nbformat_minor": 5
}
