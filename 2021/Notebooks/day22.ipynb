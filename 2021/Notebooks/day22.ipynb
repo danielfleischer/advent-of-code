{
 "cells": [
  {
   "cell_type": "code",
   "execution_count": 52,
   "id": "49766cb9-f6e2-40af-8493-f3241fc248ab",
   "metadata": {},
   "outputs": [],
   "source": [
    "import numpy as np"
   ]
  },
  {
   "cell_type": "code",
   "execution_count": 53,
   "id": "12768523-9001-4242-8189-cf1c1256d18d",
   "metadata": {},
   "outputs": [],
   "source": [
    "data = open('../inputs/input-day22').read().splitlines()"
   ]
  },
  {
   "cell_type": "code",
   "execution_count": 37,
   "id": "502c42e1-9a59-4921-82a0-90d777e685fa",
   "metadata": {},
   "outputs": [],
   "source": [
    "init = data[:20]"
   ]
  },
  {
   "cell_type": "code",
   "execution_count": 38,
   "id": "38010ada-5b75-47f3-86d5-b9439c57881a",
   "metadata": {},
   "outputs": [],
   "source": [
    "def parse(line):\n",
    "    order, line = line.split(' ')\n",
    "    ranges = []\n",
    "    for obj in line.split(','):\n",
    "        ranges.append(list(map(lambda x: int(x) + 50,obj[2:].split('..'))))\n",
    "    return (order, ranges)"
   ]
  },
  {
   "cell_type": "code",
   "execution_count": 39,
   "id": "515404a4-ba4d-4c76-b558-64a21f322bb9",
   "metadata": {},
   "outputs": [],
   "source": [
    "init = [parse(l) for l in init]"
   ]
  },
  {
   "cell_type": "code",
   "execution_count": 40,
   "id": "112f5da6-2f45-4a68-9798-40fa8d769802",
   "metadata": {},
   "outputs": [],
   "source": [
    "arr = np.zeros((105,105,105))"
   ]
  },
  {
   "cell_type": "code",
   "execution_count": 41,
   "id": "0069a9d6-d606-47c2-a594-109681b93460",
   "metadata": {},
   "outputs": [],
   "source": [
    "for line in init:\n",
    "    num = 0\n",
    "    order,(x,y,z) = line\n",
    "    if order == 'on':\n",
    "        num = 1\n",
    "    arr[x[0]:x[1]+1,y[0]:y[1]+1,z[0]:z[1]+1] = num"
   ]
  },
  {
   "cell_type": "code",
   "execution_count": 12,
   "id": "bf7e1796-ac1b-4f0b-8a6d-5e7ab6b0512f",
   "metadata": {},
   "outputs": [
    {
     "data": {
      "text/plain": [
       "653798"
      ]
     },
     "execution_count": 12,
     "metadata": {},
     "output_type": "execute_result"
    }
   ],
   "source": [
    "(arr == 1).sum()"
   ]
  },
  {
   "cell_type": "markdown",
   "id": "cde43ccc-f55d-4fb8-8281-ea39f781610d",
   "metadata": {},
   "source": [
    "--------\n",
    "# Task 2"
   ]
  },
  {
   "cell_type": "code",
   "execution_count": 54,
   "id": "1d2692d8-99a0-4d19-9bea-a24457ad2906",
   "metadata": {},
   "outputs": [],
   "source": [
    "def parse(line):\n",
    "    order, line = line.split(' ')\n",
    "    ranges = []\n",
    "    for obj in line.split(','):\n",
    "        ranges.append(list(map(lambda x: int(x),obj[2:].split('..'))))\n",
    "    return (order, ranges)"
   ]
  },
  {
   "cell_type": "code",
   "execution_count": 55,
   "id": "f1f1f805-7f85-4dbb-8824-6554983295e7",
   "metadata": {},
   "outputs": [],
   "source": [
    "data = [parse(l) for l in data]"
   ]
  },
  {
   "cell_type": "code",
   "execution_count": 82,
   "id": "0dd76e96-0cde-4b16-a2d7-a1952afd668a",
   "metadata": {},
   "outputs": [],
   "source": [
    "def merge(state, size, line):\n",
    "    \"\"\"\n",
    "    State is of the form [list,list,list]\n",
    "    of turned-on ranges in each axis\n",
    "    \"\"\"\n",
    "    x, y, z = state\n",
    "    action, (l_x,l_y,l_z) = line\n",
    "    \n",
    "    if action == 'on':\n",
    "        x_diff = set(np.arange(l_x[0],l_x[1]+1)) - x\n",
    "        y_diff = set(np.arange(l_y[0],l_y[1]+1)) - y\n",
    "        z_diff = set(np.arange(l_z[0],l_z[1]+1)) - z\n",
    "        \n",
    "        size += len(x_diff) * len(x_diff) * len(x_diff)\n",
    "        \n",
    "        x |= x_diff\n",
    "        y |= y_diff\n",
    "        z |= z_diff\n",
    "\n",
    "    elif action == 'off':\n",
    "        x_int = x & set(np.arange(l_x[0],l_x[1]+1))\n",
    "        y_int = y & set(np.arange(l_y[0],l_y[1]+1))\n",
    "        z_int = z & set(np.arange(l_z[0],l_z[1]+1))\n",
    "        \n",
    "        size -= len(x_int) * len(y_int) * len(z_int)\n",
    "\n",
    "        x -= x_int\n",
    "        y -= y_int\n",
    "        z -= z_int\n",
    "\n",
    "    return [x,y,z], size"
   ]
  },
  {
   "cell_type": "code",
   "execution_count": 83,
   "id": "7c2db644-a62e-42a4-99b5-b12c3f05d251",
   "metadata": {},
   "outputs": [],
   "source": [
    "state = [set(), set(), set()]\n",
    "size = 0\n",
    "for line in data[:20]:\n",
    "    state, size = merge(state, size, line)"
   ]
  },
  {
   "cell_type": "code",
   "execution_count": 86,
   "id": "68d08c25-05d5-48fc-a91e-4c93ebc116f4",
   "metadata": {},
   "outputs": [
    {
     "data": {
      "text/plain": [
       "635040"
      ]
     },
     "execution_count": 86,
     "metadata": {},
     "output_type": "execute_result"
    }
   ],
   "source": [
    "get_size(state)"
   ]
  },
  {
   "cell_type": "code",
   "execution_count": null,
   "id": "9d89588c-d341-4c1a-a67b-3eac6683eb39",
   "metadata": {},
   "outputs": [],
   "source": []
  },
  {
   "cell_type": "code",
   "execution_count": null,
   "id": "7093b36f-dca7-431c-bc7f-d6a6906627d5",
   "metadata": {},
   "outputs": [],
   "source": []
  },
  {
   "cell_type": "code",
   "execution_count": null,
   "id": "73b8bb89-86c8-4200-8cbd-edd7ac1b630a",
   "metadata": {},
   "outputs": [],
   "source": []
  },
  {
   "cell_type": "code",
   "execution_count": 80,
   "id": "8b56ea85-bf5a-484f-9f52-47e4e1c29535",
   "metadata": {},
   "outputs": [],
   "source": [
    "def get_size(state):\n",
    "    x,y,z = state\n",
    "    return len(x) * len(y) * len(z)"
   ]
  },
  {
   "cell_type": "code",
   "execution_count": null,
   "id": "ae5d9051-4145-4ca5-81ce-53fcf7729dcb",
   "metadata": {},
   "outputs": [],
   "source": []
  },
  {
   "cell_type": "code",
   "execution_count": null,
   "id": "5fcfae5a-8d67-48fa-b687-6f8bc583a0a3",
   "metadata": {},
   "outputs": [],
   "source": []
  },
  {
   "cell_type": "code",
   "execution_count": null,
   "id": "69b2cb2d-25d9-4b61-b8b6-3d9a10f51e37",
   "metadata": {},
   "outputs": [],
   "source": []
  },
  {
   "cell_type": "code",
   "execution_count": 21,
   "id": "e437ebd6-35a6-4de6-a651-e2c3e06736ad",
   "metadata": {},
   "outputs": [],
   "source": [
    "a = data[0][1][0]"
   ]
  },
  {
   "cell_type": "code",
   "execution_count": 26,
   "id": "703ed728-8d97-4097-b394-5c82c14e2442",
   "metadata": {},
   "outputs": [
    {
     "data": {
      "text/plain": [
       "[-9, 45]"
      ]
     },
     "execution_count": 26,
     "metadata": {},
     "output_type": "execute_result"
    }
   ],
   "source": [
    "a"
   ]
  },
  {
   "cell_type": "code",
   "execution_count": 28,
   "id": "ddef9aae-20dd-4ad5-8d8d-185cd86cd716",
   "metadata": {},
   "outputs": [
    {
     "data": {
      "text/plain": [
       "{-9,\n",
       " -8,\n",
       " -7,\n",
       " -6,\n",
       " -5,\n",
       " -4,\n",
       " -3,\n",
       " -2,\n",
       " -1,\n",
       " 0,\n",
       " 1,\n",
       " 2,\n",
       " 3,\n",
       " 4,\n",
       " 5,\n",
       " 6,\n",
       " 7,\n",
       " 8,\n",
       " 9,\n",
       " 10,\n",
       " 11,\n",
       " 12,\n",
       " 13,\n",
       " 14,\n",
       " 15,\n",
       " 16,\n",
       " 17,\n",
       " 18,\n",
       " 19,\n",
       " 20,\n",
       " 21,\n",
       " 22,\n",
       " 23,\n",
       " 24,\n",
       " 25,\n",
       " 26,\n",
       " 27,\n",
       " 28,\n",
       " 29,\n",
       " 30,\n",
       " 31,\n",
       " 32,\n",
       " 33,\n",
       " 34,\n",
       " 35,\n",
       " 36,\n",
       " 37,\n",
       " 38,\n",
       " 39,\n",
       " 40,\n",
       " 41,\n",
       " 42,\n",
       " 43,\n",
       " 44,\n",
       " 45}"
      ]
     },
     "execution_count": 28,
     "metadata": {},
     "output_type": "execute_result"
    }
   ],
   "source": [
    "set(np.arange(a[0],a[1]+1))"
   ]
  },
  {
   "cell_type": "code",
   "execution_count": null,
   "id": "ae07bc38-437f-4bf8-b216-86d2f0b881ba",
   "metadata": {},
   "outputs": [],
   "source": []
  },
  {
   "cell_type": "code",
   "execution_count": null,
   "id": "c92b63b8-02a7-4515-8873-32c1ef2f1824",
   "metadata": {},
   "outputs": [],
   "source": []
  },
  {
   "cell_type": "code",
   "execution_count": null,
   "id": "e034cf3f-1c8c-44b5-af0b-75ddae1bac94",
   "metadata": {},
   "outputs": [],
   "source": []
  },
  {
   "cell_type": "code",
   "execution_count": null,
   "id": "4e3413de-b607-4e27-b7e4-4f8f35491f54",
   "metadata": {},
   "outputs": [],
   "source": []
  },
  {
   "cell_type": "code",
   "execution_count": null,
   "id": "fbb40a93-09bd-4101-95b0-05ed2cd29b71",
   "metadata": {},
   "outputs": [],
   "source": []
  },
  {
   "cell_type": "code",
   "execution_count": null,
   "id": "1b120c0c-bd2d-4564-b0da-7149b7747160",
   "metadata": {},
   "outputs": [],
   "source": []
  },
  {
   "cell_type": "code",
   "execution_count": null,
   "id": "f77b254a-36ae-4812-897e-d368a83c2698",
   "metadata": {},
   "outputs": [],
   "source": []
  },
  {
   "cell_type": "code",
   "execution_count": null,
   "id": "29df7e5b-dcf2-4cfe-8984-86fd127cc270",
   "metadata": {},
   "outputs": [],
   "source": []
  },
  {
   "cell_type": "code",
   "execution_count": null,
   "id": "5ecfd4e9-0af0-4578-ad03-f0323e7b2a27",
   "metadata": {},
   "outputs": [],
   "source": []
  },
  {
   "cell_type": "code",
   "execution_count": null,
   "id": "bef6cfb0-6012-4e32-ade2-ea1a29a7b38f",
   "metadata": {},
   "outputs": [],
   "source": []
  },
  {
   "cell_type": "code",
   "execution_count": 103,
   "id": "3b14279c-4c2d-4557-be8e-6c4b44f265cf",
   "metadata": {},
   "outputs": [],
   "source": [
    "from scipy.sparse import dok_matrix, bsr_matrix"
   ]
  },
  {
   "cell_type": "code",
   "execution_count": 14,
   "id": "7576253d-d366-4ae3-913c-5dfe079c84f8",
   "metadata": {},
   "outputs": [],
   "source": [
    "import sparse"
   ]
  },
  {
   "cell_type": "code",
   "execution_count": 76,
   "id": "db767af6-0ef9-418c-85b2-0408830f2af7",
   "metadata": {},
   "outputs": [],
   "source": [
    "data = open('../inputs/input-day22').read().splitlines()"
   ]
  },
  {
   "cell_type": "code",
   "execution_count": 78,
   "id": "be8069ca-f4bb-4baf-9561-4a803e4e27ff",
   "metadata": {},
   "outputs": [],
   "source": [
    "data = [parse(l) for l in data]"
   ]
  },
  {
   "cell_type": "code",
   "execution_count": 93,
   "id": "b90100d3-bdd0-43e0-966d-05f429655b35",
   "metadata": {},
   "outputs": [],
   "source": [
    "arr = sparse.DOK(shape = (400000,400000,400000), dtype=int, fill_value=0)"
   ]
  },
  {
   "cell_type": "code",
   "execution_count": null,
   "id": "1a52d41d-d8ef-460a-a32c-a87c83884369",
   "metadata": {},
   "outputs": [],
   "source": [
    "for line in data:\n",
    "    num = 0\n",
    "    order,(x,y,z) = line\n",
    "    if order == 'on':\n",
    "        num = 1\n",
    "    arr[x[0]:x[1]+1,y[0]:y[1]+1,z[0]:z[1]+1] = num"
   ]
  },
  {
   "cell_type": "code",
   "execution_count": 85,
   "id": "97a9dcef-59c9-44a8-b809-57002381fc6a",
   "metadata": {},
   "outputs": [],
   "source": [
    "arr = sparse.COO(arr)"
   ]
  },
  {
   "cell_type": "code",
   "execution_count": 86,
   "id": "c5cb0e93-e4fa-4fa8-b737-3548a98fe2f6",
   "metadata": {},
   "outputs": [
    {
     "data": {
      "text/plain": [
       "653798"
      ]
     },
     "execution_count": 86,
     "metadata": {},
     "output_type": "execute_result"
    }
   ],
   "source": [
    "arr.sum()"
   ]
  },
  {
   "cell_type": "code",
   "execution_count": 71,
   "id": "4fa1a765-dbce-4403-86fe-688deee2a41a",
   "metadata": {},
   "outputs": [
    {
     "data": {
      "text/html": [
       "<table><tbody><tr><th style=\"text-align: left\">Format</th><td style=\"text-align: left\">coo</td></tr><tr><th style=\"text-align: left\">Data Type</th><td style=\"text-align: left\">bool</td></tr><tr><th style=\"text-align: left\">Shape</th><td style=\"text-align: left\">(200000, 200000, 200000)</td></tr><tr><th style=\"text-align: left\">nnz</th><td style=\"text-align: left\">0</td></tr><tr><th style=\"text-align: left\">Density</th><td style=\"text-align: left\">0.0</td></tr><tr><th style=\"text-align: left\">Read-only</th><td style=\"text-align: left\">True</td></tr><tr><th style=\"text-align: left\">Size</th><td style=\"text-align: left\">0</td></tr><tr><th style=\"text-align: left\">Storage ratio</th><td style=\"text-align: left\">0.0</td></tr></tbody></table>"
      ],
      "text/plain": [
       "<COO: shape=(200000, 200000, 200000), dtype=bool, nnz=0, fill_value=False>"
      ]
     },
     "execution_count": 71,
     "metadata": {},
     "output_type": "execute_result"
    }
   ],
   "source": [
    "arr"
   ]
  },
  {
   "cell_type": "code",
   "execution_count": 49,
   "id": "c0e5b7b4-cd7f-45c0-ae1a-28e6f1da2a73",
   "metadata": {},
   "outputs": [
    {
     "ename": "TypeError",
     "evalue": "'COO' object does not support item assignment",
     "output_type": "error",
     "traceback": [
      "\u001b[0;31m---------------------------------------------------------------------------\u001b[0m",
      "\u001b[0;31mTypeError\u001b[0m                                 Traceback (most recent call last)",
      "\u001b[0;32m/var/folders/tm/kwxmcdkj60gck7rdnxqb9s980000gn/T/ipykernel_56709/1448764698.py\u001b[0m in \u001b[0;36m<module>\u001b[0;34m\u001b[0m\n\u001b[0;32m----> 1\u001b[0;31m \u001b[0marr\u001b[0m\u001b[0;34m[\u001b[0m\u001b[0;36m5\u001b[0m\u001b[0;34m]\u001b[0m \u001b[0;34m=\u001b[0m \u001b[0;36m1\u001b[0m\u001b[0;34m\u001b[0m\u001b[0;34m\u001b[0m\u001b[0m\n\u001b[0m",
      "\u001b[0;31mTypeError\u001b[0m: 'COO' object does not support item assignment"
     ]
    }
   ],
   "source": [
    "arr[5] = 1"
   ]
  },
  {
   "cell_type": "code",
   "execution_count": 44,
   "id": "d93803b4-c03f-4914-9565-9fc14bbf68ca",
   "metadata": {},
   "outputs": [
    {
     "name": "stderr",
     "output_type": "stream",
     "text": [
      "/usr/local/lib/python3.9/site-packages/sparse/_utils.py:323: RuntimeWarning: invalid value encountered in double_scalars\n",
      "  density = np.float_(arr.nnz) / np.float_(arr.size)\n",
      "/usr/local/lib/python3.9/site-packages/sparse/_utils.py:343: RuntimeWarning: invalid value encountered in double_scalars\n",
      "  np.float_(arr.nbytes)\n"
     ]
    },
    {
     "data": {
      "text/html": [
       "<table><tbody><tr><th style=\"text-align: left\">Format</th><td style=\"text-align: left\">coo</td></tr><tr><th style=\"text-align: left\">Data Type</th><td style=\"text-align: left\">bool</td></tr><tr><th style=\"text-align: left\">Shape</th><td style=\"text-align: left\">(0, 0, 0)</td></tr><tr><th style=\"text-align: left\">nnz</th><td style=\"text-align: left\">0</td></tr><tr><th style=\"text-align: left\">Density</th><td style=\"text-align: left\">nan</td></tr><tr><th style=\"text-align: left\">Read-only</th><td style=\"text-align: left\">True</td></tr><tr><th style=\"text-align: left\">Size</th><td style=\"text-align: left\">0</td></tr><tr><th style=\"text-align: left\">Storage ratio</th><td style=\"text-align: left\">nan</td></tr></tbody></table>"
      ],
      "text/plain": [
       "<COO: shape=(0, 0, 0), dtype=bool, nnz=0, fill_value=False>"
      ]
     },
     "execution_count": 44,
     "metadata": {},
     "output_type": "execute_result"
    }
   ],
   "source": [
    "(arr == 1)"
   ]
  },
  {
   "cell_type": "code",
   "execution_count": null,
   "id": "884959f0-8da2-494b-8854-df23218ca3c2",
   "metadata": {},
   "outputs": [],
   "source": []
  },
  {
   "cell_type": "code",
   "execution_count": null,
   "id": "327a13f7-e231-4bfa-b3ce-310ecc0b2b36",
   "metadata": {},
   "outputs": [],
   "source": []
  },
  {
   "cell_type": "code",
   "execution_count": null,
   "id": "6091f473-f153-4102-a328-4a60bdf13da9",
   "metadata": {},
   "outputs": [],
   "source": []
  },
  {
   "cell_type": "code",
   "execution_count": null,
   "id": "32a7fc03-6cb7-41fe-bd1e-97df1e345fea",
   "metadata": {},
   "outputs": [],
   "source": []
  },
  {
   "cell_type": "code",
   "execution_count": null,
   "id": "6cccd9da-2907-4641-b960-af07d60d6694",
   "metadata": {},
   "outputs": [],
   "source": []
  }
 ],
 "metadata": {
  "kernelspec": {
   "display_name": "Python 3",
   "language": "python",
   "name": "python3"
  },
  "language_info": {
   "codemirror_mode": {
    "name": "ipython",
    "version": 3
   },
   "file_extension": ".py",
   "mimetype": "text/x-python",
   "name": "python",
   "nbconvert_exporter": "python",
   "pygments_lexer": "ipython3",
   "version": "3.9.9"
  }
 },
 "nbformat": 4,
 "nbformat_minor": 5
}
