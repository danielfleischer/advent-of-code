{
 "cells": [
  {
   "cell_type": "code",
   "execution_count": 1,
   "metadata": {},
   "outputs": [],
   "source": [
    "data = list(map(lambda l: l.split(' | '), open('../inputs/input-day8').read().splitlines()))"
   ]
  },
  {
   "cell_type": "code",
   "execution_count": 2,
   "metadata": {},
   "outputs": [],
   "source": [
    "inputs = [l[0].split(' ') for l in data]\n",
    "output = [l[1].split(' ') for l in data]"
   ]
  },
  {
   "cell_type": "markdown",
   "metadata": {},
   "source": [
    "----\n",
    "## Task 1"
   ]
  },
  {
   "cell_type": "code",
   "execution_count": 3,
   "metadata": {},
   "outputs": [],
   "source": [
    "lengths = [len(l) for line in output for l in line]"
   ]
  },
  {
   "cell_type": "code",
   "execution_count": 4,
   "metadata": {},
   "outputs": [
    {
     "data": {
      "text/plain": [
       "255"
      ]
     },
     "execution_count": 4,
     "metadata": {},
     "output_type": "execute_result"
    }
   ],
   "source": [
    "sum([lengths.count(i) for i in [2,4,3,7]])"
   ]
  },
  {
   "cell_type": "markdown",
   "metadata": {},
   "source": [
    "----\n",
    "## Task 2"
   ]
  },
  {
   "cell_type": "code",
   "execution_count": 5,
   "metadata": {},
   "outputs": [],
   "source": [
    "from collections import Counter"
   ]
  },
  {
   "cell_type": "code",
   "execution_count": 6,
   "metadata": {},
   "outputs": [],
   "source": [
    "letter_mapping = {\"abcefg\":\"0\", \n",
    "                  \"cf\":\"1\",\n",
    "                  \"acdeg\":\"2\",\n",
    "                  \"acdfg\":\"3\",\n",
    "                  \"bcdf\":\"4\",\n",
    "                  \"abdfg\":\"5\",\n",
    "                  \"abdefg\":\"6\",\n",
    "                  \"acf\":\"7\",\n",
    "                  \"abcdefg\":\"8\",\n",
    "                  \"abcdfg\":\"9\"}"
   ]
  },
  {
   "cell_type": "markdown",
   "metadata": {},
   "source": [
    "# Logic \n",
    "Examining letters distributions in `letter_mapping` we can identify the mapping easily:"
   ]
  },
  {
   "cell_type": "code",
   "execution_count": 7,
   "metadata": {},
   "outputs": [
    {
     "name": "stdout",
     "output_type": "stream",
     "text": [
      "[('f', 9), ('a', 8), ('c', 8), ('g', 7), ('d', 7), ('b', 6), ('e', 4)]\n"
     ]
    }
   ],
   "source": [
    "print(Counter(\"\".join(letter_mapping.keys())).most_common())"
   ]
  },
  {
   "cell_type": "markdown",
   "metadata": {},
   "source": [
    "1. Letter b,e,f have unique distributions and can be identified immediately.\n",
    "2. Letter c appears in a 4-letter digit, as opposed to a, where both appear 8 times.\n",
    "3. Letter d appears in a 4-letter digit, as opposed to g, where both appear 7 times. "
   ]
  },
  {
   "cell_type": "code",
   "execution_count": 8,
   "metadata": {},
   "outputs": [],
   "source": [
    "def solve(line):\n",
    "    C = Counter(\"\".join(line)).most_common()\n",
    "    \n",
    "    ans = {}\n",
    "    ans[C[0][0]] = 'f'\n",
    "    ans[C[-1][0]] = 'e'\n",
    "    ans[C[-2][0]] = 'b'\n",
    "    ans[C[1][0]],ans[C[2][0]] = ('c','a') if 4 in lengths(line, C[1][0]) else ('a','c')\n",
    "    ans[C[-3][0]],ans[C[-4][0]] = ('d','g') if 4 in lengths(line, C[-3][0]) else ('g','d')\n",
    "    \n",
    "    return ans"
   ]
  },
  {
   "cell_type": "code",
   "execution_count": 9,
   "metadata": {},
   "outputs": [],
   "source": [
    "lengths = lambda line, c: [len(l) for l in line if c in l]"
   ]
  },
  {
   "cell_type": "code",
   "execution_count": 10,
   "metadata": {},
   "outputs": [],
   "source": [
    "pred = lambda l, m: int(\"\".join([letter_mapping[\"\".join(sorted([m[seg] for seg in n]))] for n in l]))"
   ]
  },
  {
   "cell_type": "code",
   "execution_count": 11,
   "metadata": {},
   "outputs": [
    {
     "data": {
      "text/plain": [
       "982158"
      ]
     },
     "execution_count": 11,
     "metadata": {},
     "output_type": "execute_result"
    }
   ],
   "source": [
    "sum([pred(o, solve(i)) for i,o in zip(inputs, output)])"
   ]
  },
  {
   "cell_type": "code",
   "execution_count": null,
   "metadata": {},
   "outputs": [],
   "source": []
  }
 ],
 "metadata": {
  "kernelspec": {
   "display_name": "Python 3",
   "language": "python",
   "name": "python3"
  },
  "language_info": {
   "codemirror_mode": {
    "name": "ipython",
    "version": 3
   },
   "file_extension": ".py",
   "mimetype": "text/x-python",
   "name": "python",
   "nbconvert_exporter": "python",
   "pygments_lexer": "ipython3",
   "version": "3.9.9"
  }
 },
 "nbformat": 4,
 "nbformat_minor": 4
}
