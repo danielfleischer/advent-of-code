{
 "cells": [
  {
   "cell_type": "raw",
   "id": "2e729f75-f2c2-4961-905e-56168cde1150",
   "metadata": {},
   "source": [
    "Player 1 starting position: 7\n",
    "Player 2 starting position: 9"
   ]
  },
  {
   "cell_type": "code",
   "execution_count": 1,
   "id": "dd055d41-7d2d-4921-a3dc-bb8f61188a9c",
   "metadata": {},
   "outputs": [],
   "source": [
    "import functools\n",
    "from copy import deepcopy\n",
    "import numpy as np"
   ]
  },
  {
   "cell_type": "code",
   "execution_count": 2,
   "id": "cf8faace-d996-4a1a-adbe-1ad71184a0da",
   "metadata": {},
   "outputs": [],
   "source": [
    "class Dice():\n",
    "    def __init__(self):\n",
    "        self.dice = (i for i in range(1,101))\n",
    "\n",
    "    def throw(self):\n",
    "        try:\n",
    "            return next(self.dice)\n",
    "        except:\n",
    "            self.dice = (i for i in range(1,101))\n",
    "            return next(self.dice)"
   ]
  },
  {
   "cell_type": "code",
   "execution_count": 3,
   "id": "ab61c0d6-1b25-4bb4-8430-35c8c7a951d1",
   "metadata": {},
   "outputs": [],
   "source": [
    "def step(pos, amount):\n",
    "    pos += amount\n",
    "    pos %= 10\n",
    "    return 10 if pos == 0 else pos"
   ]
  },
  {
   "cell_type": "code",
   "execution_count": 4,
   "id": "e6309bf5-0dcb-4838-b9f5-2270bfb1002f",
   "metadata": {},
   "outputs": [],
   "source": [
    "scores = [0,0]\n",
    "pos = [7,9]"
   ]
  },
  {
   "cell_type": "code",
   "execution_count": 5,
   "id": "1a5e54eb-62c9-4278-8080-3b0bc5abd3d5",
   "metadata": {},
   "outputs": [],
   "source": [
    "d = Dice()"
   ]
  },
  {
   "cell_type": "code",
   "execution_count": 6,
   "id": "e4a68c0f-d690-46de-8306-b1d3c2c66e1d",
   "metadata": {},
   "outputs": [],
   "source": [
    "total = 0\n",
    "sides = 0\n",
    "while scores[0] < 1000 and scores[1] < 1000:\n",
    "    num = sum(d.throw() for _ in range(3))\n",
    "    pos[sides] = step(pos[sides], num)\n",
    "    scores[sides] += pos[sides]\n",
    "    total += 3\n",
    "    sides ^= 1"
   ]
  },
  {
   "cell_type": "code",
   "execution_count": 7,
   "id": "4c59ea46-a8c6-4099-a33b-51f4ea287424",
   "metadata": {},
   "outputs": [
    {
     "data": {
      "text/plain": [
       "679329"
      ]
     },
     "execution_count": 7,
     "metadata": {},
     "output_type": "execute_result"
    }
   ],
   "source": [
    "min(scores) * total"
   ]
  },
  {
   "cell_type": "markdown",
   "id": "e4de9d0f-dd01-4762-b0a8-92eb13468a1a",
   "metadata": {},
   "source": [
    "-----\n",
    "## Quantum Die"
   ]
  },
  {
   "cell_type": "code",
   "execution_count": 8,
   "id": "e2bce76d-1998-47df-b913-ff156119165f",
   "metadata": {},
   "outputs": [],
   "source": [
    "scores = [0,0]\n",
    "pos = [7,9]"
   ]
  },
  {
   "cell_type": "code",
   "execution_count": 9,
   "id": "d391368b-9745-4437-a4bd-cc0e555e1bcf",
   "metadata": {},
   "outputs": [],
   "source": [
    "steps = []\n",
    "for i in [1,2,3]:\n",
    "    for j in [1,2,3]:\n",
    "        for k in [1,2,3]:\n",
    "            steps.append(i+j+k)"
   ]
  },
  {
   "cell_type": "code",
   "execution_count": 10,
   "id": "e1a77d6d-428d-4202-8d10-8fd5c916f32f",
   "metadata": {},
   "outputs": [],
   "source": [
    "from collections import Counter"
   ]
  },
  {
   "cell_type": "code",
   "execution_count": 11,
   "id": "c2075975-0ea6-426c-9054-2b88e825f3e5",
   "metadata": {},
   "outputs": [],
   "source": [
    "steps = Counter(steps).most_common()"
   ]
  },
  {
   "cell_type": "code",
   "execution_count": 173,
   "id": "1c21ed93-4b94-4f67-8b45-2c25787a7599",
   "metadata": {},
   "outputs": [],
   "source": [
    "def game(pos, scores, sides, factor, wins):\n",
    "    if scores[0] >=21:\n",
    "        wins[0] += factor\n",
    "        return\n",
    "    elif scores[1] >= 21:\n",
    "        wins[1] += factor\n",
    "        return\n",
    "    \n",
    "    for (num, amount) in steps:\n",
    "        pos_ = pos.copy()\n",
    "        scores_ = scores.copy()\n",
    "        pos_[sides] = step(pos_[sides], num)\n",
    "        scores_[sides] += pos_[sides]\n",
    "        game(pos_, scores_, 1-sides, factor * amount, wins)"
   ]
  },
  {
   "cell_type": "code",
   "execution_count": 174,
   "id": "8ff41f4a-f186-44d0-b97d-b53efca30eed",
   "metadata": {},
   "outputs": [],
   "source": [
    "wins = [0,0]"
   ]
  },
  {
   "cell_type": "code",
   "execution_count": 175,
   "id": "7b203ab7-74e3-4f49-9090-b2efbbe3ac1b",
   "metadata": {},
   "outputs": [],
   "source": [
    "game([7,9], [0,0], 0, 1, wins)"
   ]
  },
  {
   "cell_type": "code",
   "execution_count": 177,
   "id": "63d0b5aa-72e8-440d-b56c-e3c44b026753",
   "metadata": {},
   "outputs": [
    {
     "data": {
      "text/plain": [
       "433315766324816"
      ]
     },
     "execution_count": 177,
     "metadata": {},
     "output_type": "execute_result"
    }
   ],
   "source": [
    "max(wins)"
   ]
  },
  {
   "cell_type": "markdown",
   "id": "abb38434-97cb-4c2a-9fbe-2eea2d6b8412",
   "metadata": {},
   "source": [
    "-------"
   ]
  },
  {
   "cell_type": "code",
   "execution_count": 193,
   "id": "626f3249-9e61-4926-82ba-3ed9eec80142",
   "metadata": {},
   "outputs": [],
   "source": [
    "cache = {}"
   ]
  },
  {
   "cell_type": "code",
   "execution_count": 194,
   "id": "fdc1f7dd-001e-40ea-8b47-da78c3623225",
   "metadata": {},
   "outputs": [],
   "source": [
    "def game(cache, pos, scores, sides, factor, wins):\n",
    "    if scores in cache:\n",
    "        win = cache[scores]\n",
    "        wins[0] += win[0]\n",
    "        wins[1] += win[1]\n",
    "        return win\n",
    "    \n",
    "    if max(scores) > 20:\n",
    "        if scores[0] > scores[1]:\n",
    "            wins[0] += factor\n",
    "            cache[scores] = 0\n",
    "        else:\n",
    "            wins[1] += factor\n",
    "            cache[scores] = 1\n",
    "        return\n",
    "    \n",
    "    for (num, amount) in steps:\n",
    "        pos_ = pos.copy()\n",
    "        scores_ = list(scores)\n",
    "        pos_[sides] = step(pos_[sides], num)\n",
    "        scores_[sides] += pos_[sides]\n",
    "        game(cache, pos_, tuple(scores_), 1-sides, factor * amount, wins)"
   ]
  },
  {
   "cell_type": "code",
   "execution_count": 195,
   "id": "df8beb02-d8b4-4e05-9828-e7a876cc934d",
   "metadata": {},
   "outputs": [],
   "source": [
    "wins = [0,0]"
   ]
  },
  {
   "cell_type": "code",
   "execution_count": 196,
   "id": "a7c9b53c-548e-47ab-a912-e301775483d7",
   "metadata": {},
   "outputs": [],
   "source": [
    "game(cache, [7,9], (0,0), 0, 1, wins)"
   ]
  },
  {
   "cell_type": "code",
   "execution_count": 197,
   "id": "1084808c-53c8-482e-9455-bfa2630bd035",
   "metadata": {},
   "outputs": [
    {
     "data": {
      "text/plain": [
       "433315766324816"
      ]
     },
     "execution_count": 197,
     "metadata": {},
     "output_type": "execute_result"
    }
   ],
   "source": [
    "max(wins)"
   ]
  },
  {
   "cell_type": "code",
   "execution_count": null,
   "id": "148eff0e-1e7d-45e0-a61b-ae20bd690381",
   "metadata": {},
   "outputs": [],
   "source": []
  },
  {
   "cell_type": "code",
   "execution_count": null,
   "id": "71f715b2-367b-413e-be9c-deb1fa0ec92d",
   "metadata": {},
   "outputs": [],
   "source": []
  },
  {
   "cell_type": "code",
   "execution_count": 149,
   "id": "184bfe88-fa1c-45aa-ad8f-4397461d0976",
   "metadata": {},
   "outputs": [],
   "source": [
    "def game(cache, pair, pos, scores, sides, factor, wins):\n",
    "    if scores[-1].sum() > 0 or scores[:,-1].sum() > 0:\n",
    "        if\n",
    "    if max(scores) > 20:\n",
    "        if scores[0] > scores[1]:\n",
    "            wins[0] += factor\n",
    "        else:\n",
    "            wins[1] += factor\n",
    "        return\n",
    "    \n",
    "    if pair is not None:\n",
    "        num, amount = pair\n",
    "\n",
    "        if pos in cache:\n",
    "        \n",
    "            scores = cache[pos][0]\n",
    "            pos = cache[pos][1]\n",
    "            \n",
    "            sides = 1 - sides\n",
    "            factor *= amount\n",
    "            \n",
    "        else:\n",
    "            o_pos = deepcopy(pos)\n",
    "            \n",
    "            pos = list(pos)\n",
    "            scores = scores.copy()\n",
    "            \n",
    "            pos[sides] = step(pos[sides], num)\n",
    "            scores[sides] += pos[sides]\n",
    "\n",
    "            sides = 1 - sides\n",
    "            factor *= amount\n",
    "            \n",
    "            cache[o_pos] = [scores, pos]\n",
    "    \n",
    "    for s in steps:    \n",
    "        game(cache, s, tuple(pos), scores, sides, factor, wins)"
   ]
  },
  {
   "cell_type": "code",
   "execution_count": 149,
   "id": "f6cc055f-5623-424a-a2d0-aaec281fb3ff",
   "metadata": {},
   "outputs": [],
   "source": [
    "def game(cache, pair, pos, scores, sides, factor, wins):\n",
    "    if max(scores) > 20:\n",
    "        if scores[0] > scores[1]:\n",
    "            wins[0] += factor\n",
    "        else:\n",
    "            wins[1] += factor\n",
    "        return\n",
    "    \n",
    "    if pair is not None:\n",
    "        num, amount = pair\n",
    "\n",
    "        if pos in cache:\n",
    "        \n",
    "            scores = cache[pos][0]\n",
    "            pos = cache[pos][1]\n",
    "            \n",
    "            sides = 1 - sides\n",
    "            factor *= amount\n",
    "            \n",
    "        else:\n",
    "            o_pos = deepcopy(pos)\n",
    "            \n",
    "            pos = list(pos)\n",
    "            scores = scores.copy()\n",
    "            \n",
    "            pos[sides] = step(pos[sides], num)\n",
    "            scores[sides] += pos[sides]\n",
    "\n",
    "            sides = 1 - sides\n",
    "            factor *= amount\n",
    "            \n",
    "            cache[o_pos] = [scores, pos]\n",
    "    \n",
    "    for s in steps:    \n",
    "        game(cache, s, tuple(pos), scores, sides, factor, wins)"
   ]
  },
  {
   "cell_type": "code",
   "execution_count": 150,
   "id": "f930a530-4a82-4f9d-afbe-96caaad68d6a",
   "metadata": {},
   "outputs": [],
   "source": [
    "wins = [0,0]"
   ]
  },
  {
   "cell_type": "code",
   "execution_count": null,
   "id": "cb9ce1ef-dfb0-4a5b-a51b-2506c915d7f5",
   "metadata": {},
   "outputs": [],
   "source": [
    "game(cache, None, (7,9), [0,0], 0, 1, wins)"
   ]
  },
  {
   "cell_type": "code",
   "execution_count": 146,
   "id": "849a09ca-e585-46f3-9247-727e5582b739",
   "metadata": {},
   "outputs": [
    {
     "data": {
      "text/plain": [
       "{(7, 9): [[25, 16], [3, 9]],\n",
       " (3, 9): [[25, 16], [3, 5]],\n",
       " (3, 5): [[25, 16], [9, 5]],\n",
       " (9, 5): [[25, 16], [9, 1]],\n",
       " (9, 1): [[25, 16], [5, 1]],\n",
       " (5, 1): [[25, 16], [5, 7]],\n",
       " (5, 7): [[25, 16], [1, 7]],\n",
       " (1, 7): [[25, 16], [1, 3]],\n",
       " (1, 3): [[25, 16], [7, 3]]}"
      ]
     },
     "execution_count": 146,
     "metadata": {},
     "output_type": "execute_result"
    }
   ],
   "source": [
    "cache"
   ]
  },
  {
   "cell_type": "code",
   "execution_count": 147,
   "id": "cf65b4d3-252f-47a7-98e9-fb4b96572bbb",
   "metadata": {},
   "outputs": [
    {
     "data": {
      "text/plain": [
       "[322828855, 0]"
      ]
     },
     "execution_count": 147,
     "metadata": {},
     "output_type": "execute_result"
    }
   ],
   "source": [
    "wins"
   ]
  },
  {
   "cell_type": "code",
   "execution_count": null,
   "id": "244950ee-80d8-4635-af88-e8a68c9d92bc",
   "metadata": {},
   "outputs": [],
   "source": [
    "tuple"
   ]
  },
  {
   "cell_type": "code",
   "execution_count": 35,
   "id": "75fa4769-1fb2-4d3b-a52d-8bcea9490da9",
   "metadata": {},
   "outputs": [],
   "source": [
    "a = (4,6)"
   ]
  },
  {
   "cell_type": "code",
   "execution_count": 39,
   "id": "8273cf23-0c0c-4d19-8a5d-b76d56d53da6",
   "metadata": {},
   "outputs": [
    {
     "data": {
      "text/plain": [
       "4589898368"
      ]
     },
     "execution_count": 39,
     "metadata": {},
     "output_type": "execute_result"
    }
   ],
   "source": [
    "id(a)"
   ]
  },
  {
   "cell_type": "code",
   "execution_count": 38,
   "id": "6e8ae43d-36ed-4753-ad49-67fa7d463765",
   "metadata": {},
   "outputs": [
    {
     "data": {
      "text/plain": [
       "4589898368"
      ]
     },
     "execution_count": 38,
     "metadata": {},
     "output_type": "execute_result"
    }
   ],
   "source": [
    "id(tuple(a))"
   ]
  },
  {
   "cell_type": "code",
   "execution_count": 33,
   "id": "4e1d3498-a35e-4a9e-9b62-9e9c4d96e0b2",
   "metadata": {},
   "outputs": [
    {
     "ename": "TypeError",
     "evalue": "tuple.count() takes exactly one argument (0 given)",
     "output_type": "error",
     "traceback": [
      "\u001b[0;31m---------------------------------------------------------------------------\u001b[0m",
      "\u001b[0;31mTypeError\u001b[0m                                 Traceback (most recent call last)",
      "\u001b[0;32m/var/folders/tm/kwxmcdkj60gck7rdnxqb9s980000gn/T/ipykernel_30587/1413001509.py\u001b[0m in \u001b[0;36m<module>\u001b[0;34m\u001b[0m\n\u001b[0;32m----> 1\u001b[0;31m \u001b[0ma\u001b[0m \u001b[0;34m=\u001b[0m \u001b[0ma\u001b[0m\u001b[0;34m.\u001b[0m\u001b[0mcount\u001b[0m\u001b[0;34m(\u001b[0m\u001b[0;34m)\u001b[0m\u001b[0;34m\u001b[0m\u001b[0;34m\u001b[0m\u001b[0m\n\u001b[0m",
      "\u001b[0;31mTypeError\u001b[0m: tuple.count() takes exactly one argument (0 given)"
     ]
    }
   ],
   "source": [
    "a = a.count()"
   ]
  },
  {
   "cell_type": "code",
   "execution_count": 15,
   "id": "5aa91341-65a9-4c60-8d41-93f30d53bc4f",
   "metadata": {},
   "outputs": [
    {
     "data": {
      "text/plain": [
       "[322828855, 0]"
      ]
     },
     "execution_count": 15,
     "metadata": {},
     "output_type": "execute_result"
    }
   ],
   "source": [
    "wins"
   ]
  },
  {
   "cell_type": "code",
   "execution_count": 494,
   "id": "23a5c135-c19d-44f8-9e1a-05c1e02816eb",
   "metadata": {},
   "outputs": [
    {
     "data": {
      "text/plain": [
       "322828855"
      ]
     },
     "execution_count": 494,
     "metadata": {},
     "output_type": "execute_result"
    }
   ],
   "source": [
    "max(wins)"
   ]
  },
  {
   "cell_type": "code",
   "execution_count": 426,
   "id": "a0df649e-3228-46fb-bef2-520219e46e9f",
   "metadata": {},
   "outputs": [],
   "source": [
    "a = wins[0] = 4"
   ]
  },
  {
   "cell_type": "code",
   "execution_count": 428,
   "id": "7b557c7f-e4cb-4372-895b-6c0e3f3888be",
   "metadata": {},
   "outputs": [
    {
     "data": {
      "text/plain": [
       "4"
      ]
     },
     "execution_count": 428,
     "metadata": {},
     "output_type": "execute_result"
    }
   ],
   "source": [
    "a"
   ]
  },
  {
   "cell_type": "code",
   "execution_count": null,
   "id": "8be053b5-77b6-44f2-b71a-17e3cfb93bab",
   "metadata": {},
   "outputs": [],
   "source": []
  },
  {
   "cell_type": "code",
   "execution_count": null,
   "id": "b7914086-9172-4ade-92fa-d7e474380de2",
   "metadata": {},
   "outputs": [],
   "source": []
  },
  {
   "cell_type": "code",
   "execution_count": 383,
   "id": "82029d5c-2357-4f57-98a4-39b5cfe0addf",
   "metadata": {},
   "outputs": [
    {
     "data": {
      "text/plain": [
       "433315766324816"
      ]
     },
     "execution_count": 383,
     "metadata": {},
     "output_type": "execute_result"
    }
   ],
   "source": [
    "max(wins)"
   ]
  }
 ],
 "metadata": {
  "kernelspec": {
   "display_name": "Python 3",
   "language": "python",
   "name": "python3"
  },
  "language_info": {
   "codemirror_mode": {
    "name": "ipython",
    "version": 3
   },
   "file_extension": ".py",
   "mimetype": "text/x-python",
   "name": "python",
   "nbconvert_exporter": "python",
   "pygments_lexer": "ipython3",
   "version": "3.9.9"
  }
 },
 "nbformat": 4,
 "nbformat_minor": 5
}
