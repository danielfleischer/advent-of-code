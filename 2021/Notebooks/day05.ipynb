{
 "cells": [
  {
   "cell_type": "code",
   "execution_count": 1,
   "metadata": {},
   "outputs": [],
   "source": [
    "import numpy as np"
   ]
  },
  {
   "cell_type": "code",
   "execution_count": 2,
   "metadata": {},
   "outputs": [],
   "source": [
    "data = open('../inputs/input-day5').read().splitlines()"
   ]
  },
  {
   "cell_type": "code",
   "execution_count": 3,
   "metadata": {},
   "outputs": [],
   "source": [
    "pairs = []\n",
    "for i in data:\n",
    "    line = i.split(' -> ')\n",
    "    x,y = line[0].split(',')\n",
    "    p1 = (int(x),int(y))\n",
    "    x,y = line[1].split(',')\n",
    "    p2 = (int(x),int(y))\n",
    "    pairs.append((p1, p2))"
   ]
  },
  {
   "cell_type": "code",
   "execution_count": 4,
   "metadata": {},
   "outputs": [
    {
     "data": {
      "text/plain": [
       "989"
      ]
     },
     "execution_count": 4,
     "metadata": {},
     "output_type": "execute_result"
    }
   ],
   "source": [
    "nums = []\n",
    "for l in pairs:\n",
    "    (p1x,p1y),(p2x,p2y) = l\n",
    "    nums += p1x,p1y,p2x,p2y\n",
    "max(nums)"
   ]
  },
  {
   "cell_type": "markdown",
   "metadata": {},
   "source": [
    "-----\n",
    "## Task 1"
   ]
  },
  {
   "cell_type": "markdown",
   "metadata": {},
   "source": [
    "Filter only horizontal and vertical lines:"
   ]
  },
  {
   "cell_type": "code",
   "execution_count": 5,
   "metadata": {},
   "outputs": [],
   "source": [
    "pairs_hv = []\n",
    "for p in pairs:\n",
    "    p1, p2 = p\n",
    "    if p1[0] == p2[0] or p1[1] == p2[1]:\n",
    "        pair = sorted([p1,p2])\n",
    "        pairs_hv.append((pair[0], pair[1]))"
   ]
  },
  {
   "cell_type": "code",
   "execution_count": 6,
   "metadata": {},
   "outputs": [],
   "source": [
    "arr = np.zeros((1000,1000))"
   ]
  },
  {
   "cell_type": "markdown",
   "metadata": {},
   "source": [
    "Plotting the lines:"
   ]
  },
  {
   "cell_type": "code",
   "execution_count": 7,
   "metadata": {},
   "outputs": [],
   "source": [
    "for p in pairs_hv:\n",
    "    arr[p[0][0]:p[1][0] + 1, p[0][1]:p[1][1] + 1] += 1"
   ]
  },
  {
   "cell_type": "markdown",
   "metadata": {},
   "source": [
    "Counting intersections of more than 1 lines:"
   ]
  },
  {
   "cell_type": "code",
   "execution_count": 8,
   "metadata": {},
   "outputs": [
    {
     "data": {
      "text/plain": [
       "4993"
      ]
     },
     "execution_count": 8,
     "metadata": {},
     "output_type": "execute_result"
    }
   ],
   "source": [
    "(arr > 1).sum()"
   ]
  },
  {
   "cell_type": "markdown",
   "metadata": {},
   "source": [
    "-----\n",
    "## Task 2"
   ]
  },
  {
   "cell_type": "markdown",
   "metadata": {},
   "source": [
    "Diagonal lines as well."
   ]
  },
  {
   "cell_type": "code",
   "execution_count": 9,
   "metadata": {},
   "outputs": [],
   "source": [
    "arr = np.zeros((1000,1000))"
   ]
  },
  {
   "cell_type": "markdown",
   "metadata": {},
   "source": [
    "Plotting the lines:"
   ]
  },
  {
   "cell_type": "code",
   "execution_count": 10,
   "metadata": {},
   "outputs": [],
   "source": [
    "def plot_diagonal(blk):\n",
    "    for i in range(len(blk)):\n",
    "        blk[i,i] += 1"
   ]
  },
  {
   "cell_type": "code",
   "execution_count": 11,
   "metadata": {},
   "outputs": [],
   "source": [
    "def plot_diagonal2(blk):\n",
    "    \"Opposite diagonal\"\n",
    "    for i in range(len(blk)):\n",
    "        blk[len(blk)-i -1 ,i] += 1"
   ]
  },
  {
   "cell_type": "markdown",
   "metadata": {},
   "source": [
    "We sort the pairs for horizontal and vertical lines so python slices work:"
   ]
  },
  {
   "cell_type": "code",
   "execution_count": 12,
   "metadata": {},
   "outputs": [],
   "source": [
    "sorted_pairs = []\n",
    "for p in pairs:\n",
    "    p1,p2 = p\n",
    "    if p1[0] < p2[0] or p1[1] < p2[1]:\n",
    "        sorted_pairs.append((p1,p2))\n",
    "    else:\n",
    "        sorted_pairs.append((p2,p1))"
   ]
  },
  {
   "cell_type": "code",
   "execution_count": 13,
   "metadata": {},
   "outputs": [],
   "source": [
    "for p in sorted_pairs:\n",
    "    if p[0][0] == p[1][0] or p[0][1] == p[1][1]:\n",
    "        arr[p[0][0]:p[1][0]+1, p[0][1]:p[1][1]+1] += 1\n",
    "    else:\n",
    "        if p[1][1] < p[0][1]:\n",
    "            plot_diagonal2(arr[p[0][0]:p[1][0]+1, p[1][1]:p[0][1]+1])\n",
    "        elif p[1][0] < p[0][0]:\n",
    "            plot_diagonal2(arr[p[1][0]:p[0][0]+1, p[0][1]:p[1][1]+1])\n",
    "        else:\n",
    "            plot_diagonal(arr[p[0][0]:p[1][0]+1, p[0][1]:p[1][1]+1])"
   ]
  },
  {
   "cell_type": "code",
   "execution_count": 14,
   "metadata": {},
   "outputs": [
    {
     "data": {
      "text/plain": [
       "21101"
      ]
     },
     "execution_count": 14,
     "metadata": {},
     "output_type": "execute_result"
    }
   ],
   "source": [
    "(arr > 1).sum()"
   ]
  },
  {
   "cell_type": "code",
   "execution_count": null,
   "metadata": {},
   "outputs": [],
   "source": []
  }
 ],
 "metadata": {
  "kernelspec": {
   "display_name": "Python 3",
   "language": "python",
   "name": "python3"
  },
  "language_info": {
   "codemirror_mode": {
    "name": "ipython",
    "version": 3
   },
   "file_extension": ".py",
   "mimetype": "text/x-python",
   "name": "python",
   "nbconvert_exporter": "python",
   "pygments_lexer": "ipython3",
   "version": "3.9.9"
  }
 },
 "nbformat": 4,
 "nbformat_minor": 4
}
