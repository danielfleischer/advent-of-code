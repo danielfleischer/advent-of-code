{
 "cells": [
  {
   "cell_type": "code",
   "execution_count": 1,
   "metadata": {},
   "outputs": [],
   "source": [
    "data = open('../inputs/input-day10').read().splitlines()"
   ]
  },
  {
   "cell_type": "markdown",
   "metadata": {},
   "source": [
    "# Task 1\n",
    "Poorman's stack, looking for mismatch."
   ]
  },
  {
   "cell_type": "code",
   "execution_count": 3,
   "metadata": {},
   "outputs": [],
   "source": [
    "def corrupt(line):\n",
    "    stack = []\n",
    "    for c in line:\n",
    "        if c in '({<[':\n",
    "            stack.append(c)\n",
    "            continue\n",
    "        \n",
    "        top = stack[-1]\n",
    "        if ((top == '(' and c == ')') or\n",
    "            (top == '[' and c == ']') or\n",
    "            (top == '{' and c == '}') or\n",
    "            (top == '<' and c == '>')):\n",
    "            stack.pop()\n",
    "            continue\n",
    "        return c"
   ]
  },
  {
   "cell_type": "code",
   "execution_count": 4,
   "metadata": {},
   "outputs": [],
   "source": [
    "money = {')' : 3, ']' : 57, '}' : 1197, '>' : 25137}"
   ]
  },
  {
   "cell_type": "code",
   "execution_count": 5,
   "metadata": {},
   "outputs": [
    {
     "data": {
      "text/plain": [
       "442131"
      ]
     },
     "execution_count": 5,
     "metadata": {},
     "output_type": "execute_result"
    }
   ],
   "source": [
    "sum(money[ans] for l in data if (ans := corrupt(l)))"
   ]
  },
  {
   "cell_type": "markdown",
   "metadata": {},
   "source": [
    "-------"
   ]
  },
  {
   "cell_type": "markdown",
   "metadata": {},
   "source": [
    "# Task 2\n",
    "Reading the stack and calculating the score."
   ]
  },
  {
   "cell_type": "code",
   "execution_count": 6,
   "metadata": {},
   "outputs": [],
   "source": [
    "clean = [l for l in data if not corrupt(l)]"
   ]
  },
  {
   "cell_type": "code",
   "execution_count": 8,
   "metadata": {},
   "outputs": [],
   "source": [
    "matching = {'(':')','[':']','{':'}','<':'>'}\n",
    "money = [')',']','}','>']"
   ]
  },
  {
   "cell_type": "code",
   "execution_count": 9,
   "metadata": {},
   "outputs": [],
   "source": [
    "def score(line):\n",
    "    total = 0\n",
    "    stack = []\n",
    "    \n",
    "    for c in line:\n",
    "        if c in '({<[':\n",
    "            stack.append(c)\n",
    "            continue\n",
    "        \n",
    "        top = stack[-1]\n",
    "        if ((top == '(' and c == ')') or\n",
    "            (top == '[' and c == ']') or\n",
    "            (top == '{' and c == '}') or\n",
    "            (top == '<' and c == '>')):\n",
    "            stack.pop()\n",
    "            continue\n",
    "            \n",
    "    missing = [matching[c] for c in stack[-1::-1]]\n",
    "    for c in missing:\n",
    "        total *= 5\n",
    "        total += money.index(c) + 1\n",
    "\n",
    "    return total"
   ]
  },
  {
   "cell_type": "markdown",
   "metadata": {},
   "source": [
    "Median value:"
   ]
  },
  {
   "cell_type": "code",
   "execution_count": 10,
   "metadata": {},
   "outputs": [
    {
     "data": {
      "text/plain": [
       "3646451424"
      ]
     },
     "execution_count": 10,
     "metadata": {},
     "output_type": "execute_result"
    }
   ],
   "source": [
    "sorted(score(l) for l in clean)[len(clean) // 2]"
   ]
  },
  {
   "cell_type": "code",
   "execution_count": null,
   "metadata": {},
   "outputs": [],
   "source": []
  }
 ],
 "metadata": {
  "kernelspec": {
   "display_name": "Python 3",
   "language": "python",
   "name": "python3"
  },
  "language_info": {
   "codemirror_mode": {
    "name": "ipython",
    "version": 3
   },
   "file_extension": ".py",
   "mimetype": "text/x-python",
   "name": "python",
   "nbconvert_exporter": "python",
   "pygments_lexer": "ipython3",
   "version": "3.9.9"
  }
 },
 "nbformat": 4,
 "nbformat_minor": 4
}
